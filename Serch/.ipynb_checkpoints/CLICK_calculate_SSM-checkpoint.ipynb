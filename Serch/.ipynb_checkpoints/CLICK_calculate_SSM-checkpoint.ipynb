{
 "cells": [
  {
   "cell_type": "markdown",
   "metadata": {},
   "source": [
    "# Algoritmo Click\n",
    "## Generacion de cliques\n",
    "+ Se generan con biopandas para obtener los atomos de  CαCα  y sus coordenadas.\n",
    "+ Se calcula la distancia y se genera un grafo completo con la distancia entre cada par de atomos.\n",
    "+ Se restringen los enlaces por una distancia dada y se generan los cliques que tengas un numero k de elementos para pertencer al clique.\n",
    "+ Una ves generados los cliques de cada proteina se extraen sus coordenadas para poderlas comparar"
   ]
  },
  {
   "cell_type": "code",
   "execution_count": 1,
   "metadata": {},
   "outputs": [],
   "source": [
    "#libreria de analisis de datos y una caracterizacion para su facil lectura.\n",
    "import pandas as pd\n",
    "pd.set_option('display.float_format', lambda x: '%.5f' % x)\n",
    "pd.set_option('max_rows', 100)\n",
    "pd.set_option('max_columns', 40)\n",
    "pd.set_option('display.max_colwidth', -1)\n",
    "#libreria de generacion de rede y cliques\n",
    "import networkx as nx,community\n",
    "\n",
    "#libreria de visualizacion de datos y un formato dado\n",
    "import matplotlib.pyplot as plt\n",
    "plt.style.use('ggplot')\n",
    "font = {'family' : 'sans',\n",
    "        'weight' : 'bold',\n",
    "        'size'   : 20}\n",
    "plt.rc('font', **font)\n",
    "plt.rcParams['xtick.labelsize'] = 16\n",
    "plt.rcParams['axes.labelsize'] = 18\n",
    "plt.rcParams['ytick.labelsize'] = 16\n",
    "plt.rcParams[u'figure.figsize'] = (16,8)\n",
    "\n",
    "#mas librerias que voy obteniendo\n",
    "import biopandas.pdb as bp\n",
    "biop = bp.PandasPdb() #libreria de lectura de pdbs\n",
    "\n",
    "#libreria de calculo de distancia euclidiana\n",
    "from scipy.spatial.distance import pdist, squareform\n",
    "\n",
    "#libreria de mate\n",
    "import numpy as np\n",
    "\n",
    "#libreria de iteraciones\n",
    "import itertools as it\n",
    "\n",
    "#Libreria de MA para RMSD\n",
    "import sys\n",
    "sys.path.append('math_tricks/')\n",
    "import math_vect_tools as mvt\n",
    "\n",
    "#Libreria de graficacion interactiva\n",
    "import plotly.plotly as py\n",
    "import plotly.graph_objs as go"
   ]
  },
  {
   "cell_type": "code",
   "execution_count": 2,
   "metadata": {},
   "outputs": [],
   "source": [
    "# Aqui se cambiaria por los archivos a leer pdbs sin modificar\n",
    "path1 = '1xxa.pdb'\n",
    "path2 = '1tig.pdb'\n",
    "\n",
    "#funcion de lectura con biopandas\n",
    "def read_biopdb(path):\n",
    "    \"\"\"Extrae las cordenadas de los atomos de C_alfa y los acomoda en un vector\n",
    "    devuelve un dataframe con las coordenadas y el numero de residuo\"\"\"\n",
    "    df = biop.read_pdb(path)\n",
    "    df_atom = df.df['ATOM']\n",
    "    #OJO AQUI ESTA ADECUADO AL PDB   para elegir solo un frame en trj_0 y trj_0_A [:1805]\n",
    "    df_ca = df_atom[[\n",
    "        'atom_number', 'atom_name', 'residue_name', 'residue_number',\n",
    "        'x_coord', 'y_coord', 'z_coord'\n",
    "    ]]\n",
    "    columna_vector = []\n",
    "    for i in zip(df_ca.x_coord.tolist(), df_ca.y_coord.tolist(),\n",
    "                 df_ca.z_coord.tolist()):\n",
    "        columna_vector.append(np.array(i))\n",
    "\n",
    "    df_ca['vector'] = columna_vector\n",
    "    return (df_ca)"
   ]
  },
  {
   "cell_type": "code",
   "execution_count": 3,
   "metadata": {},
   "outputs": [
    {
     "name": "stderr",
     "output_type": "stream",
     "text": [
      "C:\\Users\\serch\\Anaconda3\\lib\\site-packages\\ipykernel_launcher.py:21: SettingWithCopyWarning:\n",
      "\n",
      "\n",
      "A value is trying to be set on a copy of a slice from a DataFrame.\n",
      "Try using .loc[row_indexer,col_indexer] = value instead\n",
      "\n",
      "See the caveats in the documentation: http://pandas.pydata.org/pandas-docs/stable/indexing.html#indexing-view-versus-copy\n",
      "\n"
     ]
    }
   ],
   "source": [
    "#lectura de pdbs\n",
    "df_ca1 = read_biopdb(path1)\n",
    "df_ca2 = read_biopdb(path2)"
   ]
  },
  {
   "cell_type": "code",
   "execution_count": 4,
   "metadata": {},
   "outputs": [
    {
     "data": {
      "text/html": [
       "<div>\n",
       "<style scoped>\n",
       "    .dataframe tbody tr th:only-of-type {\n",
       "        vertical-align: middle;\n",
       "    }\n",
       "\n",
       "    .dataframe tbody tr th {\n",
       "        vertical-align: top;\n",
       "    }\n",
       "\n",
       "    .dataframe thead th {\n",
       "        text-align: right;\n",
       "    }\n",
       "</style>\n",
       "<table border=\"1\" class=\"dataframe\">\n",
       "  <thead>\n",
       "    <tr style=\"text-align: right;\">\n",
       "      <th></th>\n",
       "      <th>atom_number</th>\n",
       "      <th>atom_name</th>\n",
       "      <th>residue_name</th>\n",
       "      <th>residue_number</th>\n",
       "      <th>x_coord</th>\n",
       "      <th>y_coord</th>\n",
       "      <th>z_coord</th>\n",
       "      <th>vector</th>\n",
       "    </tr>\n",
       "  </thead>\n",
       "  <tbody>\n",
       "    <tr>\n",
       "      <th>0</th>\n",
       "      <td>1</td>\n",
       "      <td>N</td>\n",
       "      <td>LEU</td>\n",
       "      <td>82</td>\n",
       "      <td>28.39000</td>\n",
       "      <td>57.09300</td>\n",
       "      <td>26.05600</td>\n",
       "      <td>[28.39, 57.093, 26.056]</td>\n",
       "    </tr>\n",
       "    <tr>\n",
       "      <th>1</th>\n",
       "      <td>2</td>\n",
       "      <td>CA</td>\n",
       "      <td>LEU</td>\n",
       "      <td>82</td>\n",
       "      <td>28.95200</td>\n",
       "      <td>56.59300</td>\n",
       "      <td>24.81300</td>\n",
       "      <td>[28.952, 56.593, 24.813]</td>\n",
       "    </tr>\n",
       "    <tr>\n",
       "      <th>2</th>\n",
       "      <td>3</td>\n",
       "      <td>C</td>\n",
       "      <td>LEU</td>\n",
       "      <td>82</td>\n",
       "      <td>28.02100</td>\n",
       "      <td>57.00900</td>\n",
       "      <td>23.67800</td>\n",
       "      <td>[28.021, 57.009, 23.678]</td>\n",
       "    </tr>\n",
       "    <tr>\n",
       "      <th>3</th>\n",
       "      <td>4</td>\n",
       "      <td>O</td>\n",
       "      <td>LEU</td>\n",
       "      <td>82</td>\n",
       "      <td>26.79900</td>\n",
       "      <td>56.96700</td>\n",
       "      <td>23.81800</td>\n",
       "      <td>[26.799, 56.967, 23.818]</td>\n",
       "    </tr>\n",
       "    <tr>\n",
       "      <th>4</th>\n",
       "      <td>5</td>\n",
       "      <td>CB</td>\n",
       "      <td>LEU</td>\n",
       "      <td>82</td>\n",
       "      <td>29.10200</td>\n",
       "      <td>55.06200</td>\n",
       "      <td>24.87700</td>\n",
       "      <td>[29.102, 55.062, 24.877]</td>\n",
       "    </tr>\n",
       "    <tr>\n",
       "      <th>5</th>\n",
       "      <td>6</td>\n",
       "      <td>CG</td>\n",
       "      <td>LEU</td>\n",
       "      <td>82</td>\n",
       "      <td>30.44100</td>\n",
       "      <td>54.43800</td>\n",
       "      <td>24.44500</td>\n",
       "      <td>[30.441, 54.438, 24.445]</td>\n",
       "    </tr>\n",
       "    <tr>\n",
       "      <th>6</th>\n",
       "      <td>7</td>\n",
       "      <td>CD1</td>\n",
       "      <td>LEU</td>\n",
       "      <td>82</td>\n",
       "      <td>30.68500</td>\n",
       "      <td>53.13500</td>\n",
       "      <td>25.21800</td>\n",
       "      <td>[30.685, 53.135, 25.218]</td>\n",
       "    </tr>\n",
       "    <tr>\n",
       "      <th>7</th>\n",
       "      <td>8</td>\n",
       "      <td>CD2</td>\n",
       "      <td>LEU</td>\n",
       "      <td>82</td>\n",
       "      <td>30.48300</td>\n",
       "      <td>54.20200</td>\n",
       "      <td>22.93500</td>\n",
       "      <td>[30.483, 54.202, 22.935]</td>\n",
       "    </tr>\n",
       "    <tr>\n",
       "      <th>8</th>\n",
       "      <td>9</td>\n",
       "      <td>N</td>\n",
       "      <td>LYS</td>\n",
       "      <td>83</td>\n",
       "      <td>28.61300</td>\n",
       "      <td>57.38300</td>\n",
       "      <td>22.54800</td>\n",
       "      <td>[28.613, 57.383, 22.548]</td>\n",
       "    </tr>\n",
       "    <tr>\n",
       "      <th>9</th>\n",
       "      <td>10</td>\n",
       "      <td>CA</td>\n",
       "      <td>LYS</td>\n",
       "      <td>83</td>\n",
       "      <td>27.87700</td>\n",
       "      <td>57.84000</td>\n",
       "      <td>21.37600</td>\n",
       "      <td>[27.877, 57.84, 21.376]</td>\n",
       "    </tr>\n",
       "  </tbody>\n",
       "</table>\n",
       "</div>"
      ],
      "text/plain": [
       "   atom_number atom_name residue_name  residue_number  x_coord  y_coord  \\\n",
       "0  1            N         LEU          82             28.39000 57.09300   \n",
       "1  2            CA        LEU          82             28.95200 56.59300   \n",
       "2  3            C         LEU          82             28.02100 57.00900   \n",
       "3  4            O         LEU          82             26.79900 56.96700   \n",
       "4  5            CB        LEU          82             29.10200 55.06200   \n",
       "5  6            CG        LEU          82             30.44100 54.43800   \n",
       "6  7            CD1       LEU          82             30.68500 53.13500   \n",
       "7  8            CD2       LEU          82             30.48300 54.20200   \n",
       "8  9            N         LYS          83             28.61300 57.38300   \n",
       "9  10           CA        LYS          83             27.87700 57.84000   \n",
       "\n",
       "   z_coord                    vector  \n",
       "0 26.05600  [28.39, 57.093, 26.056]   \n",
       "1 24.81300  [28.952, 56.593, 24.813]  \n",
       "2 23.67800  [28.021, 57.009, 23.678]  \n",
       "3 23.81800  [26.799, 56.967, 23.818]  \n",
       "4 24.87700  [29.102, 55.062, 24.877]  \n",
       "5 24.44500  [30.441, 54.438, 24.445]  \n",
       "6 25.21800  [30.685, 53.135, 25.218]  \n",
       "7 22.93500  [30.483, 54.202, 22.935]  \n",
       "8 22.54800  [28.613, 57.383, 22.548]  \n",
       "9 21.37600  [27.877, 57.84, 21.376]   "
      ]
     },
     "execution_count": 4,
     "metadata": {},
     "output_type": "execute_result"
    }
   ],
   "source": [
    "df_ca1.head(10)"
   ]
  },
  {
   "cell_type": "code",
   "execution_count": 5,
   "metadata": {},
   "outputs": [],
   "source": [
    "#se calcula la distancia entre cada par de nodos.\n",
    "def distancia_entre_atomos(df_ca):\n",
    "    \"\"\"df_ca: Dataframe con coordenadas de los atomos alfa, devuelve otro DataFrame\n",
    "    df_da: Dataframe como una matriz de adyacencias donde el valor es la distancia\"\"\"\n",
    "    df_ca = df_ca[df_ca.atom_name == 'CA']\n",
    "    distancias = []\n",
    "    #se calcula la distancia euclidiana entre cada atomo de carbon alfalfa\n",
    "    for v,i in zip(df_ca.vector,df_ca.atom_number):\n",
    "        distancia_un_atomo = []\n",
    "        for av,j in zip(df_ca.vector,df_ca.atom_number):\n",
    "            distancia = pdist([v,av],metric='euclidean').item()\n",
    "            distancia_un_atomo.append(distancia)\n",
    "        distancias.append(distancia_un_atomo)\n",
    "    #se genera la matriz de adyacencias para la red\n",
    "    df_da = pd.DataFrame(index=df_ca.atom_number,columns=df_ca.atom_number,data=distancias)\n",
    "    return(df_da)"
   ]
  },
  {
   "cell_type": "code",
   "execution_count": 6,
   "metadata": {},
   "outputs": [],
   "source": [
    "#generacion de matriz de adyacencias\n",
    "df_da1 = distancia_entre_atomos(df_ca1)\n",
    "df_da2 = distancia_entre_atomos(df_ca2)\n",
    "#podriamos solo mantener la matriz diagonal y dejarla como un array de arrays"
   ]
  },
  {
   "cell_type": "code",
   "execution_count": 7,
   "metadata": {},
   "outputs": [],
   "source": [
    "def gen_3_cliques(df_da, dth = 10, k=3):\n",
    "    \"\"\"Genera n-cliques de dataframe de distancias, tomando en cuenta los enlaces menores o iguales\n",
    "    a dth y forma los k-cliques que elijas \n",
    "    valores por default:\n",
    "    dth=10, k=3\"\"\"\n",
    "    #red de distancias completa\n",
    "    red = nx.from_pandas_adjacency(df_da)\n",
    "#     print(\"red antes de filtros:\",nx.info(red))\n",
    "\n",
    "    #filtro de distancias\n",
    "    edgesstrong = [(u,v) for (u,v,d) in red.edges(data=True) if d[\"weight\"] <= dth]\n",
    "\n",
    "    red = nx.Graph(edgesstrong)\n",
    "#     print(\"==\"*20)\n",
    "#     print(\"red despues de filtros:\",nx.info(red))\n",
    "\n",
    "    n_cliques = [clq for clq in nx.find_cliques(red) if len(clq) >=k]\n",
    "    print('numero de cliques maximos encontrados:',len(n_cliques))\n",
    "\n",
    "    lista_cliques = []\n",
    "    for i,v in enumerate(n_cliques):\n",
    "        a = list(it.combinations(v,k))\n",
    "        for j in a:\n",
    "            if set(j) not in lista_cliques:\n",
    "                #recuerda que para comparar elementos utiliza set, y apilalos como set\n",
    "                lista_cliques.append(set(j))\n",
    "\n",
    "    df_lc = pd.DataFrame(lista_cliques)            \n",
    "    print(\"numero de %s-cliques posibles:\" % (k), df_lc.shape[0])\n",
    "    return(df_lc)"
   ]
  },
  {
   "cell_type": "code",
   "execution_count": 8,
   "metadata": {},
   "outputs": [
    {
     "name": "stdout",
     "output_type": "stream",
     "text": [
      "numero de cliques maximos encontrados: 1429\n",
      "numero de 3-cliques posibles: 13625\n",
      "----------------------------------------------------------------------------------------------------------------------\n",
      "numero de cliques maximos encontrados: 246\n",
      "numero de 3-cliques posibles: 2102\n"
     ]
    }
   ],
   "source": [
    "df_lc1 = gen_3_cliques(df_da1,dth = 10, k=3)\n",
    "print('--'*59)\n",
    "df_lc2 = gen_3_cliques(df_da2,dth = 10, k=3)"
   ]
  },
  {
   "cell_type": "code",
   "execution_count": 9,
   "metadata": {},
   "outputs": [],
   "source": [
    "#funcion para obtener las coordenadas del clique\n",
    "def get_coord_clique(df_ca,df_lc):\n",
    "    \"\"\"df_ca:DataFrame con coordenadas de carbonos alfa,\n",
    "    df_lc:Dataframe con cliques, si coincide el numero del atomo\n",
    "    le pega su coordenada y genera una matriz de vectores que contiene \n",
    "    las coordenadas de cada atomo ordenado de izquierda a derecha como \n",
    "    aparecen en df_lc\"\"\"\n",
    "    lista_matriz_coordendas = [] #lista para apilar las coordenadas\n",
    "    x = []\n",
    "    y = []\n",
    "    z = []\n",
    "\n",
    "    for i in df_lc.index:\n",
    "        #si coincide el numero de atomo con el numero de atomo del clique le coloca el vector de coordenadas\n",
    "        x_temp = np.array(df_ca[df_ca.atom_number==df_lc.iloc[i,0]].vector.values[0])\n",
    "        y_temp = np.array(df_ca[df_ca.atom_number==df_lc.iloc[i,1]].vector.values[0])\n",
    "        z_temp = np.array(df_ca[df_ca.atom_number==df_lc.iloc[i,2]].vector.values[0])\n",
    "        mat_dist = [x_temp,y_temp,z_temp]\n",
    "\n",
    "        x.append(x_temp)\n",
    "        y.append(y_temp)\n",
    "        z.append(z_temp)\n",
    "        lista_matriz_coordendas.append(mat_dist)\n",
    "\n",
    "    df_lc['coord_clique_0'] = x\n",
    "    df_lc['coord_clique_1'] = y\n",
    "    df_lc['coord_clique_2'] = z\n",
    "    df_lc['matriz_coordenadas'] = lista_matriz_coordendas #columna con coordenadas del clique\n",
    "    return(df_lc)"
   ]
  },
  {
   "cell_type": "code",
   "execution_count": 10,
   "metadata": {},
   "outputs": [],
   "source": [
    "#pegado de coordendas\n",
    "df_lc1 = get_coord_clique(df_ca1,df_lc1)\n",
    "df_lc2 = get_coord_clique(df_ca2,df_lc2)"
   ]
  },
  {
   "cell_type": "markdown",
   "metadata": {},
   "source": [
    "## Comparacion de cliques\n",
    "### Pasos para comparar\n",
    "Para obtener el __RMSD__ es necesario primero rotar y trasladar un atomo con respecto al atomo a comparar (de la otra proteina) y calcular el __RMSD__.\n",
    "\n",
    "Siguiendo al metodologia en *Using quaternions to calculate RMSD*.\n",
    "Se generan las funciones de traslado y rotacion.\n",
    "\n",
    "__Segunda parte esto va mas abajo__\n",
    "\n",
    "Para obtener C, $\\alpha$, $\\beta$ con:\n",
    "   + $\\Phi$\n",
    "   + $\\Psi$\n",
    "1. Matriz de comparacion de Estructura Secundaria (SSM)\n",
    "2. Solvente Accesible (SAM)"
   ]
  },
  {
   "cell_type": "markdown",
   "metadata": {},
   "source": [
    "### Traslacion\n",
    "Se calcula el baricentro de cada clique en ambas moleculas y se generan nuevos vectores que van del baricentro al atomo llamados $\\hat{x}$.\n",
    "\n",
    "El baricentro se calcula como $\\bar{x} =$($\\frac{(x_1 + x_2 + x_3)}{3}$,$\\frac{(y_1 + y_2 + y_3)}{3}$,$\\frac{(z_1 + z_2 + z_3)}{3}$)\n",
    "\n",
    "$\\hat{x} = x_k - \\bar{x}$"
   ]
  },
  {
   "cell_type": "code",
   "execution_count": 11,
   "metadata": {},
   "outputs": [],
   "source": [
    "# funcion de calculo de baricentro\n",
    "def baricenter_clique(df_lc):\n",
    "    \"\"\"se calcula el baricentro de cada clique \n",
    "    siguiendo la formula de arriba.\n",
    "    df_lc: Dataframe con los cliques y coordenadas\n",
    "    regresa\n",
    "    df_lc:Dataframe con el baricentro de ese clique\"\"\"\n",
    "    coord_center = []\n",
    "    for i in range(df_lc.shape[0]):\n",
    "        #se extrae las coordenadas de los atomos\n",
    "        A = df_lc.coord_clique_0[i]\n",
    "        B = df_lc.coord_clique_1[i]\n",
    "        C = df_lc.coord_clique_2[i]\n",
    "        #se calcula el punto promedio\n",
    "        x1 = round((A[0]+B[0]+C[0])/3,5)\n",
    "        y1 = round((A[1]+B[1]+C[1])/3,5)\n",
    "        z1 = round((A[2]+B[2]+C[2])/3,5)\n",
    "        #se apila para pegarlo en una sola fila correspondiente al clique\n",
    "        coord_center.append(np.array([x1,y1,z1]))\n",
    "\n",
    "    #generacion de la columna\n",
    "    df_lc['baricentro_clique'] = coord_center\n",
    "    return(df_lc)"
   ]
  },
  {
   "cell_type": "code",
   "execution_count": 12,
   "metadata": {},
   "outputs": [],
   "source": [
    "#calculo de baricentro\n",
    "df_lc1 = baricenter_clique(df_lc1)\n",
    "df_lc2 = baricenter_clique(df_lc2)"
   ]
  },
  {
   "cell_type": "code",
   "execution_count": 13,
   "metadata": {},
   "outputs": [],
   "source": [
    "def center_vectors(df_lc):\n",
    "    \"\"\"Calculo de los vectores gorro que van del baricentro \n",
    "    a la coordenada del atomo\n",
    "    df_lc: Dataframe con baricentro y coordenadas de cada clique\n",
    "    regresa\n",
    "    df_lc:Dataframe con vectores gorro en otra columna\"\"\"\n",
    "    vec1 = []\n",
    "    vec2 = []\n",
    "    vec3 = []\n",
    "    vectores_centricos = []\n",
    "    for i,val in enumerate(df_lc.baricentro_clique):\n",
    "    #     extraccion de coordenadas de cada atomo\n",
    "        A = df_lc.coord_clique_0[i]\n",
    "        B = df_lc.coord_clique_1[i]\n",
    "        C = df_lc.coord_clique_2[i]\n",
    "        #calculo de vectores DEL CENTRO AL PUNTO COORDENADA\n",
    "        vec_a = np.round(list(A - val),6)\n",
    "        vec_b = np.round(list(B - val),6)\n",
    "        vec_c = np.round(list(C - val),6)\n",
    "    #SE APILAN PARA QUE ESTEN EN EL MISMO CLIQUE CORRESPONDIENTE A CADA UNO.\n",
    "        vec1.append(vec_a)\n",
    "        vec2.append(vec_b)\n",
    "        vec3.append(vec_c)\n",
    "        vectores_centricos.append(np.array([vec_a,vec_b,vec_c]))\n",
    "    #se generan la columna de cada vector correspondiente a cada atomo\n",
    "    df_lc['vec_gorro_0'] = vec1\n",
    "    df_lc['vec_gorro_1'] = vec2\n",
    "    df_lc['vec_gorro_2'] = vec3\n",
    "    df_lc['vectores_gorro'] = vectores_centricos\n",
    "    return(df_lc)"
   ]
  },
  {
   "cell_type": "code",
   "execution_count": 14,
   "metadata": {},
   "outputs": [],
   "source": [
    "#generacion de vectores gorro\n",
    "df_lc1 = center_vectors(df_lc1)\n",
    "df_lc2 = center_vectors(df_lc2)"
   ]
  },
  {
   "cell_type": "markdown",
   "metadata": {},
   "source": [
    "### Rotacion\n",
    "Para generar la rotacion tenemos que generar la *matriz gigante* que depende de los elemento de la matriz de correlacion $R_{ij}$\n",
    "\n",
    "Donde $R_{ij} = \\sum\\limits_{k=1}^N{x_{ik}y_{jk}}, i,j = 1,2,3$\n",
    "\n",
    "Posteriormente se calculan los eigenvalores y eigenvectores de esta matriz gigante\n",
    "Para obtener los quaterniones y generar la matriz de rotacion y con ella calcular el vector rotado\n",
    "\n",
    "Por ultimo, se suma al vector rotado y trasladado se suma el baricentro del clique a comparar y se calcula el RMSD"
   ]
  },
  {
   "cell_type": "code",
   "execution_count": 15,
   "metadata": {},
   "outputs": [],
   "source": [
    "# No conviene utilizar pandas ya que tarda al acceder a los datos, buscar la manera\n",
    "#usual para acceder a los datos y seguir avanzando\n",
    "prueba1 = df_lc1.values\n",
    "prueba2 = df_lc2.values"
   ]
  },
  {
   "cell_type": "code",
   "execution_count": 16,
   "metadata": {},
   "outputs": [],
   "source": [
    "# for i,val in enumerate(df_lc1.columns):\n",
    "#     print(i,val)"
   ]
  },
  {
   "cell_type": "code",
   "execution_count": 17,
   "metadata": {},
   "outputs": [],
   "source": [
    "#funcion para obtener los valores de la prerotacion, de los valores de la matriz de correlaciones\n",
    "# en check por que se utiliza vector gorro en lugar de posiciones iniciales \n",
    "# el articulo no dice...\n",
    "\n",
    "def R_ij(i,j,a1=0,a2=0):\n",
    "    \"\"\"Recuerda que 0-->1,1-->2,2-->2 en los indices de R\n",
    "    a1,a2 corresponden a que atomo quieren que se compare \n",
    "    \"\"\"\n",
    "    #se genera un diccionario para asignar los valores como en el articulo \n",
    "    #y no tener equivocaciones\n",
    "    dict_convencion = {1:0,2:1,3:2}\n",
    "\n",
    "    i = dict_convencion.get(i)\n",
    "    j = dict_convencion.get(j)\n",
    "    \n",
    "    values = []\n",
    "    append = values.append\n",
    "    for k in [8,9,10]: #8,9,10 corresponde a la columna de vec_gorro_0,_1,_2\n",
    "        atom_value1 = prueba1[:,k][a1][i]\n",
    "        atom_value2 = prueba2[:,k][a2][j]\n",
    "        value = atom_value1 * atom_value2\n",
    "        append(value)\n",
    "        \n",
    "    valor = sum(values)\n",
    "    return(valor)"
   ]
  },
  {
   "cell_type": "code",
   "execution_count": 18,
   "metadata": {},
   "outputs": [
    {
     "name": "stdout",
     "output_type": "stream",
     "text": [
      "3.93 µs ± 57.8 ns per loop (mean ± std. dev. of 7 runs, 100000 loops each)\n"
     ]
    }
   ],
   "source": [
    "%%timeit\n",
    "R_ij(1,1)"
   ]
  },
  {
   "cell_type": "code",
   "execution_count": 19,
   "metadata": {},
   "outputs": [],
   "source": [
    "def giant_matrix(i,j):\n",
    "    \"\"\"cliques a comparar: i,j\n",
    "    desde aqui se itera sobre cada i y hay que variar los vectores \n",
    "    coordenada \n",
    "    Regresa la matriz gigante (matriz simetrica del articulo)\"\"\"\n",
    "    #primer renglon\n",
    "    R11R22R33 = (R_ij(1,1,a1=i,a2=j) + R_ij(2,2,a1=i,a2=j) + R_ij(3,3,a1=i,a2=j))\n",
    "    R23_R32 = (R_ij(2,3,a1=i,a2=j) - R_ij(3,2,a1=i,a2=j))\n",
    "    R31_R13 = (R_ij(3,1,a1=i,a2=j) - R_ij(1,3,a1=i,a2=j))\n",
    "    R12_R21 = (R_ij(1,2,a1=i,a2=j) - R_ij(2,1,a1=i,a2=j))\n",
    "    #segundo renglon\n",
    "    R11_R22_R33 = (R_ij(1,1,a1=i,a2=j) - R_ij(2,2,a1=i,a2=j) - R_ij(3,3,a1=i,a2=j))\n",
    "    R12R21 = (R_ij(1,2,a1=i,a2=j) + R_ij(2,1,a1=i,a2=j))\n",
    "    R13R31 = (R_ij(1,3,a1=i,a2=j) + R_ij(3,1,a1=i,a2=j))\n",
    "    #tercer renglon\n",
    "    _R11R22_R33 = (-R_ij(1,1,a1=i,a2=j) + R_ij(2,2,a1=i,a2=j) - R_ij(3,3,a1=i,a2=j))\n",
    "    R23R32 = (R_ij(2,3,a1=i,a2=j) + R_ij(3,2,a1=0,a2=0))\n",
    "    #cuarto renglon\n",
    "    _R11_R22R33 = (-R_ij(1,1,a1=i,a2=j) - R_ij(2,2,a1=i,a2=j) + R_ij(3,3,a1=i,a2=j))\n",
    "\n",
    "    matriz_gigante = [\n",
    "        [R11R22R33, R23_R32 , R31_R13, R12_R21],\n",
    "        [R23_R32, R11_R22_R33, R12R21, R13R31],\n",
    "        [R31_R13, R12R21, _R11R22_R33, R23R32],\n",
    "        [R12_R21, R13R31, R23R32, _R11_R22R33]\n",
    "    ]\n",
    "    \n",
    "    return(matriz_gigante)"
   ]
  },
  {
   "cell_type": "code",
   "execution_count": 20,
   "metadata": {},
   "outputs": [
    {
     "name": "stdout",
     "output_type": "stream",
     "text": [
      "93.9 µs ± 1.9 µs per loop (mean ± std. dev. of 7 runs, 10000 loops each)\n"
     ]
    }
   ],
   "source": [
    "%%timeit\n",
    "giant_matrix(1,1)"
   ]
  },
  {
   "cell_type": "code",
   "execution_count": 21,
   "metadata": {},
   "outputs": [],
   "source": [
    "def rotation_matrix(matriz_gigante):\n",
    "    \"\"\"utilizando la funcion giant_matrix, fijando los valores de i,j\n",
    "    se calcula la matriz de rotacion con los eigenvectores y eigenvalores\n",
    "    arroja una matriz de rotacion que depende de la matriz gigante\n",
    "    \"\"\"\n",
    "    eignvalues,eigenvectors = np.linalg.eig(matriz_gigante)\n",
    "    q = eigenvectors[:,np.argmax(eignvalues)]\n",
    "    q0,q1,q2,q3 = q[0],q[1],q[2],q[3]\n",
    "    #matriz de rotacion con eigenvectores\n",
    "    mat_rot = np.array([\n",
    "                [(q0**2+q1**2-q2**2-q3**2), 2*(q1*q2-q0*q3),2*(q1*q3+q0*q2)],\n",
    "                [2*(q1*q2+q0*q3), (q0**2-q1**2+q2**2-q3**2),2*(q2*q3-q0*q1)],\n",
    "                [2*(q1*q3-q0*q2),2*(q2*q3+q0*q1), (q0**2-q1**2-q2**2+q3**2)]\n",
    "    ])\n",
    "    return(mat_rot)"
   ]
  },
  {
   "cell_type": "code",
   "execution_count": 22,
   "metadata": {},
   "outputs": [
    {
     "name": "stdout",
     "output_type": "stream",
     "text": [
      "203 µs ± 34 µs per loop (mean ± std. dev. of 7 runs, 1 loop each)\n"
     ]
    }
   ],
   "source": [
    "%%timeit\n",
    "rotation_matrix(giant_matrix(1,1))"
   ]
  },
  {
   "cell_type": "code",
   "execution_count": 23,
   "metadata": {},
   "outputs": [],
   "source": [
    "def rotation_vectors(vector_gorro,mat_rot):\n",
    "    \"\"\"obtencion de vector rotado,\n",
    "    utilizando la matriz de rotacion \n",
    "    y los vectores gorro a rotar y trasladar\"\"\"\n",
    "    #multiplicacion de matrices de cada vector rotado\n",
    "    coord_rot_tras = []\n",
    "    append = coord_rot_tras.append\n",
    "    matmul = np.matmul\n",
    "    for i in vector_gorro:\n",
    "        append(matmul(mat_rot,i.reshape(3,1)).T[0])\n",
    "\n",
    "    return(coord_rot_tras)"
   ]
  },
  {
   "cell_type": "code",
   "execution_count": 24,
   "metadata": {},
   "outputs": [
    {
     "name": "stdout",
     "output_type": "stream",
     "text": [
      "162 µs ± 33.3 µs per loop (mean ± std. dev. of 7 runs, 1 loop each)\n"
     ]
    }
   ],
   "source": [
    "%%timeit\n",
    "matriz_gigante = giant_matrix(1,1)\n",
    "mat_rot = rotation_matrix(matriz_gigante)\n",
    "x_rot = rotation_vectors(prueba1[:,11][1],mat_rot)\n",
    "x_rot"
   ]
  },
  {
   "cell_type": "code",
   "execution_count": 25,
   "metadata": {},
   "outputs": [],
   "source": [
    "def rmsd_between_cliques(atom_trans_rot,atom_to_compare):\n",
    "    \"\"\"Calculo de rmsd entre cliques tomando el atomo rotado y trasladado\n",
    "    y el atomo a comparar, por el momento solo imprime el resultado\"\"\"\n",
    "    # primer RMSD entre atomos\n",
    "    p12 = np.sum((np.array(atom_to_compare)-atom_trans_rot)**2,1)\n",
    "    rmsd_i = lambda i: np.sqrt(i)/3\n",
    "    rmsd_final = rmsd_i(p12).mean()\n",
    "    \n",
    "#     if rmsd_final <= 0.15: ##AQUI LOS DETECTA QUIENES CUMPLEN CON EL FILTRO...\n",
    "#         print('RMSD_final:', rmsd_final)"
   ]
  },
  {
   "cell_type": "code",
   "execution_count": 26,
   "metadata": {},
   "outputs": [],
   "source": [
    "def calculate_rmsd_rot_trans(atom1,atom2):\n",
    "    matriz_gigante = giant_matrix(atom1,atom2)\n",
    "    mat_rot = rotation_matrix(matriz_gigante)\n",
    "    x_rot = rotation_vectors(prueba1[:,11][atom1],mat_rot)\n",
    "    coord_rot_clique_2 = x_rot + np.array(prueba2[:,7][atom2])\n",
    "    rmsd_between_cliques(coord_rot_clique_2,np.array(prueba2[:,6][atom2]))"
   ]
  },
  {
   "cell_type": "code",
   "execution_count": 27,
   "metadata": {},
   "outputs": [
    {
     "name": "stdout",
     "output_type": "stream",
     "text": [
      "427 ms ± 6.09 ms per loop (mean ± std. dev. of 7 runs, 1 loop each)\n"
     ]
    }
   ],
   "source": [
    "%%timeit\n",
    "for i in range(df_lc2.shape[0]): \n",
    "    calculate_rmsd_rot_trans(10,i)"
   ]
  },
  {
   "cell_type": "code",
   "execution_count": 28,
   "metadata": {},
   "outputs": [],
   "source": [
    "# %%time\n",
    "# for j in range(df_lc1.shape[0]):\n",
    "#     for i in range(df_lc2.shape[0]):\n",
    "#         calculate_rmsd_rot_trans(j,i)\n",
    "\n",
    "# %%time\n",
    "#para quitarme el for anidado puedo hacerlo con este producto por lo que reduce ligeramente pero aun no se puede medir\n",
    "# #dado que son muchas operaciones 13000 * 2000\n",
    "# producto = it.product(df_lc1.index.values,df_lc2.index.values)\n",
    "# for i,j in producto[:100]:\n",
    "#     calculate_rmsd_rot_trans(j,i)"
   ]
  },
  {
   "cell_type": "markdown",
   "metadata": {},
   "source": [
    "## Calculo del SSM\n"
   ]
  },
  {
   "cell_type": "code",
   "execution_count": 29,
   "metadata": {},
   "outputs": [],
   "source": [
    "a1 = df_ca1.vector[0]\n",
    "a2 = df_ca1.vector[1]\n",
    "a3 = df_ca1.vector[2]\n",
    "a4 = df_ca1.vector[3]"
   ]
  },
  {
   "cell_type": "code",
   "execution_count": 30,
   "metadata": {},
   "outputs": [
    {
     "data": {
      "text/plain": [
       "320.02441899180957"
      ]
     },
     "execution_count": 30,
     "metadata": {},
     "output_type": "execute_result"
    }
   ],
   "source": [
    "mvt.dihedral(a1,a2,a3,a4)"
   ]
  },
  {
   "cell_type": "code",
   "execution_count": 31,
   "metadata": {},
   "outputs": [],
   "source": [
    "df_dh1 = df_ca1[df_ca1.atom_name.isin(['N','CA','C',])].reset_index()\n",
    "df_dh2 = df_ca2[df_ca2.atom_name.isin(['N','CA','C',])].reset_index()"
   ]
  },
  {
   "cell_type": "code",
   "execution_count": 32,
   "metadata": {},
   "outputs": [
    {
     "data": {
      "text/html": [
       "<div>\n",
       "<style scoped>\n",
       "    .dataframe tbody tr th:only-of-type {\n",
       "        vertical-align: middle;\n",
       "    }\n",
       "\n",
       "    .dataframe tbody tr th {\n",
       "        vertical-align: top;\n",
       "    }\n",
       "\n",
       "    .dataframe thead th {\n",
       "        text-align: right;\n",
       "    }\n",
       "</style>\n",
       "<table border=\"1\" class=\"dataframe\">\n",
       "  <thead>\n",
       "    <tr style=\"text-align: right;\">\n",
       "      <th></th>\n",
       "      <th>index</th>\n",
       "      <th>atom_number</th>\n",
       "      <th>atom_name</th>\n",
       "      <th>residue_name</th>\n",
       "      <th>residue_number</th>\n",
       "      <th>x_coord</th>\n",
       "      <th>y_coord</th>\n",
       "      <th>z_coord</th>\n",
       "      <th>vector</th>\n",
       "    </tr>\n",
       "  </thead>\n",
       "  <tbody>\n",
       "    <tr>\n",
       "      <th>0</th>\n",
       "      <td>0</td>\n",
       "      <td>1</td>\n",
       "      <td>N</td>\n",
       "      <td>LEU</td>\n",
       "      <td>82</td>\n",
       "      <td>28.39000</td>\n",
       "      <td>57.09300</td>\n",
       "      <td>26.05600</td>\n",
       "      <td>[28.39, 57.093, 26.056]</td>\n",
       "    </tr>\n",
       "    <tr>\n",
       "      <th>1</th>\n",
       "      <td>1</td>\n",
       "      <td>2</td>\n",
       "      <td>CA</td>\n",
       "      <td>LEU</td>\n",
       "      <td>82</td>\n",
       "      <td>28.95200</td>\n",
       "      <td>56.59300</td>\n",
       "      <td>24.81300</td>\n",
       "      <td>[28.952, 56.593, 24.813]</td>\n",
       "    </tr>\n",
       "    <tr>\n",
       "      <th>2</th>\n",
       "      <td>2</td>\n",
       "      <td>3</td>\n",
       "      <td>C</td>\n",
       "      <td>LEU</td>\n",
       "      <td>82</td>\n",
       "      <td>28.02100</td>\n",
       "      <td>57.00900</td>\n",
       "      <td>23.67800</td>\n",
       "      <td>[28.021, 57.009, 23.678]</td>\n",
       "    </tr>\n",
       "    <tr>\n",
       "      <th>3</th>\n",
       "      <td>8</td>\n",
       "      <td>9</td>\n",
       "      <td>N</td>\n",
       "      <td>LYS</td>\n",
       "      <td>83</td>\n",
       "      <td>28.61300</td>\n",
       "      <td>57.38300</td>\n",
       "      <td>22.54800</td>\n",
       "      <td>[28.613, 57.383, 22.548]</td>\n",
       "    </tr>\n",
       "    <tr>\n",
       "      <th>4</th>\n",
       "      <td>9</td>\n",
       "      <td>10</td>\n",
       "      <td>CA</td>\n",
       "      <td>LYS</td>\n",
       "      <td>83</td>\n",
       "      <td>27.87700</td>\n",
       "      <td>57.84000</td>\n",
       "      <td>21.37600</td>\n",
       "      <td>[27.877, 57.84, 21.376]</td>\n",
       "    </tr>\n",
       "  </tbody>\n",
       "</table>\n",
       "</div>"
      ],
      "text/plain": [
       "   index  atom_number atom_name residue_name  residue_number  x_coord  \\\n",
       "0  0      1            N         LEU          82             28.39000   \n",
       "1  1      2            CA        LEU          82             28.95200   \n",
       "2  2      3            C         LEU          82             28.02100   \n",
       "3  8      9            N         LYS          83             28.61300   \n",
       "4  9      10           CA        LYS          83             27.87700   \n",
       "\n",
       "   y_coord  z_coord                    vector  \n",
       "0 57.09300 26.05600  [28.39, 57.093, 26.056]   \n",
       "1 56.59300 24.81300  [28.952, 56.593, 24.813]  \n",
       "2 57.00900 23.67800  [28.021, 57.009, 23.678]  \n",
       "3 57.38300 22.54800  [28.613, 57.383, 22.548]  \n",
       "4 57.84000 21.37600  [27.877, 57.84, 21.376]   "
      ]
     },
     "execution_count": 32,
     "metadata": {},
     "output_type": "execute_result"
    }
   ],
   "source": [
    "df_dh1.head()"
   ]
  },
  {
   "cell_type": "markdown",
   "metadata": {},
   "source": [
    "_HAY QUE CHECAR EL ORDEN DEL CALCULO QUE ATOMO VA CON QUE ANGULO Y SU ITERADOR_"
   ]
  },
  {
   "cell_type": "code",
   "execution_count": 33,
   "metadata": {},
   "outputs": [],
   "source": [
    "index_phi = []\n",
    "angulos_phi = []\n",
    "append = angulos_phi.append\n",
    "valores = df_dh1.vector.values\n",
    "dihedral = mvt.dihedral\n",
    "nombres = df_dh1.atom_name\n",
    "for i in range(df_dh1.shape[0]-3):\n",
    "#     print (i)\n",
    "    if i == 0:\n",
    "        append(360.0)\n",
    "    elif (nombres[i] == 'C') and (\n",
    "        nombres[i+1] == 'N') and (\n",
    "        nombres[i+2] == 'CA') and (\n",
    "        nombres[i+3] == 'C'):\n",
    "#             print(i,i+1,i+2,i+3)\n",
    "        index_phi.append(df_dh1.residue_number[i]-1)\n",
    "        append(dihedral(valores[i],valores[i+1],\n",
    "                 valores[i+2],valores[i+3]))"
   ]
  },
  {
   "cell_type": "code",
   "execution_count": 34,
   "metadata": {},
   "outputs": [],
   "source": [
    "index_psi = []\n",
    "angulos_psi = []\n",
    "append = angulos_psi.append\n",
    "valores = df_dh1.vector.values\n",
    "dihedral = mvt.dihedral\n",
    "nombres = df_dh1.atom_name\n",
    "for i in range(df_dh1.shape[0]-3):\n",
    "#     if i > 0:\n",
    "        if (nombres[i] == 'N') and (\n",
    "            nombres[i+1] == 'CA') and (\n",
    "            nombres[i+2] == 'C') and (\n",
    "            nombres[i+3] == 'N'):\n",
    "#             print(i,i+1,i+2,i+3)\n",
    "            index_psi.append(df_dh1.residue_number[i])\n",
    "            append(dihedral(valores[i],valores[i+1],\n",
    "                     valores[i+2],valores[i+3]))"
   ]
  },
  {
   "cell_type": "code",
   "execution_count": 75,
   "metadata": {},
   "outputs": [],
   "source": [
    "angulos = pd.DataFrame([angulos_phi,angulos_psi]).T\n",
    "angulos.columns = ['phi','psi']\n",
    "angulos.phi = np.where(angulos.phi > 180, angulos.phi - 360, angulos.phi)\n",
    "angulos.phi = angulos.phi \n",
    "angulos.psi = np.where(angulos.psi > 180, angulos.psi - 360, angulos.psi)\n",
    "angulos.replace( 0, 360, inplace = True)\n",
    "#alfa helice (−90°, −15°) to (−35°, −70°) ROJO\n",
    "#betta (–135°, 135°) to (–180°, 180°) NAVY\n",
    "angulos['SS'] = np.where(\n",
    "    (angulos.phi > -90) & (angulos.psi < -15) & (angulos.phi < -35) & (angulos.psi > -70),'r',\n",
    "    np.where((angulos.phi < -135) & (angulos.psi > 135) & (angulos.phi > -180) & (angulos.psi < 180),'navy',\n",
    "             'g')\n",
    ")\n",
    "\n",
    "# angulos.SS.values.tolist()"
   ]
  },
  {
   "cell_type": "code",
   "execution_count": 91,
   "metadata": {},
   "outputs": [
    {
     "data": {
      "text/plain": [
       "(-180, 180)"
      ]
     },
     "execution_count": 91,
     "metadata": {},
     "output_type": "execute_result"
    },
    {
     "data": {
      "image/png": "[encoded data removed]",
      "text/plain": [
       "<Figure size 720x720 with 1 Axes>"
      ]
     },
     "metadata": {
      "needs_background": "light"
     },
     "output_type": "display_data"
    }
   ],
   "source": [
    "angulos.plot.scatter('phi','psi',c = angulos.SS.values.tolist(), alpha=0.6,figsize=(10,10), s=80)\n",
    "limite1,limite2 = -180,180\n",
    "plt.xlim(limite1,limite2)\n",
    "plt.ylim(limite1,limite2)\n",
    "# plt.vlines(limite1,limite2)\n"
   ]
  },
  {
   "cell_type": "code",
   "execution_count": 47,
   "metadata": {},
   "outputs": [
    {
     "name": "stderr",
     "output_type": "stream",
     "text": [
      "C:\\Users\\serch\\Anaconda3\\lib\\site-packages\\scipy\\stats\\stats.py:1713: FutureWarning:\n",
      "\n",
      "Using a non-tuple sequence for multidimensional indexing is deprecated; use `arr[tuple(seq)]` instead of `arr[seq]`. In the future this will be interpreted as an array index, `arr[np.array(seq)]`, which will result either in an error or a different result.\n",
      "\n"
     ]
    },
    {
     "data": {
      "text/plain": [
       "<seaborn.axisgrid.JointGrid at 0x26ccec4c1d0>"
      ]
     },
     "execution_count": 47,
     "metadata": {},
     "output_type": "execute_result"
    },
    {
     "data": {
      "image/png": "[encoded data removed]",
      "text/plain": [
       "<Figure size 432x432 with 3 Axes>"
      ]
     },
     "metadata": {
      "needs_background": "light"
     },
     "output_type": "display_data"
    }
   ],
   "source": [
    "import seaborn as sns\n",
    "sns.jointplot(angulos.phi.values,angulos.psi.values,kind='hex', stat_func=None,\n",
    "#               alpha=0.7, \n",
    "              xlim=[-180,180], ylim=[-180,180])"
   ]
  },
  {
   "cell_type": "code",
   "execution_count": null,
   "metadata": {},
   "outputs": [],
   "source": []
  }
 ],
 "metadata": {
  "kernelspec": {
   "display_name": "Python 3",
   "language": "python",
   "name": "python3"
  },
  "language_info": {
   "codemirror_mode": {
    "name": "ipython",
    "version": 3
   },
   "file_extension": ".py",
   "mimetype": "text/x-python",
   "name": "python",
   "nbconvert_exporter": "python",
   "pygments_lexer": "ipython3",
   "version": "3.7.0"
  },
  "toc": {
   "base_numbering": 1,
   "nav_menu": {},
   "number_sections": true,
   "sideBar": true,
   "skip_h1_title": false,
   "title_cell": "Table of Contents",
   "title_sidebar": "Contents",
   "toc_cell": false,
   "toc_position": {},
   "toc_section_display": true,
   "toc_window_display": false
  },
  "varInspector": {
   "cols": {
    "lenName": 16,
    "lenType": 16,
    "lenVar": 40
   },
   "kernels_config": {
    "python": {
     "delete_cmd_postfix": "",
     "delete_cmd_prefix": "del ",
     "library": "var_list.py",
     "varRefreshCmd": "print(var_dic_list())"
    },
    "r": {
     "delete_cmd_postfix": ") ",
     "delete_cmd_prefix": "rm(",
     "library": "var_list.r",
     "varRefreshCmd": "cat(var_dic_list()) "
    }
   },
   "types_to_exclude": [
    "module",
    "function",
    "builtin_function_or_method",
    "instance",
    "_Feature"
   ],
   "window_display": false
  }
 },
 "nbformat": 4,
 "nbformat_minor": 2
}

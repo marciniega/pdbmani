{
 "cells": [
  {
   "cell_type": "markdown",
   "metadata": {},
   "source": [
    "# Algoritmo Click\n",
    "## Generacion de cliques\n",
    "+ Se generan con biopandas para obtener los atomos de  CαCα  y sus coordenadas.\n",
    "+ Se calcula la distancia y se genera un grafo completo con la distancia entre cada par de atomos.\n",
    "+ Se restringen los enlaces por una distancia dada y se generan los cliques que tengas un numero k de elementos para pertencer al clique.\n",
    "+ Una ves generados los cliques de cada proteina se extraen sus coordenadas para poderlas comparar"
   ]
  },
  {
   "cell_type": "code",
   "execution_count": 2,
   "metadata": {},
   "outputs": [],
   "source": [
    "#libreria de analisis de datos y una caracterizacion para su facil lectura.\n",
    "import pandas as pd\n",
    "pd.set_option('display.float_format', lambda x: '%.5f' % x)\n",
    "pd.set_option('max_rows', 100)\n",
    "pd.set_option('max_columns', 40)\n",
    "pd.set_option('display.max_colwidth', -1)\n",
    "#libreria de generacion de rede y cliques\n",
    "import networkx as nx,community\n",
    "\n",
    "#libreria de visualizacion de datos y un formato dado\n",
    "import matplotlib.pyplot as plt\n",
    "plt.style.use('ggplot')\n",
    "font = {'family' : 'sans',\n",
    "        'weight' : 'bold',\n",
    "        'size'   : 20}\n",
    "plt.rc('font', **font)\n",
    "plt.rcParams['xtick.labelsize'] = 16\n",
    "plt.rcParams['axes.labelsize'] = 18\n",
    "plt.rcParams['ytick.labelsize'] = 16\n",
    "plt.rcParams[u'figure.figsize'] = (16,8)\n",
    "\n",
    "#mas librerias que voy obteniendo\n",
    "import biopandas.pdb as bp\n",
    "biop = bp.PandasPdb() #libreria de lectura de pdbs\n",
    "\n",
    "#libreria de calculo de distancia euclidiana\n",
    "from scipy.spatial.distance import pdist, squareform\n",
    "\n",
    "#libreria de mate\n",
    "import numpy as np\n",
    "\n",
    "#libreria de iteraciones\n",
    "import itertools as it\n",
    "\n",
    "#Libreria de MA para RMSD\n",
    "import sys\n",
    "sys.path.append('math_tricks/')\n",
    "import math_vect_tools as mvt\n",
    "\n",
    "#Libreria de graficacion interactiva\n",
    "import plotly.plotly as py\n",
    "import plotly.graph_objs as go"
   ]
  },
  {
   "cell_type": "code",
   "execution_count": 5,
   "metadata": {},
   "outputs": [],
   "source": [
    "# Aqui se cambiaria por los archivos a leer pdbs sin modificar\n",
    "path1 ='1phr.pdb'\n",
    "path2 ='1tig.pdb'\n",
    "\n",
    "#funcion de lectura con biopandas\n",
    "def read_biopdb(path):\n",
    "    \"\"\"Extrae las cordenadas de los atomos de C_alfa y los acomoda en un vector\n",
    "    devuelve un dataframe con las coordenadas y el numero de residuo\"\"\"\n",
    "    df = biop.read_pdb(path)\n",
    "    df_atom = df.df['ATOM']\n",
    "    #OJO AQUI ESTA ADECUADO AL PDB   para elegir solo un frame en trj_0 y trj_0_A [:1805]\n",
    "    df_ca = df_atom[df_atom.atom_name == 'CA'][[\n",
    "    'atom_number','atom_name','residue_name','residue_number',\n",
    "    'x_coord','y_coord','z_coord']]\n",
    "    columna_vector = []\n",
    "    for i in zip(df_ca.x_coord.tolist(),df_ca.y_coord.tolist(),df_ca.z_coord.tolist()):\n",
    "        columna_vector.append(list(i))\n",
    "\n",
    "    df_ca['vector'] = columna_vector\n",
    "    return(df_ca)"
   ]
  },
  {
   "cell_type": "code",
   "execution_count": 6,
   "metadata": {},
   "outputs": [],
   "source": [
    "#lectura de pdbs\n",
    "df_ca1 = read_biopdb(path1)\n",
    "df_ca2 = read_biopdb(path2)"
   ]
  },
  {
   "cell_type": "code",
   "execution_count": 7,
   "metadata": {},
   "outputs": [],
   "source": [
    "#se calcula la distancia entre cada par de nodos.\n",
    "def distancia_entre_atomos(df_ca):\n",
    "    \"\"\"df_ca: Dataframe con coordenadas de los atomos alfa, devuelve otro DataFrame\n",
    "    df_da: Dataframe como una matriz de adyacencias donde el valor es la distancia\"\"\"\n",
    "    distancias = []\n",
    "    #se calcula la distancia euclidiana entre cada atomo de carbon alfalfa\n",
    "    for v,i in zip(df_ca.vector,df_ca.atom_number):\n",
    "        distancia_un_atomo = []\n",
    "        for av,j in zip(df_ca.vector,df_ca.atom_number):\n",
    "            distancia = pdist([v,av],metric='euclidean').item()\n",
    "            distancia_un_atomo.append(distancia)\n",
    "        distancias.append(distancia_un_atomo)\n",
    "    #se genera la matriz de adyacencias para la red\n",
    "    df_da = pd.DataFrame(index=df_ca.atom_number,columns=df_ca.atom_number,data=distancias)\n",
    "    return(df_da)"
   ]
  },
  {
   "cell_type": "code",
   "execution_count": 8,
   "metadata": {},
   "outputs": [],
   "source": [
    "#generacion de matriz de adyacencias\n",
    "df_da1 = distancia_entre_atomos(df_ca1)\n",
    "df_da2 = distancia_entre_atomos(df_ca2)"
   ]
  },
  {
   "cell_type": "code",
   "execution_count": 9,
   "metadata": {},
   "outputs": [],
   "source": [
    "def gen_3_cliques(df_da, dth = 10, k=3):\n",
    "    \"\"\"Genera n-cliques de dataframe de distancias, tomando en cuenta los enlaces menores o iguales\n",
    "    a dth y forma los k-cliques que elijas \n",
    "    valores por default:\n",
    "    dth=10, k=3\"\"\"\n",
    "    #red de distancias completa\n",
    "    red = nx.from_pandas_adjacency(df_da)\n",
    "    print(\"red antes de filtros:\",nx.info(red))\n",
    "\n",
    "    #filtro de distancias\n",
    "    edgesstrong = [(u,v) for (u,v,d) in red.edges(data=True) if d[\"weight\"] <= dth]\n",
    "\n",
    "    red = nx.Graph(edgesstrong)\n",
    "    print(\"==\"*20)\n",
    "    print(\"red despues de filtros:\",nx.info(red))\n",
    "\n",
    "    n_cliques = [clq for clq in nx.find_cliques(red) if len(clq) >=k]\n",
    "    print('numero de cliques maximos encontrados:',len(n_cliques))\n",
    "\n",
    "    lista_cliques = []\n",
    "    for i,v in enumerate(n_cliques):\n",
    "        a = list(it.combinations(v,k))\n",
    "        for j in a:\n",
    "            if set(j) not in lista_cliques:\n",
    "                #recuerda que para comparar elementos utiliza set, y apilalos como set\n",
    "                lista_cliques.append(set(j))\n",
    "\n",
    "    df_lc = pd.DataFrame(lista_cliques)            \n",
    "    print(\"numero de %s-cliques posibles:\" % (k), df_lc.shape[0])\n",
    "    return(df_lc)"
   ]
  },
  {
   "cell_type": "code",
   "execution_count": 10,
   "metadata": {},
   "outputs": [
    {
     "name": "stdout",
     "output_type": "stream",
     "text": [
      "red antes de filtros: Name: \n",
      "Type: Graph\n",
      "Number of nodes: 154\n",
      "Number of edges: 11781\n",
      "Average degree: 153.0000\n",
      "========================================\n",
      "red despues de filtros: Name: \n",
      "Type: Graph\n",
      "Number of nodes: 154\n",
      "Number of edges: 1378\n",
      "Average degree:  17.8961\n",
      "numero de cliques maximos encontrados: 419\n",
      "numero de 3-cliques posibles: 4480\n",
      "----------------------------------------------------------------------------------------------------\n",
      "red antes de filtros: Name: \n",
      "Type: Graph\n",
      "Number of nodes: 88\n",
      "Number of edges: 3828\n",
      "Average degree:  87.0000\n",
      "========================================\n",
      "red despues de filtros: Name: \n",
      "Type: Graph\n",
      "Number of nodes: 88\n",
      "Number of edges: 709\n",
      "Average degree:  16.1136\n",
      "numero de cliques maximos encontrados: 246\n",
      "numero de 3-cliques posibles: 2102\n"
     ]
    }
   ],
   "source": [
    "df_lc1 = gen_3_cliques(df_da1)\n",
    "print('--'*50)\n",
    "df_lc2 = gen_3_cliques(df_da2)"
   ]
  },
  {
   "cell_type": "code",
   "execution_count": 12,
   "metadata": {},
   "outputs": [],
   "source": [
    "#funcion para obtener las coordenadas del clique\n",
    "def get_coord_clique(df_ca,df_lc):\n",
    "    \"\"\"df_ca:DataFrame con coordenadas de carbonos alfa,\n",
    "    df_lc:Dataframe con cliques, si coincide el numero del atomo\n",
    "    le pega su coordenada y genera una matriz de vectores que contiene \n",
    "    las coordenadas de cada atomo ordenado de izquierda a derecha como \n",
    "    aparecen en df_lc\"\"\"\n",
    "    lista_matriz_coordendas = [] #lista para apilar las coordenadas\n",
    "    for i in df_lc.index:\n",
    "        #si coincide el numero de atomo con el numero de atomo del clique le coloca el vector de coordenadas\n",
    "        mat_dist = [df_ca[df_ca.atom_number==df_lc.iloc[i,0]].vector.values[0],\n",
    "                df_ca[df_ca.atom_number==df_lc.iloc[i,1]].vector.values[0],\n",
    "                df_ca[df_ca.atom_number==df_lc.iloc[i,2]].vector.values[0]]\n",
    "        lista_matriz_coordendas.append(mat_dist)\n",
    "\n",
    "    df_lc['matriz_coordenadas'] = lista_matriz_coordendas #columna con coordenadas del clique\n",
    "    return(df_lc)"
   ]
  },
  {
   "cell_type": "code",
   "execution_count": 13,
   "metadata": {},
   "outputs": [],
   "source": [
    "#pegado de coordendas\n",
    "df_lc1 = get_coord_clique(df_ca1,df_lc1)\n",
    "df_lc2 = get_coord_clique(df_ca2,df_lc2)"
   ]
  },
  {
   "cell_type": "markdown",
   "metadata": {},
   "source": [
    "## Comparacion de cliques\n",
    "### Pasos para comparar\n",
    "Para obtener el __RMSD__ es necesario primero rotar y trasladar un atomo con respecto al atomo a comparar (de la otra proteina) y calcular el __RMSD__.\n",
    "\n",
    "Siguiendo al metodologia en *Using quaternions to calculate RMSD*.\n",
    "Se generan las funciones de traslado y rotacion.\n",
    "\n",
    "\n",
    "\n",
    "Para obtener C, $\\alpha$, $\\beta$ con:\n",
    "   + $\\Phi$\n",
    "   + $\\Psi$\n",
    "1. Matriz de comparacion de Estructura Secundaria (SSM)\n",
    "2. Solvente Accesible (SAM)"
   ]
  },
  {
   "cell_type": "markdown",
   "metadata": {},
   "source": [
    "### Traslacion\n",
    "Se calcula el baricentro de cada clique en ambas moleculas y se generan nuevos vectores que van del baricentro al atomo llamados $\\hat{x}$.\n",
    "\n",
    "El baricentro se calcula como $\\bar{x}$($\\frac{(x_1 + x_2 + x_3)}{3}$,$\\frac{(y_1 + y_2 + y_3)}{3}$,$\\frac{(z_1 + z_2 + z_3)}{3}$)\n",
    "\n",
    "$\\hat{x} = x_k - \\bar{x}$"
   ]
  },
  {
   "cell_type": "code",
   "execution_count": null,
   "metadata": {},
   "outputs": [],
   "source": [
    "# funcion de calculo de baricentro\n",
    "def baricenter_clique(df_lc):\n",
    "    coord_center = []\n",
    "    for i in range(df_lc.shape[0]):\n",
    "        A = np.array(df_lc.matriz_coordenadas[i][0])\n",
    "        B = np.array(df_lc.matriz_coordenadas[i][1])\n",
    "        C = np.array(df_lc.matriz_coordenadas[i][2])\n",
    "\n",
    "        x1 = round((A[0]+B[0]+C[0])/3,5)\n",
    "        y1 = round((A[1]+B[1]+C[1])/3,5)\n",
    "        z1 = round((A[2]+B[2]+C[2])/3,5)\n",
    "\n",
    "        coord_center.append([x1,y1,z1])\n",
    "\n",
    "\n",
    "    df_lc['baricentro_clique'] = coord_center\n",
    "    return df_lc"
   ]
  }
 ],
 "metadata": {
  "kernelspec": {
   "display_name": "Python 3",
   "language": "python",
   "name": "python3"
  },
  "language_info": {
   "codemirror_mode": {
    "name": "ipython",
    "version": 3
   },
   "file_extension": ".py",
   "mimetype": "text/x-python",
   "name": "python",
   "nbconvert_exporter": "python",
   "pygments_lexer": "ipython3",
   "version": "3.6.5"
  }
 },
 "nbformat": 4,
 "nbformat_minor": 2
}

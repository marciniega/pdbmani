{
 "cells": [
  {
   "cell_type": "code",
   "execution_count": 12,
   "metadata": {},
   "outputs": [],
   "source": [
    "# librerias que utilizaras\n",
    "import numpy as np\n",
    "# por si no te lee las tools o functions creadas\n",
    "import sys\n",
    "sys.path.append(\"/home/serch/pdbmani/Serch/math_tricks/\")\n",
    "sys.path.append('math_tricks/')\n",
    "import math_vect_tools as mymath\n",
    "# herramientas para leer pdbs\n",
    "import os\n",
    "os.chdir('/home/serch/pdbmani/Serch')\n",
    "import read_pdb_tools as rpt\n",
    "# funciones de click generadas en pandas\n",
    "import funciones_CLICK as fc\n",
    "# cuenta tiempo de ejecucion\n",
    "import datetime\n",
    "time_all = datetime.datetime.now()\n",
    "# networks\n",
    "import networkx as nx\n",
    "# formato resultados\n",
    "import pandas as pd\n",
    "np.random.seed(8)"
   ]
  },
  {
   "cell_type": "code",
   "execution_count": 13,
   "metadata": {},
   "outputs": [],
   "source": [
    "# borrar esto despues\n",
    "file1 = '/home/serch/pdbmani/Serch/Experimentos/pdbs/tetra_sin_cofact_clean.pdb'\n",
    "# file2 = '/home/serch/pdbmani/Serch/pdbs/tetra_con_cofact_clean2_click.pdb'"
   ]
  },
  {
   "cell_type": "code",
   "execution_count": 14,
   "metadata": {},
   "outputs": [],
   "source": [
    "trj1 = rpt.Trajectory(file1)\n",
    "# trj2 = rpt.Trajectory(file2)"
   ]
  },
  {
   "cell_type": "code",
   "execution_count": 15,
   "metadata": {},
   "outputs": [],
   "source": [
    "trj1.ReadTraj(\"%s\" % file1)\n",
    "# trj2.ReadTraj(\"%s\" % file2)"
   ]
  },
  {
   "cell_type": "code",
   "execution_count": 16,
   "metadata": {},
   "outputs": [],
   "source": [
    "trj11 = trj1.frames\n",
    "# trj22 = trj2.frames"
   ]
  },
  {
   "cell_type": "code",
   "execution_count": 17,
   "metadata": {},
   "outputs": [],
   "source": [
    "# first_frame_dimer = trj11[0]"
   ]
  },
  {
   "cell_type": "code",
   "execution_count": 18,
   "metadata": {},
   "outputs": [
    {
     "data": {
      "text/plain": [
       "501"
      ]
     },
     "execution_count": 18,
     "metadata": {},
     "output_type": "execute_result"
    }
   ],
   "source": [
    "# numero de frames\n",
    "len(trj11)"
   ]
  },
  {
   "cell_type": "code",
   "execution_count": 19,
   "metadata": {},
   "outputs": [
    {
     "data": {
      "text/plain": [
       "array([  0,  10,  20,  30,  40,  51,  61,  71,  81,  91, 102, 112, 122,\n",
       "       132, 142, 153, 163, 173, 183, 193, 204, 214, 224, 234, 244, 255,\n",
       "       265, 275, 285, 295, 306, 316, 326, 336, 346, 357, 367, 377, 387,\n",
       "       397, 408, 418, 428, 438, 448, 459, 469, 479, 489, 500])"
      ]
     },
     "execution_count": 19,
     "metadata": {},
     "output_type": "execute_result"
    }
   ],
   "source": [
    "idx_tetra = np.linspace(0,len(trj11)-1,50).astype(int)\n",
    "idx_tetra # ids a probar..."
   ]
  },
  {
   "cell_type": "code",
   "execution_count": 20,
   "metadata": {},
   "outputs": [],
   "source": [
    "frames_tetra = np.array(trj11)[idx_tetra]"
   ]
  },
  {
   "cell_type": "code",
   "execution_count": 21,
   "metadata": {},
   "outputs": [],
   "source": [
    "for idx, pdb in zip(idx_tetra, frames_tetra):\n",
    "    pdb.WriteToFile('tetra_sin_cofact_'+str(idx))"
   ]
  },
  {
   "cell_type": "code",
   "execution_count": null,
   "metadata": {},
   "outputs": [],
   "source": []
  }
 ],
 "metadata": {
  "kernelspec": {
   "display_name": "Python 3",
   "language": "python",
   "name": "python3"
  },
  "language_info": {
   "codemirror_mode": {
    "name": "ipython",
    "version": 3
   },
   "file_extension": ".py",
   "mimetype": "text/x-python",
   "name": "python",
   "nbconvert_exporter": "python",
   "pygments_lexer": "ipython3",
   "version": "3.6.6"
  }
 },
 "nbformat": 4,
 "nbformat_minor": 2
}

{
 "cells": [
  {
   "cell_type": "code",
   "execution_count": 1,
   "metadata": {},
   "outputs": [],
   "source": [
    "\n",
    "# librerias que utilizaras\n",
    "import numpy as np\n",
    "# por si no te lee las tools o functions creadas\n",
    "import sys\n",
    "sys.path.append(\"/home/serch/pdbmani/Serch/math_tricks/\")\n",
    "sys.path.append(\"/home/serch/pdbmani/Serch/\")\n",
    "import math_vect_tools as mymath\n",
    "# herramientas para leer pdbs\n",
    "import read_pdb_tools as rpt\n",
    "# funciones de click generadas en pandas\n",
    "import funciones_CLICK as fc\n",
    "# cuenta tiempo de ejecucion\n",
    "import datetime\n",
    "time_all = datetime.datetime.now()\n",
    "import math\n",
    "#lectura de paso final\n",
    "import pandas as pd\n",
    "# por si no jala\n",
    "import os\n",
    "os.chdir('/home/serch/pdbmani/Serch')\n"
   ]
  },
  {
   "cell_type": "code",
   "execution_count": 2,
   "metadata": {},
   "outputs": [],
   "source": [
    "file1 = '/home/serch/pdbmani/Serch/1xxa_vs_1tig_2019-03-19 16:21:59.pdb'"
   ]
  },
  {
   "cell_type": "code",
   "execution_count": 3,
   "metadata": {},
   "outputs": [],
   "source": [
    "# se define la estructura\n",
    "pdb1 = rpt.PdbStruct(file1)\n",
    "# se lee el pdb y se agrega al objeto\n",
    "pdb1.AddPdbData(\"%s\" % file1)\n",
    "\n",
    "#filtro SS\n",
    "pdb1.Set_SS()\n",
    "\n",
    "# filtro dihedral\n",
    "pdb1.SetDiheMain()\n",
    "\n",
    "# se obtienen los residuos que perteneces a la cadena de interes por default chain = 'A'\n",
    "pdb11 = pdb1.GetResChain()\n",
    "\n",
    "# creando tabla de estructura secundaria para filtro de SS\n",
    "ss1 = fc.create_ss_table(pdb11)\n"
   ]
  },
  {
   "cell_type": "code",
   "execution_count": 4,
   "metadata": {},
   "outputs": [],
   "source": [
    "res_conclq_1 = [res for res in pdb11]\n",
    "\n",
    "atom_conclq_1 = [res.GetAtom('CA') for res in pdb11]\n",
    "\n",
    "coord_conclq_1 = np.array([res.coord for res in atom_conclq_1], dtype=np.float)\n",
    "\n",
    "bari_con_clq_1 = coord_conclq_1.mean(0)\n",
    "\n",
    "vecs_center_cnclq_1 = coord_conclq_1 - bari_con_clq_1\n"
   ]
  },
  {
   "cell_type": "code",
   "execution_count": 8,
   "metadata": {},
   "outputs": [
    {
     "data": {
      "text/plain": [
       "array([12.30502817, -0.42076056, 10.94226761])"
      ]
     },
     "execution_count": 8,
     "metadata": {},
     "output_type": "execute_result"
    }
   ],
   "source": [
    "bari_con_clq_1"
   ]
  },
  {
   "cell_type": "code",
   "execution_count": 9,
   "metadata": {},
   "outputs": [],
   "source": [
    "parejas = [(83, 94), (84, 93), (85, 92), (86, 91), (88, 89), (89, 88), (90, 87), (91, 86), (92, 85), (93, 84), (95, 116), (96, 117), (97, 118), (98, 119), (99, 120), (102, 129), (103, 130), (104, 132), (105, 133), (106, 134), (107, 135), (108, 136), (109, 137), (110, 138), (111, 139), (112, 140), (113, 142), (114, 143), (115, 144), (116, 145), (117, 146), (120, 147), (121, 148), (122, 149), (123, 150), (125, 153), (126, 154), (127, 155), (129, 161), (130, 162), (131, 163), (132, 164), (133, 165), (134, 166), (135, 167), (136, 168), (137, 169), (138, 170), (139, 111), (140, 113), (141, 114), (142, 109), (143, 108), (144, 106), (146, 105), (147, 104), (148, 103), (149, 101), (151, 100), (152, 99)]"
   ]
  },
  {
   "cell_type": "code",
   "execution_count": 20,
   "metadata": {},
   "outputs": [],
   "source": [
    "resis = [i[0] for i in parejas]"
   ]
  },
  {
   "cell_type": "code",
   "execution_count": 21,
   "metadata": {},
   "outputs": [],
   "source": [
    "res_conclq_1 = [res for res in pdb11 if res.resi in resis]\n",
    "\n",
    "atom_conclq_1 = [res.GetAtom('CA') for res in pdb11 if res.resi in resis]\n",
    "\n",
    "coord_conclq_1 = np.array([res.coord for res in atom_conclq_1], dtype=np.float)\n",
    "\n",
    "bari_con_clq_1 = coord_conclq_1.mean(0)\n",
    "\n",
    "vecs_center_cnclq_1 = coord_conclq_1 - bari_con_clq_1\n"
   ]
  },
  {
   "cell_type": "code",
   "execution_count": 22,
   "metadata": {},
   "outputs": [
    {
     "data": {
      "text/plain": [
       "array([12.49281667, -0.64778333, 11.2678    ])"
      ]
     },
     "execution_count": 22,
     "metadata": {},
     "output_type": "execute_result"
    }
   ],
   "source": [
    "bari_con_clq_1"
   ]
  },
  {
   "cell_type": "code",
   "execution_count": 28,
   "metadata": {},
   "outputs": [
    {
     "name": "stdout",
     "output_type": "stream",
     "text": [
      "83+\n",
      "84+\n"
     ]
    }
   ],
   "source": [
    "for i in resis[:2]:\n",
    "    print(str(i)+'+')"
   ]
  },
  {
   "cell_type": "code",
   "execution_count": 30,
   "metadata": {},
   "outputs": [
    {
     "name": "stdout",
     "output_type": "stream",
     "text": [
      "83+84+85+86+88+89+90+91+92+93+95+96+97+98+99+102+103+104+105+106+107+108+109+110+111+112+113+114+115+116+117+120+121+122+123+125+126+127+129+130+131+132+133+134+135+136+137+138+139+140+141+142+143+144+146+147+148+149+151+152\n"
     ]
    }
   ],
   "source": [
    "print ('+'.join(map(str, resis)))"
   ]
  },
  {
   "cell_type": "code",
   "execution_count": 31,
   "metadata": {},
   "outputs": [],
   "source": [
    "resis = [i[1] for i in parejas]"
   ]
  },
  {
   "cell_type": "code",
   "execution_count": 32,
   "metadata": {},
   "outputs": [
    {
     "name": "stdout",
     "output_type": "stream",
     "text": [
      "94+93+92+91+89+88+87+86+85+84+116+117+118+119+120+129+130+132+133+134+135+136+137+138+139+140+142+143+144+145+146+147+148+149+150+153+154+155+161+162+163+164+165+166+167+168+169+170+111+113+114+109+108+106+105+104+103+101+100+99\n"
     ]
    }
   ],
   "source": [
    "print ('+'.join(map(str, resis)))"
   ]
  },
  {
   "cell_type": "code",
   "execution_count": null,
   "metadata": {},
   "outputs": [],
   "source": []
  }
 ],
 "metadata": {
  "kernelspec": {
   "display_name": "Python 3",
   "language": "python",
   "name": "python3"
  },
  "language_info": {
   "codemirror_mode": {
    "name": "ipython",
    "version": 3
   },
   "file_extension": ".py",
   "mimetype": "text/x-python",
   "name": "python",
   "nbconvert_exporter": "python",
   "pygments_lexer": "ipython3",
   "version": "3.6.6"
  }
 },
 "nbformat": 4,
 "nbformat_minor": 2
}

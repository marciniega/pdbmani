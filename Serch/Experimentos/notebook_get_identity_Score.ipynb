{
 "cells": [
  {
   "cell_type": "code",
   "execution_count": 7,
   "metadata": {},
   "outputs": [],
   "source": [
    "import pandas as pd\n",
    "import numpy as np\n",
    "import glob\n",
    "import subprocess\n",
    "\n",
    "import biopandas as bio"
   ]
  },
  {
   "cell_type": "code",
   "execution_count": 2,
   "metadata": {},
   "outputs": [],
   "source": [
    "def get_fasta(pdbmame):\n",
    "    dictionary = {'ALA':'A','ARG':'R','ASN':'N','ASP':'D', \\\n",
    "                  'CYS':'C','GLU':'E','GLN':'Q','GLY':'G', \\\n",
    "                  'HIS':'H','ILE':'I','LEU':'L','LYS':'K', \\\n",
    "                  'MET':'M','PHE':'F','PRO':'P','SER':'S', \\\n",
    "                  'THR':'T','TRP':'W','TYR':'Y','VAL':'V',\n",
    "                  'HIE':'H','HID':'H','HIP':'H'}\n",
    "\n",
    "    pdbname = pdbmame\n",
    "\n",
    "    lines = open(pdbname,'r').readlines()\n",
    "\n",
    "    oldresnum = '   '\n",
    "    count = 1;\n",
    "\n",
    "    list_fasta = []\n",
    "    for line in lines:\n",
    "            line_edit = line\n",
    "            if line[0:3] == 'TER':\n",
    "               count = 1\n",
    "               continue\n",
    "\n",
    "            if line_edit[0:4] == 'ATOM':\n",
    "                    if 'N  ' == line_edit[13:16]:\n",
    "                        count = count + 1\n",
    "                        resn = line[17:20]\n",
    "                        try:\n",
    "                            list_fasta.append(dictionary[resn])\n",
    "                            if count==61:\n",
    "                             count = 1\n",
    "                        except:\n",
    "                          pass\n",
    "    return list_fasta"
   ]
  },
  {
   "cell_type": "code",
   "execution_count": 5,
   "metadata": {},
   "outputs": [],
   "source": [
    "lista_df = []\n",
    "for i in glob.glob('/pdbmani/Serch/Experimentos/cluster_*'):\n",
    "    for j in glob.glob(i+'/*'):\n",
    "        nombre1 = (j.split('/')[-1][:6]+'.pdb')\n",
    "        nombre2 = (j.split('/')[-1][7:]+'.pdb')\n",
    "\n",
    "        print(j+'/'+nombre1)\n",
    "        print(j+'/'+nombre2)\n",
    "        \n",
    "        try:\n",
    "            lista_1 = get_fasta(j+'/'+nombre1)\n",
    "            lista_2 = get_fasta(j+'/'+nombre2)\n",
    "        except FileNotFoundError:\n",
    "            continue\n",
    "\n",
    "        lista_identity = []\n",
    "        for val1, val2 in enumerate(zip(lista_1,lista_2)):\n",
    "            if val2[0] == val2[1]:\n",
    "                lista_identity.append(1)\n",
    "            else:\n",
    "                lista_identity.append(0)\n",
    "        \n",
    "        val_identity = np.round(np.mean(lista_identity),4)*100\n",
    "        val_id_protein = j.split('/')[-1]\n",
    "        \n",
    "        print(val_identity)\n",
    "        print(val_id_protein)\n",
    "        \n",
    "        lista_df.append([val_id_protein,val_identity])"
   ]
  },
  {
   "cell_type": "code",
   "execution_count": 6,
   "metadata": {},
   "outputs": [
    {
     "data": {
      "text/html": [
       "<div>\n",
       "<style scoped>\n",
       "    .dataframe tbody tr th:only-of-type {\n",
       "        vertical-align: middle;\n",
       "    }\n",
       "\n",
       "    .dataframe tbody tr th {\n",
       "        vertical-align: top;\n",
       "    }\n",
       "\n",
       "    .dataframe thead th {\n",
       "        text-align: right;\n",
       "    }\n",
       "</style>\n",
       "<table border=\"1\" class=\"dataframe\">\n",
       "  <thead>\n",
       "    <tr style=\"text-align: right;\">\n",
       "      <th></th>\n",
       "      <th>proteinaA_proteinaB</th>\n",
       "      <th>identity_score</th>\n",
       "    </tr>\n",
       "  </thead>\n",
       "  <tbody>\n",
       "  </tbody>\n",
       "</table>\n",
       "</div>"
      ],
      "text/plain": [
       "Empty DataFrame\n",
       "Columns: [proteinaA_proteinaB, identity_score]\n",
       "Index: []"
      ]
     },
     "execution_count": 6,
     "metadata": {},
     "output_type": "execute_result"
    }
   ],
   "source": [
    "df = pd.DataFrame(lista_df,columns=['proteinaA_proteinaB','identity_score'])\n",
    "df.head()"
   ]
  },
  {
   "cell_type": "code",
   "execution_count": 50,
   "metadata": {},
   "outputs": [],
   "source": [
    "df1 = pd.read_csv('clickvsmani_all_exp.csv')"
   ]
  },
  {
   "cell_type": "code",
   "execution_count": 61,
   "metadata": {},
   "outputs": [],
   "source": [
    "df_new = df1.merge(df,on='proteinaA_proteinaB').drop('Unnamed: 0',1)"
   ]
  },
  {
   "cell_type": "code",
   "execution_count": 63,
   "metadata": {},
   "outputs": [],
   "source": [
    "df_new.to_csv('clickvsmani_all_exp_with_identity.csv',index=False)"
   ]
  },
  {
   "cell_type": "code",
   "execution_count": null,
   "metadata": {},
   "outputs": [],
   "source": []
  }
 ],
 "metadata": {
  "kernelspec": {
   "display_name": "Python 3",
   "language": "python",
   "name": "python3"
  },
  "language_info": {
   "codemirror_mode": {
    "name": "ipython",
    "version": 3
   },
   "file_extension": ".py",
   "mimetype": "text/x-python",
   "name": "python",
   "nbconvert_exporter": "python",
   "pygments_lexer": "ipython3",
   "version": "3.7.0"
  }
 },
 "nbformat": 4,
 "nbformat_minor": 2
}

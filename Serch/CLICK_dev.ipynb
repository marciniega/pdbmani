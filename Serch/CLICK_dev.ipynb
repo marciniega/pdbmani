{
 "cells": [
  {
   "cell_type": "code",
   "execution_count": 1,
   "metadata": {},
   "outputs": [],
   "source": [
    "import pandas as pd\n",
    "pd.set_option('display.float_format', lambda x: '%.5f' % x)\n",
    "pd.set_option('max_rows', 20)\n",
    "pd.set_option('max_columns', 40)\n",
    "\n",
    "import networkx as nx,community\n",
    "import matplotlib.pyplot as plt\n",
    "plt.style.use('ggplot')\n",
    "font = {'family' : 'sans',\n",
    "        'weight' : 'bold',\n",
    "        'size'   : 20}\n",
    "plt.rc('font', **font)\n",
    "\n",
    "plt.rcParams['xtick.labelsize'] = 16\n",
    "plt.rcParams['axes.labelsize'] = 18\n",
    "plt.rcParams['ytick.labelsize'] = 16\n",
    "plt.rcParams[u'figure.figsize'] = (16,8)"
   ]
  },
  {
   "cell_type": "code",
   "execution_count": 25,
   "metadata": {},
   "outputs": [],
   "source": [
    "#mas librerias que voy obteniendo\n",
    "import biopandas.pdb as bp\n",
    "biop = bp.PandasPdb() #libreria de lectura de pdbs\n",
    "#libreria de calculo de distancia euclidiana\n",
    "from scipy.spatial.distance import pdist, squareform\n",
    "#libreria de mate\n",
    "import numpy as np"
   ]
  },
  {
   "cell_type": "code",
   "execution_count": 116,
   "metadata": {},
   "outputs": [],
   "source": [
    "#archivos pdbs\n",
    "path1 ='/Users/serch/pdbmani/trj_0.pdb'\n",
    "path2='/Users/serch/pdbmani/trj_0_A.pdb'\n",
    "# generar mismos resultados que el algoritmo click\n",
    "pathprueba ='/Users/serch/pdbmani/Serch/1phr.pdb'\n",
    "\n",
    "#funcion de lectura con biopandas\n",
    "def read_biopdb(path):\n",
    "        df = biop.read_pdb(path)\n",
    "        df_atom = df.df['ATOM']\n",
    "        #OJO AQUI ESTA ADECUADO AL PDB\n",
    "        df_ca = df_atom[:1805][df_atom.atom_name == 'CA'][[\n",
    "        'atom_number','atom_name','residue_name','residue_number',\n",
    "        'x_coord','y_coord','z_coord']]\n",
    "        columna_vector = []\n",
    "        for i in zip(df_ca.x_coord.tolist(),df_ca.y_coord.tolist(),df_ca.z_coord.tolist()):\n",
    "            columna_vector.append(list(i))\n",
    "            \n",
    "        df_ca['vector'] = columna_vector\n",
    "        return(df_ca)"
   ]
  },
  {
   "cell_type": "code",
   "execution_count": 160,
   "metadata": {},
   "outputs": [
    {
     "name": "stderr",
     "output_type": "stream",
     "text": [
      "C:\\Users\\serch\\Anaconda3\\lib\\site-packages\\ipykernel_launcher.py:12: UserWarning: Boolean Series key will be reindexed to match DataFrame index.\n",
      "  if sys.path[0] == '':\n"
     ]
    }
   ],
   "source": [
    "df_ca1 = read_biopdb(path1)\n",
    "df_ca2 = read_biopdb(path2)"
   ]
  },
  {
   "cell_type": "code",
   "execution_count": 161,
   "metadata": {},
   "outputs": [],
   "source": [
    "#se calcula la distancia entre cada par de nodos.\n",
    "# def distancia_entre_atomos(df_ca):\n",
    "distancias = []\n",
    "#se calcula la distancia euclidiana entre cada atomo de carbon alfalfa\n",
    "for v,i in zip(df_ca1.vector,df_ca1.atom_number):\n",
    "    distancia_un_atomo = []\n",
    "    for av,j in zip(df_ca1.vector,df_ca1.atom_number):\n",
    "        distancia = pdist([v,av],metric='euclidean').item()\n",
    "        distancia_un_atomo.append(distancia)\n",
    "    distancias.append(distancia_un_atomo)"
   ]
  },
  {
   "cell_type": "code",
   "execution_count": 162,
   "metadata": {},
   "outputs": [],
   "source": [
    "#se genera la matriz de adyacencias para la red\n",
    "distancias_adyacenctes = pd.DataFrame(index=df_ca1.atom_number,\n",
    "                                      columns=df_ca1.atom_number,\n",
    "                                      data=distancias)"
   ]
  },
  {
   "cell_type": "code",
   "execution_count": 163,
   "metadata": {},
   "outputs": [
    {
     "name": "stdout",
     "output_type": "stream",
     "text": [
      "Name: \n",
      "Type: Graph\n",
      "Number of nodes: 116\n",
      "Number of edges: 6670\n",
      "Average degree: 115.0000\n"
     ]
    }
   ],
   "source": [
    "#red de distancias completa\n",
    "red = nx.from_pandas_adjacency(distancias_adyacenctes)\n",
    "print(nx.info(red))"
   ]
  },
  {
   "cell_type": "code",
   "execution_count": 164,
   "metadata": {},
   "outputs": [],
   "source": [
    "#filtro de distancias\n",
    "edgesstrong = [(u,v) for (u,v,d) in red.edges(data=True) if d[\"weight\"] <=10]"
   ]
  },
  {
   "cell_type": "code",
   "execution_count": 165,
   "metadata": {},
   "outputs": [],
   "source": [
    "red = nx.Graph(edgesstrong)"
   ]
  },
  {
   "cell_type": "code",
   "execution_count": 166,
   "metadata": {},
   "outputs": [
    {
     "name": "stdout",
     "output_type": "stream",
     "text": [
      "Name: \n",
      "Type: Graph\n",
      "Number of nodes: 116\n",
      "Number of edges: 888\n",
      "Average degree:  15.3103\n"
     ]
    }
   ],
   "source": [
    "print(nx.info(red))"
   ]
  },
  {
   "cell_type": "code",
   "execution_count": null,
   "metadata": {},
   "outputs": [],
   "source": []
  },
  {
   "cell_type": "code",
   "execution_count": null,
   "metadata": {},
   "outputs": [],
   "source": []
  },
  {
   "cell_type": "code",
   "execution_count": null,
   "metadata": {},
   "outputs": [],
   "source": []
  },
  {
   "cell_type": "code",
   "execution_count": null,
   "metadata": {},
   "outputs": [],
   "source": []
  },
  {
   "cell_type": "code",
   "execution_count": null,
   "metadata": {},
   "outputs": [],
   "source": []
  },
  {
   "cell_type": "code",
   "execution_count": null,
   "metadata": {},
   "outputs": [],
   "source": []
  },
  {
   "cell_type": "markdown",
   "metadata": {},
   "source": [
    "# Error 1\n",
    "este codigo siguiente era para generar cliques si coincidian en distancia pero no es adecuado dado que primero hay que generar los cliques y posterior filtrar por distancias."
   ]
  },
  {
   "cell_type": "code",
   "execution_count": 302,
   "metadata": {},
   "outputs": [],
   "source": [
    "#el umbral donde formamos los cliques es tomando encuenta dos factores\n",
    "#1. que el numero de miembros en el clique sea entre 3 y 9, en el articulo lo fijaron en 7 \n",
    "#2. que la distancia este en el intervalo 6 a 12, en el articulo lo fijaron en 10\n",
    "\n",
    "def gen_cliques_internos(df_ca):\n",
    "    #intervalos de distancia posible para formar el clique\n",
    "    #d_inf,d_sup = 3,9\n",
    "    # donde se guardaran los posibles cliques\n",
    "    clique_grande = []\n",
    "    #se calcula la distancia euclidiana entre cada atomo de carbon alfalfa\n",
    "    for v,i in zip(df_ca.vector,df_ca.atom_number):\n",
    "        #clique del atomo a obervarsh\n",
    "        clique = []\n",
    "        for av,j in zip(df_ca.vector,df_ca.atom_number):\n",
    "            if v == av: #si es el mismo atomo no calcular\n",
    "                continue\n",
    "            distancia = pdist([v,av],metric='euclidean').item()\n",
    "            if distancia <= 10: #(d_inf <= distancia) and (distancia <= d_sup) :\n",
    "    #             print(pdist([v,av],metric='euclidean'),i,j)\n",
    "                clique = clique + [j]\n",
    "                #print(clique)\n",
    "        clique_grande.append(clique)\n",
    "\n",
    "    df_ca['cliques'] = clique_grande\n",
    "    return(df_ca)"
   ]
  },
  {
   "cell_type": "code",
   "execution_count": 303,
   "metadata": {},
   "outputs": [],
   "source": [
    "df_cat1 = gen_cliques_internos(df_ca1)"
   ]
  },
  {
   "cell_type": "code",
   "execution_count": 304,
   "metadata": {},
   "outputs": [],
   "source": [
    "#se busca saber si un valor esta en otro conjunto y formar los cliques\n",
    "for i in range(df_cat1.shape[0]):\n",
    "    for j in range(df_cat1.shape[0]):\n",
    "        if i == j: continue #no repetidos\n",
    "        if df_cat1.cliques.values[i] in df_cat1.cliques.values[j]:\n",
    "            print(set(df_cat1.cliques.values[i]))"
   ]
  },
  {
   "cell_type": "code",
   "execution_count": 305,
   "metadata": {},
   "outputs": [],
   "source": [
    "df_cat1.set_index('atom_number',inplace=True)"
   ]
  },
  {
   "cell_type": "code",
   "execution_count": 306,
   "metadata": {},
   "outputs": [],
   "source": [
    "#se genero una red de adyacencias \n",
    "#para saber quien conectaba con quien respetando la distancia desde el filtro pasado\n",
    "lista_enlaces = []\n",
    "for i in range(df_cat1.shape[0]):\n",
    "    lista_enlaces = lista_enlaces + [list(df_cat1.index.isin(df_cat1.cliques.values.take(i))*1)]"
   ]
  },
  {
   "cell_type": "code",
   "execution_count": 307,
   "metadata": {},
   "outputs": [],
   "source": [
    "#se grafico en gephi para ver si estaba bien hecha.\n",
    "red_adyacencias = pd.DataFrame(index=df_cat1.index,columns=df_cat1.index,data=lista_enlaces)\n",
    "red_adyacencias.to_csv('red_adyacencias.csv')"
   ]
  }
 ],
 "metadata": {
  "kernelspec": {
   "display_name": "Python 3",
   "language": "python",
   "name": "python3"
  },
  "language_info": {
   "codemirror_mode": {
    "name": "ipython",
    "version": 3
   },
   "file_extension": ".py",
   "mimetype": "text/x-python",
   "name": "python",
   "nbconvert_exporter": "python",
   "pygments_lexer": "ipython3",
   "version": "3.6.5"
  }
 },
 "nbformat": 4,
 "nbformat_minor": 2
}

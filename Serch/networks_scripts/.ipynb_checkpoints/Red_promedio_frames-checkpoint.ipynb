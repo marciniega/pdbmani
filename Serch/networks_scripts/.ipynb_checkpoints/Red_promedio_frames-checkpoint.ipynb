{
 "cells": [
  {
   "cell_type": "markdown",
   "metadata": {},
   "source": [
    "# Generar red promedio para trayectorias"
   ]
  },
  {
   "cell_type": "code",
   "execution_count": 61,
   "metadata": {},
   "outputs": [],
   "source": [
    "# librerias que utilizaras\n",
    "import numpy as np\n",
    "# por si no te lee las tools o functions creadas\n",
    "import sys\n",
    "sys.path.append(\"/home/serch/pdbmani/Serch/math_tricks/\")\n",
    "sys.path.append(\"/home/serch/pdbmani/Serch/\")\n",
    "import math_vect_tools as mymath\n",
    "# herramientas para leer pdbs\n",
    "import read_pdb_tools as rpt\n",
    "# funciones de click generadas en pandas\n",
    "import funciones_CLICK as fc\n",
    "# cuenta tiempo de ejecucion\n",
    "# networks\n",
    "import networkx as nx\n",
    "\n",
    "import os\n",
    "os.chdir('/home/serch/pdbmani/Serch')"
   ]
  },
  {
   "cell_type": "code",
   "execution_count": 62,
   "metadata": {},
   "outputs": [],
   "source": [
    "# lectura de archivo\n",
    "file1 = '/home/serch/pdbmani/Serch/pdbs/dimer_con_cofact_clean.pdb'  # dime_out no es trayectoria es pdb\n",
    "\n",
    "# se define la estructura\n",
    "trj1 = rpt.Trajectory(file1)\n",
    "\n",
    "# se lee el pdb y se agrega al objeto\n",
    "trj1.ReadTraj(\"%s\" % file1)\n",
    "\n",
    "trj11 = trj1.frames\n",
    "\n",
    "# set center_mass calculando aqui tarda un poco\n",
    "for pdbstruct in trj11:\n",
    "    pdbstruct.set_center_mass()"
   ]
  },
  {
   "cell_type": "code",
   "execution_count": 103,
   "metadata": {},
   "outputs": [],
   "source": [
    "def get_df_distancias(ref):\n",
    "    \"\"\"Funcion para obtener los enlaces de distancias de cada residuo\n",
    "    Dudas en codigo pueden revisar fc.distancia_entre_atomos en ese se basa\n",
    "    esta funcion, la diferencia es que se crea con el objeto residuo\"\"\"\n",
    "    # se generan listas con coordenadas y numero de atomo\n",
    "#     enlaces = [ [res1.resi, res2.resi] for res1 in ref[1:-1] for res2 in ref[1:-1] \n",
    "#                if res2.resi >= res1.resi if mymath.distance(res2.GetAtom('CA').coord, res1.GetAtom('CA').coord) < 10\n",
    "#               ]\n",
    "\n",
    "    enlaces = []\n",
    "    for res1 in ref:\n",
    "        for res2 in ref:\n",
    "            if res1.resi in [1,178, 201,378] or res2.resi in [1, 178, 201,378]: # se hizo a  mano el quitar los atomos que no nos interesn\n",
    "                continue\n",
    "            else:\n",
    "                if res2.resi >= res1.resi:\n",
    "                    dist = mymath.distance(res2.GetAtom('CA').coord, res1.GetAtom('CA').coord)\n",
    "                    if  dist < 10:\n",
    "                        enlaces.append([res1.resi, res2.resi])\n",
    "\n",
    "    # se genera la matriz de adyacencias para la red\n",
    "    return enlaces"
   ]
  },
  {
   "cell_type": "code",
   "execution_count": 104,
   "metadata": {},
   "outputs": [
    {
     "name": "stdout",
     "output_type": "stream",
     "text": [
      "CPU times: user 2 µs, sys: 0 ns, total: 2 µs\n",
      "Wall time: 4.05 µs\n"
     ]
    }
   ],
   "source": [
    "pdbs = [pdb.GetResChain() for pdb in trj11]\n",
    "\n",
    "enlaces = [get_df_distancias(residues) for residues in pdbs]\n",
    "# aqui se filtran los enlaces\n",
    "\n",
    "%time"
   ]
  },
  {
   "cell_type": "code",
   "execution_count": 105,
   "metadata": {},
   "outputs": [
    {
     "name": "stdout",
     "output_type": "stream",
     "text": [
      "Name: \n",
      "Type: Graph\n",
      "Number of nodes: 352\n",
      "Number of edges: 3195\n",
      "Average degree:  18.1534\n",
      "Number of residues and frame: 356    1\n",
      "Number of chains:             1  dict_keys(['A'])\n"
     ]
    }
   ],
   "source": [
    "from collections import Counter # obtener conteo de enlaces\n",
    "a = Counter([str(j) for i in enlaces for j in i]).most_common()\n",
    "\n",
    "import ast # para pasar de str a tupla o listas\n",
    "red_promedio = nx.Graph([ast.literal_eval(i[0]) for i in a if (i[1] / len(enlaces)) > 0.7])\n",
    "\n",
    "print(nx.info(red_promedio))\n",
    "\n",
    "trj11[0].PrintPdbInfo()"
   ]
  },
  {
   "cell_type": "markdown",
   "metadata": {},
   "source": [
    "# Genera red y subred de vecinos secundarios para Dimero de interes"
   ]
  },
  {
   "cell_type": "code",
   "execution_count": 65,
   "metadata": {},
   "outputs": [
    {
     "name": "stdout",
     "output_type": "stream",
     "text": [
      "CPU times: user 3 µs, sys: 0 ns, total: 3 µs\n",
      "Wall time: 5.48 µs\n"
     ]
    }
   ],
   "source": [
    "%time\n",
    "#!/usr/bin/env python\n",
    "\n",
    "# librerias que utilizaras\n",
    "import numpy as np\n",
    "# por si no te lee las tools o functions creadas\n",
    "import sys\n",
    "sys.path.append(\"/home/serch/pdbmani/Serch/math_tricks/\")\n",
    "sys.path.append(\"/home/serch/pdbmani/Serch/\")\n",
    "import math_vect_tools as mymath\n",
    "# herramientas para leer pdbs\n",
    "import read_pdb_tools as rpt\n",
    "# funciones de click generadas en pandas\n",
    "import funciones_CLICK as fc\n",
    "# cuenta tiempo de ejecucion\n",
    "import datetime\n",
    "time_all = datetime.datetime.now()\n",
    "# networks\n",
    "import networkx as nx\n",
    "import os\n",
    "os.chdir('/home/serch/pdbmani/Serch')\n",
    "\n",
    "\n",
    "# lectura de archivo\n",
    "file1 = '/home/serch/pdbmani/Serch/pdbs/dime_out.pdb'  # dime_out no es trayectoria es pdb\n",
    "\n",
    "# se define la estructura\n",
    "pdb1 = rpt.PdbStruct(file1)\n",
    "\n",
    "# se lee el pdb y se agrega al objeto\n",
    "pdb1.AddPdbData(\"%s\" % file1)\n",
    "\n",
    "pdb1.set_center_mass()\n",
    "\n",
    "pdb1.Set_SS()\n",
    "\n",
    "pdb1.GetNeighbors()\n",
    "\n",
    "pdb11 = pdb1.GetResChain()\n",
    "\n",
    "def get_df_distancias(ref):\n",
    "    \"\"\"Funcion para obtener los enlaces de distancias de cada residuo\n",
    "    Dudas en codigo pueden revisar fc.distancia_entre_atomos en ese se basa\n",
    "    esta funcion, la diferencia es que se crea con el objeto residuo\"\"\"\n",
    "    # se generan listas con coordenadas y numero de atomo\n",
    "\n",
    "    # calcula distancia y regresa dataframe\n",
    "    enlaces = []\n",
    "    for res1 in ref[1:-1]:\n",
    "        for res2 in ref[1:-1]:\n",
    "            if res2.resi >= res1.resi:\n",
    "                dist = mymath.distance(res2.GetAtom('CA').coord, res1.GetAtom('CA').coord)\n",
    "                if dist < 10 and dist != 0:\n",
    "                    enlaces.append([res1.resi, res2.resi])\n",
    "\n",
    "    # se genera la matriz de adyacencias para la red\n",
    "    return enlaces\n",
    "\n",
    "enlaces = get_df_distancias(pdb11)\n",
    "# red de todo el dimero.\n",
    "red = nx.Graph(enlaces)\n",
    "nx.set_edge_attributes(red, 'red', name='color')\n",
    "\n",
    "# nx.write_gexf(red, 'r.gexf')"
   ]
  },
  {
   "cell_type": "code",
   "execution_count": 20,
   "metadata": {},
   "outputs": [],
   "source": [
    "# nx.write_gexf(red, 'r.gexf')"
   ]
  },
  {
   "cell_type": "code",
   "execution_count": 66,
   "metadata": {},
   "outputs": [
    {
     "name": "stdout",
     "output_type": "stream",
     "text": [
      "Name: \n",
      "Type: Graph\n",
      "Number of nodes: 174\n",
      "Number of edges: 1500\n",
      "Average degree:  17.2414\n"
     ]
    }
   ],
   "source": [
    "print(nx.info(red))"
   ]
  },
  {
   "cell_type": "code",
   "execution_count": 34,
   "metadata": {},
   "outputs": [],
   "source": [
    "# funcion subred segundos vecinos\n",
    "def get_second_nei(res, flag_write=False):\n",
    "    first_nei = pdb1.GetRes(res).ngb\n",
    "    list_second_nei = [pdb1.GetRes(residue).ngb for residue in first_nei]\n",
    "    set_second_nei = set([j for i in list_second_nei for j in i])\n",
    "    sub_red = red.subgraph(set_second_nei)\n",
    "    nx.set_edge_attributes(subred, 'blue', name='color')\n",
    "    if flag_write:\n",
    "        nx.write_gexf(sub_red, 'r1.gexf')\n",
    "        return sub_red\n",
    "    else:\n",
    "        return sub_red"
   ]
  },
  {
   "cell_type": "code",
   "execution_count": 58,
   "metadata": {},
   "outputs": [],
   "source": [
    "en1 = [i for i in get_second_nei(160).edges]\n",
    "en2 = [i for i in get_second_nei(5).edges]"
   ]
  },
  {
   "cell_type": "code",
   "execution_count": 59,
   "metadata": {},
   "outputs": [
    {
     "data": {
      "text/plain": [
       "571"
      ]
     },
     "execution_count": 59,
     "metadata": {},
     "output_type": "execute_result"
    }
   ],
   "source": [
    "len(en1)"
   ]
  },
  {
   "cell_type": "code",
   "execution_count": 60,
   "metadata": {},
   "outputs": [
    {
     "data": {
      "text/plain": [
       "296"
      ]
     },
     "execution_count": 60,
     "metadata": {},
     "output_type": "execute_result"
    }
   ],
   "source": [
    "len(en2)"
   ]
  },
  {
   "cell_type": "code",
   "execution_count": 63,
   "metadata": {},
   "outputs": [
    {
     "data": {
      "text/plain": [
       "264"
      ]
     },
     "execution_count": 63,
     "metadata": {},
     "output_type": "execute_result"
    }
   ],
   "source": [
    "# que enlaces si estan en uno u otro residuo\n",
    "len([i for i in en1 if i in en2])"
   ]
  },
  {
   "cell_type": "code",
   "execution_count": 64,
   "metadata": {},
   "outputs": [
    {
     "data": {
      "text/plain": [
       "307"
      ]
     },
     "execution_count": 64,
     "metadata": {},
     "output_type": "execute_result"
    }
   ],
   "source": [
    "# que enlaces si estan en uno u otro residuo\n",
    "len([i for i in en1 if i not in en2])"
   ]
  },
  {
   "cell_type": "markdown",
   "metadata": {},
   "source": [
    "# CHeck de red con articulo Perica"
   ]
  },
  {
   "cell_type": "code",
   "execution_count": 110,
   "metadata": {},
   "outputs": [
    {
     "name": "stdout",
     "output_type": "stream",
     "text": [
      "CPU times: user 2 µs, sys: 0 ns, total: 2 µs\n",
      "Wall time: 4.29 µs\n"
     ]
    }
   ],
   "source": [
    "%time\n",
    "#!/usr/bin/env python\n",
    "\n",
    "# librerias que utilizaras\n",
    "import numpy as np\n",
    "# por si no te lee las tools o functions creadas\n",
    "import sys\n",
    "sys.path.append(\"/home/serch/pdbmani/Serch/math_tricks/\")\n",
    "sys.path.append(\"/home/serch/pdbmani/Serch/\")\n",
    "import math_vect_tools as mymath\n",
    "# herramientas para leer pdbs\n",
    "import read_pdb_tools as rpt\n",
    "# funciones de click generadas en pandas\n",
    "import funciones_CLICK as fc\n",
    "# cuenta tiempo de ejecucion\n",
    "import datetime\n",
    "time_all = datetime.datetime.now()\n",
    "# networks\n",
    "import networkx as nx\n",
    "import os\n",
    "os.chdir('/home/serch/pdbmani/Serch')\n",
    "\n",
    "\n",
    "# lectura de archivo\n",
    "file1 = '/home/serch/pdbmani/Serch/networks_scripts/pdbs/4p81.pdb'  # dime_out no es trayectoria es pdb\n",
    "\n",
    "# se define la estructura\n",
    "pdb1 = rpt.PdbStruct(file1)\n",
    "\n",
    "# se lee el pdb y se agrega al objeto\n",
    "pdb1.AddPdbData(\"%s\" % file1)\n",
    "\n",
    "pdb1.set_center_mass()\n",
    "\n",
    "pdb1.Set_SS()\n",
    "\n",
    "pdb1.GetNeighbors()\n",
    "\n",
    "pdb11 = pdb1.GetResChain()\n",
    "\n",
    "def get_df_distancias(ref):\n",
    "    \"\"\"Funcion para obtener los enlaces de distancias de cada residuo\n",
    "    Dudas en codigo pueden revisar fc.distancia_entre_atomos en ese se basa\n",
    "    esta funcion, la diferencia es que se crea con el objeto residuo\"\"\"\n",
    "    # se generan listas con coordenadas y numero de atomo\n",
    "\n",
    "    # calcula distancia y regresa dataframe\n",
    "    enlaces = []\n",
    "    for res1 in ref[1:-1]:\n",
    "        for res2 in ref[1:-1]:\n",
    "            if res2.resi >= res1.resi:\n",
    "                dist = mymath.distance(res2.GetAtom('CA').coord, res1.GetAtom('CA').coord)\n",
    "                if dist < 10 and dist != 0:\n",
    "                    enlaces.append([res1.resi, res2.resi])\n",
    "\n",
    "    # se genera la matriz de adyacencias para la red\n",
    "    return enlaces\n",
    "\n",
    "enlaces = get_df_distancias(pdb11)\n",
    "# red de todo el dimero.\n",
    "red = nx.Graph(enlaces)\n",
    "nx.set_edge_attributes(red, 'red', name='color')\n",
    "\n",
    "nx.write_gexf(red, 'r.gexf')"
   ]
  },
  {
   "cell_type": "code",
   "execution_count": 98,
   "metadata": {},
   "outputs": [],
   "source": [
    "# nx.write_gexf(red, 'r.gexf')"
   ]
  },
  {
   "cell_type": "code",
   "execution_count": 99,
   "metadata": {},
   "outputs": [
    {
     "name": "stdout",
     "output_type": "stream",
     "text": [
      "Name: \n",
      "Type: Graph\n",
      "Number of nodes: 164\n",
      "Number of edges: 1439\n",
      "Average degree:  17.5488\n"
     ]
    }
   ],
   "source": [
    "print(nx.info(red))"
   ]
  },
  {
   "cell_type": "code",
   "execution_count": 104,
   "metadata": {},
   "outputs": [],
   "source": [
    "# funcion subred segundos vecinos\n",
    "def get_second_nei(res, flag_write=False):\n",
    "    first_nei = pdb1.GetRes(res).ngb\n",
    "    list_second_nei = [pdb1.GetRes(residue).ngb for residue in first_nei]\n",
    "    set_second_nei = set([j for i in list_second_nei for j in i])\n",
    "    sub_red = red.subgraph(set_second_nei)\n",
    "    nx.set_edge_attributes(sub_red, 'blue', name='color')\n",
    "    \n",
    "    if flag_write:\n",
    "        nx.write_gexf(sub_red, 'r1.gexf')\n",
    "        return sub_red\n",
    "    else:\n",
    "        return sub_red"
   ]
  },
  {
   "cell_type": "code",
   "execution_count": 105,
   "metadata": {},
   "outputs": [],
   "source": [
    "en1 = [i for i in get_second_nei(160).edges]\n",
    "en2 = [i for i in get_second_nei(5).edges]"
   ]
  },
  {
   "cell_type": "code",
   "execution_count": 106,
   "metadata": {},
   "outputs": [
    {
     "data": {
      "text/plain": [
       "250"
      ]
     },
     "execution_count": 106,
     "metadata": {},
     "output_type": "execute_result"
    }
   ],
   "source": [
    "len(en1)"
   ]
  },
  {
   "cell_type": "code",
   "execution_count": 107,
   "metadata": {},
   "outputs": [
    {
     "data": {
      "text/plain": [
       "222"
      ]
     },
     "execution_count": 107,
     "metadata": {},
     "output_type": "execute_result"
    }
   ],
   "source": [
    "len(en2)"
   ]
  },
  {
   "cell_type": "code",
   "execution_count": 108,
   "metadata": {},
   "outputs": [
    {
     "data": {
      "text/plain": [
       "199"
      ]
     },
     "execution_count": 108,
     "metadata": {},
     "output_type": "execute_result"
    }
   ],
   "source": [
    "# que enlaces si estan en uno u otro residuo\n",
    "len([i for i in en1 if i in en2])"
   ]
  },
  {
   "cell_type": "code",
   "execution_count": 109,
   "metadata": {},
   "outputs": [
    {
     "data": {
      "text/plain": [
       "51"
      ]
     },
     "execution_count": 109,
     "metadata": {},
     "output_type": "execute_result"
    }
   ],
   "source": [
    "# que enlaces si estan en uno u otro residuo\n",
    "len([i for i in en1 if i not in en2])"
   ]
  },
  {
   "cell_type": "markdown",
   "metadata": {},
   "source": [
    "# Generando red de articulo Universality in Protein Residue Networks 1ash"
   ]
  },
  {
   "cell_type": "code",
   "execution_count": 88,
   "metadata": {},
   "outputs": [],
   "source": [
    "# lectura de archivo\n",
    "file1 = '/home/serch/pdbmani/Serch/networks_scripts/pdbs/1ash.pdb'  # dime_out no es trayectoria es pdb\n",
    "\n",
    "# se define la estructura\n",
    "pdb1 = rpt.PdbStruct(file1)\n",
    "\n",
    "# se lee el pdb y se agrega al objeto\n",
    "pdb1.AddPdbData(\"%s\" % file1)\n",
    "\n",
    "pdb1.set_center_mass()\n",
    "\n",
    "pdb1.Set_SS()\n",
    "\n",
    "pdb1.GetNeighbors()\n",
    "\n",
    "pdb11 = pdb1.GetResChain()\n",
    "\n",
    "def get_df_distancias(ref):\n",
    "    \"\"\"Funcion para obtener los enlaces de distancias de cada residuo\n",
    "    Dudas en codigo pueden revisar fc.distancia_entre_atomos en ese se basa\n",
    "    esta funcion, la diferencia es que se crea con el objeto residuo\"\"\"\n",
    "    # se generan listas con coordenadas y numero de atomo\n",
    "\n",
    "    # calcula distancia y regresa dataframe\n",
    "    enlaces = []\n",
    "    for res1 in ref[1:-1]:\n",
    "        for res2 in ref[1:-1]:\n",
    "            if res2.resi >= res1.resi:\n",
    "                dist = mymath.distance(res2.GetAtom('CA').coord, res1.GetAtom('CA').coord)\n",
    "                if dist < 7 and dist != 0:\n",
    "                    enlaces.append([res1.resi, res2.resi])\n",
    "\n",
    "    # se genera la matriz de adyacencias para la red\n",
    "    return enlaces\n",
    "\n",
    "enlaces = get_df_distancias(pdb11)\n",
    "# red de todo el dimero.\n",
    "red = nx.Graph(enlaces)\n",
    "# nx.set_edge_attributes(red, 'red', name='color')\n",
    "\n",
    "nx.write_gexf(red, 'r.gexf')"
   ]
  },
  {
   "cell_type": "code",
   "execution_count": 89,
   "metadata": {},
   "outputs": [
    {
     "name": "stdout",
     "output_type": "stream",
     "text": [
      "Name: \n",
      "Type: Graph\n",
      "Number of nodes: 145\n",
      "Number of edges: 569\n",
      "Average degree:   7.8483\n"
     ]
    }
   ],
   "source": [
    "print(nx.info(red))"
   ]
  },
  {
   "cell_type": "code",
   "execution_count": null,
   "metadata": {},
   "outputs": [],
   "source": []
  }
 ],
 "metadata": {
  "kernelspec": {
   "display_name": "Python 3",
   "language": "python",
   "name": "python3"
  },
  "language_info": {
   "codemirror_mode": {
    "name": "ipython",
    "version": 3
   },
   "file_extension": ".py",
   "mimetype": "text/x-python",
   "name": "python",
   "nbconvert_exporter": "python",
   "pygments_lexer": "ipython3",
   "version": "3.6.6"
  }
 },
 "nbformat": 4,
 "nbformat_minor": 2
}

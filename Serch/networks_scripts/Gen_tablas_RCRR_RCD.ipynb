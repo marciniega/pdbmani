{
 "cells": [
  {
   "cell_type": "markdown",
   "metadata": {},
   "source": [
    "# Generacion Tablas de redes de contacto residuo a residuo y redes de correlacion dinamica"
   ]
  },
  {
   "cell_type": "code",
   "execution_count": 1,
   "metadata": {},
   "outputs": [],
   "source": [
    "import pandas as pd\n",
    "import numpy as np\n",
    "import networkx as nx\n",
    "import community"
   ]
  },
  {
   "cell_type": "code",
   "execution_count": 2,
   "metadata": {},
   "outputs": [],
   "source": [
    "red_dimer_con_cofact = nx.read_gexf('gexf/red_dimer_con_cofact.gexf')\n",
    "red_tetra_con_cofact = nx.read_gexf('gexf/red_tetra_con_cofact.gexf')\n",
    "red_dimer_sin_cofact = nx.read_gexf('gexf/red_dimer_sin_cofact.gexf')\n",
    "red_tetra_sin_cofact = nx.read_gexf('gexf/red_tetra_sin_cofact.gexf')"
   ]
  },
  {
   "cell_type": "code",
   "execution_count": 13,
   "metadata": {},
   "outputs": [],
   "source": [
    "def measuring(red):\n",
    "    dgr = nx.degree_centrality(red)\n",
    "#     clo = nx.closeness_centrality(red)\n",
    "#     har = nx.harmonic_centrality(red)\n",
    "#     eig = nx.eigenvector_centrality_numpy(red)\n",
    "    bet = nx.betweenness_centrality(red)\n",
    "#     pgr = nx.pagerank(red)\n",
    "#     hits = nx.hits_numpy(red)\n",
    "    \n",
    "    centralities = pd.concat(\n",
    "    [pd.Series(c) for c in (\n",
    "#         hits[1],\n",
    "#                             eig,\n",
    "#                             pgr,\n",
    "#                             har,\n",
    "#                             clo,\n",
    "#                             hits[0],\n",
    "                            dgr,\n",
    "                            bet)],\n",
    "    axis=1)\n",
    "    centralities.columns = [\n",
    "#         \"Authorities\",\n",
    "#                             \"Eigenvector\", \n",
    "#                             \"PageRank\",\n",
    "#                            \"Harmonic_Closeness\", \n",
    "#                             \"Closeness\",\"Hubs\",\n",
    "                           \"Degree\", \"Betweenness\"]\n",
    "#     centralities[\"Harmonic_Closeness\"] /= centralities.shape[0]\n",
    "    \n",
    "    return centralities"
   ]
  },
  {
   "cell_type": "code",
   "execution_count": 22,
   "metadata": {},
   "outputs": [],
   "source": [
    "df_rdc = measuring(red_dimer_con_cofact)\n",
    "df_rds = measuring(red_dimer_sin_cofact)\n",
    "df_rtc = measuring(red_tetra_con_cofact)\n",
    "df_rts = measuring(red_tetra_sin_cofact)"
   ]
  },
  {
   "cell_type": "code",
   "execution_count": 26,
   "metadata": {},
   "outputs": [],
   "source": [
    "part_rdc = community.best_partition(red_dimer_con_cofact, random_state=8)\n",
    "part_rds = community.best_partition(red_dimer_sin_cofact, random_state=8)\n",
    "part_rtc = community.best_partition(red_tetra_con_cofact, random_state=8)\n",
    "part_rts = community.best_partition(red_tetra_sin_cofact, random_state=8)"
   ]
  },
  {
   "cell_type": "code",
   "execution_count": 32,
   "metadata": {},
   "outputs": [],
   "source": [
    "def get_table_df_res_contact(df):\n",
    "    df = df[['Degree', 'Betweenness']].reset_index()\n",
    "    df.columns = ['Num_Residuo', 'Grado', 'Intermediacion']\n",
    "    df.Num_Residuo = df.Num_Residuo.astype(int)\n",
    "    df = df.sort_values('Num_Residuo').reset_index(drop=True)\n",
    "    \n",
    "    return df"
   ]
  },
  {
   "cell_type": "code",
   "execution_count": 34,
   "metadata": {},
   "outputs": [],
   "source": [
    "table_rdc = get_table_df_res_contact(df_rdc)\n",
    "table_rds = get_table_df_res_contact(df_rds)\n",
    "table_rtc = get_table_df_res_contact(df_rtc)\n",
    "table_rts = get_table_df_res_contact(df_rts)"
   ]
  },
  {
   "cell_type": "code",
   "execution_count": 36,
   "metadata": {},
   "outputs": [],
   "source": [
    "table_rdc.to_csv('tabla_red_dimer_con_contact_resres.csv', index=False)\n",
    "table_rds.to_csv('tabla_red_dimer_sin_contact_resres.csv', index=False)\n",
    "table_rtc.to_csv('tabla_red_tetra_con_contact_resres.csv', index=False)\n",
    "table_rts.to_csv('tabla_red_tetra_sin_contact_resres.csv', index=False)"
   ]
  },
  {
   "cell_type": "markdown",
   "metadata": {},
   "source": [
    "# Tablas RCD"
   ]
  },
  {
   "cell_type": "code",
   "execution_count": 4,
   "metadata": {},
   "outputs": [],
   "source": [
    "matrix_adyacente_dimer_con_cofat = nx.to_numpy_matrix(red_dimer_con_cofact)\n",
    "matrix_adyacente_dimer_sin_cofat = nx.to_numpy_matrix(red_dimer_sin_cofact)\n",
    "matrix_adyacente_tetra_con_cofat = nx.to_numpy_matrix(red_tetra_con_cofact)\n",
    "matrix_adyacente_tetra_sin_cofat = nx.to_numpy_matrix(red_tetra_sin_cofact)"
   ]
  },
  {
   "cell_type": "code",
   "execution_count": 5,
   "metadata": {},
   "outputs": [],
   "source": [
    "def get_matrix_correlation(path, matriz_adyacente):\n",
    "    \"\"\"de datos de correlacion cruzada obtenemos la matriz de adyacencia de correlacion\"\"\"\n",
    "    #lectura de datos\n",
    "    data = pd.DataFrame([i.split(\"\\n\")[0].split() for i in open(path).readlines()],columns=[\n",
    "    'res_1','res_2','correlation'])\n",
    "    \n",
    "    # generar matriz\n",
    "    df = pd.pivot(\n",
    "    data.res_1.astype(int).values,\n",
    "    data.res_2.astype(int).values,\n",
    "    data.correlation.astype(float).values).fillna(0)\n",
    "    \n",
    "    def func2(A):\n",
    "        \"\"\"De matriz triangular a matriz completa\n",
    "        A: numpy.array\n",
    "        out: numpy.array\"\"\"\n",
    "        out = A.T + A\n",
    "        idx = np.arange(A.shape[0])\n",
    "        out[idx,idx] = A[idx,idx]\n",
    "        return out\n",
    "    \n",
    "    \n",
    "    values_complete = func2(np.triu(df.values))\n",
    "    \n",
    "    df_complete = pd.DataFrame(values_complete)\n",
    "    \n",
    "    mat_corr = df_complete.values\n",
    "    \n",
    "    print('matriz de correlacion',mat_corr.shape)\n",
    "    print('matriz de contacto',matriz_adyacente.shape)\n",
    "    print('=='*40)\n",
    "    \n",
    "    pre_mat = np.multiply(mat_corr, matriz_adyacente)\n",
    "    \n",
    "    for i in range(df_complete.shape[0]):\n",
    "        for j in range(df_complete.shape[0]):\n",
    "        # cambio condicional\n",
    "            if pre_mat[i,j] == 0 and abs(mat_corr[i,j]) > 0.60:\n",
    "                pre_mat[i,j] = mat_corr[i,j]\n",
    "        # quito selfloops\n",
    "            if i == j:\n",
    "                pre_mat[i,j] = 0\n",
    "            \n",
    "    return df, df_complete, pre_mat"
   ]
  },
  {
   "cell_type": "code",
   "execution_count": 8,
   "metadata": {},
   "outputs": [
    {
     "name": "stdout",
     "output_type": "stream",
     "text": [
      "matriz de correlacion (352, 352)\n",
      "matriz de contacto (352, 352)\n",
      "================================================================================\n",
      "matriz de correlacion (352, 352)\n",
      "matriz de contacto (352, 352)\n",
      "================================================================================\n",
      "matriz de correlacion (352, 352)\n",
      "matriz de contacto (352, 352)\n",
      "================================================================================\n",
      "matriz de correlacion (352, 352)\n",
      "matriz de contacto (352, 352)\n",
      "================================================================================\n"
     ]
    }
   ],
   "source": [
    "tri_dimer_con,complete_dimer_con, matrix_corr_dimer_con = get_matrix_correlation(\n",
    "    'ddc_dimer_con.txt', matrix_adyacente_dimer_con_cofat)\n",
    "tri_dimer_sin,complete_dimer_sin, matrix_corr_dimer_sin = get_matrix_correlation(\n",
    "    'dcc_dimer_sin.txt', matrix_adyacente_dimer_sin_cofat)\n",
    "\n",
    "tri_tetra_con,complete_tetra_con, matrix_corr_tetra_con = get_matrix_correlation(\n",
    "    'dcc_tetra_con.txt', matrix_adyacente_tetra_con_cofat)\n",
    "tri_tetra_sin,complete_tetra_sin, matrix_corr_tetra_sin = get_matrix_correlation(\n",
    "    'dcc_tetra_sin.txt', matrix_adyacente_tetra_sin_cofat)"
   ]
  },
  {
   "cell_type": "markdown",
   "metadata": {},
   "source": [
    "# correccion de numero residuo"
   ]
  },
  {
   "cell_type": "code",
   "execution_count": 18,
   "metadata": {},
   "outputs": [],
   "source": [
    "import sys\n",
    "sys.path.append(\"../math_tricks/\")\n",
    "sys.path.append(\"../../Serch/\")\n",
    "import read_pdb_tools as rpt"
   ]
  },
  {
   "cell_type": "code",
   "execution_count": 19,
   "metadata": {},
   "outputs": [
    {
     "name": "stdout",
     "output_type": "stream",
     "text": [
      "Number of residues and frame: 352    None\n",
      "Number of chains:             1  dict_keys(['A'])\n"
     ]
    }
   ],
   "source": [
    "file1 = 'dimer_clean.pdb'\n",
    "pdb1 = rpt.PdbStruct(file1)\n",
    "pdb1 = rpt.PdbStruct(file1)\n",
    "pdb1.AddPdbData(\"%s\" % file1)\n",
    "pdb1.PrintPdbInfo()\n",
    "parejas_resi_resx = [[i.resx, i.resi] for i in pdb1.GetResChain()]\n",
    "dimer_parejas_resi_resx = dict(parejas_resi_resx)"
   ]
  },
  {
   "cell_type": "code",
   "execution_count": 20,
   "metadata": {},
   "outputs": [
    {
     "name": "stdout",
     "output_type": "stream",
     "text": [
      "Number of residues and frame: 352    None\n",
      "Number of chains:             1  dict_keys(['A'])\n"
     ]
    }
   ],
   "source": [
    "file1 = 'tetra_clean.pdb'\n",
    "pdb1 = rpt.PdbStruct(file1)\n",
    "pdb1 = rpt.PdbStruct(file1)\n",
    "pdb1.AddPdbData(\"%s\" % file1)\n",
    "pdb1.PrintPdbInfo()\n",
    "parejas_resi_resx = [[i.resx, i.resi] for i in pdb1.GetResChain()]\n",
    "tetra_parejas_resi_resx = dict(parejas_resi_resx)"
   ]
  },
  {
   "cell_type": "code",
   "execution_count": 23,
   "metadata": {},
   "outputs": [],
   "source": [
    "def get_table_df_res_contact(df, dic):\n",
    "    df = df[['Degree', 'Betweenness']].reset_index()\n",
    "    df.columns = ['Num_Residuo', 'Grado', 'Intermediacion']\n",
    "    num_res = [dic.get(i) for i in df.Num_Residuo]\n",
    "    df['Num_Residuo'] = num_res\n",
    "    df.Num_Residuo = df.Num_Residuo.astype(int)\n",
    "    df = df.sort_values('Num_Residuo').reset_index(drop=True)\n",
    "    \n",
    "    return df"
   ]
  },
  {
   "cell_type": "code",
   "execution_count": 22,
   "metadata": {},
   "outputs": [],
   "source": [
    "df_rdc = measuring(nx.from_numpy_matrix(matrix_corr_dimer_con))\n",
    "df_rds = measuring(nx.from_numpy_matrix(matrix_corr_dimer_sin))\n",
    "df_rtc = measuring(nx.from_numpy_matrix(matrix_corr_tetra_con))\n",
    "df_rts = measuring(nx.from_numpy_matrix(matrix_corr_tetra_sin))\n"
   ]
  },
  {
   "cell_type": "code",
   "execution_count": 25,
   "metadata": {},
   "outputs": [],
   "source": [
    "table_rdc = get_table_df_res_contact(df_rdc,dimer_parejas_resi_resx)\n",
    "table_rds = get_table_df_res_contact(df_rds,dimer_parejas_resi_resx)\n",
    "table_rtc = get_table_df_res_contact(df_rtc,tetra_parejas_resi_resx)\n",
    "table_rts = get_table_df_res_contact(df_rts,tetra_parejas_resi_resx)"
   ]
  },
  {
   "cell_type": "code",
   "execution_count": 26,
   "metadata": {},
   "outputs": [],
   "source": [
    "table_rdc.to_csv('tabla_red_dimer_con_correlation.csv', index=False)\n",
    "table_rds.to_csv('tabla_red_dimer_sin_correlation.csv', index=False)\n",
    "table_rtc.to_csv('tabla_red_tetra_con_correlation.csv', index=False)\n",
    "table_rts.to_csv('tabla_red_tetra_sin_correlation.csv', index=False)"
   ]
  },
  {
   "cell_type": "code",
   "execution_count": null,
   "metadata": {},
   "outputs": [],
   "source": []
  }
 ],
 "metadata": {
  "kernelspec": {
   "display_name": "Python 3",
   "language": "python",
   "name": "python3"
  },
  "language_info": {
   "codemirror_mode": {
    "name": "ipython",
    "version": 3
   },
   "file_extension": ".py",
   "mimetype": "text/x-python",
   "name": "python",
   "nbconvert_exporter": "python",
   "pygments_lexer": "ipython3",
   "version": "3.7.0"
  }
 },
 "nbformat": 4,
 "nbformat_minor": 2
}

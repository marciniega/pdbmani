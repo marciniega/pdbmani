{
 "cells": [
  {
   "cell_type": "markdown",
   "metadata": {},
   "source": [
    "# Pruebas de CLICK sobre start_oo.py\n",
    "Se busca probar las funciones y scripts para obtener una mayor rapidez de ejecucion. \n",
    "Basandose en la estructura como esta en start_oo.py"
   ]
  },
  {
   "cell_type": "code",
   "execution_count": 1,
   "metadata": {},
   "outputs": [],
   "source": [
    "# librerias que utilizaras\n",
    "import numpy as np\n",
    "# por si no te lee las tools o functions creadas\n",
    "import sys\n",
    "# herramientas para leer pdbs\n",
    "import read_pdb_tools as rpt\n",
    "# calculo de distancia\n",
    "from scipy.spatial.distance import pdist, squareform\n",
    "# libreria de tablas\n",
    "import pandas as pd\n",
    "# funciones de click generadas en pandas\n",
    "import funciones_CLICK as fc\n",
    "# iteradores\n",
    "import itertools as it\n",
    "# cuenta tiempo de ejecucion\n",
    "import datetime"
   ]
  },
  {
   "cell_type": "code",
   "execution_count": 2,
   "metadata": {},
   "outputs": [],
   "source": [
    "# assert( len(sys.argv) > 1)\n",
    "# lectura de archivo\n",
    "file1 = '1xxa.pdb' # sys.argv[1]\n",
    "file2 = '1tig.pdb' # sys.argv[2]\n",
    "\n",
    "# numero de cliques, preguntar en el software para generalizarlo...\n",
    "num_cliques = 3\n",
    "\n",
    "# se define la estructura\n",
    "pdb1 = rpt.PdbStruct(\"first\")\n",
    "pdb2 = rpt.PdbStruct(\"second\")\n",
    "\n",
    "# se lee el pdb y se agrega al objeto\n",
    "pdb1.AddPdbData(\"%s\" % file1)\n",
    "pdb2.AddPdbData(\"%s\" % file2)\n",
    "\n",
    "# se obtienen los residuos que perteneces a la cadena de interes por default chain = 'A'\n",
    "pdb11 = pdb1.GetResChain()\n",
    "pdb22 = pdb2.GetResChain()\n",
    "\n",
    "ss1 = pdb1.Get_SS(file1)\n",
    "ss2 = pdb1.Get_SS(file2)"
   ]
  },
  {
   "cell_type": "code",
   "execution_count": 3,
   "metadata": {},
   "outputs": [],
   "source": [
    "# se crea atributo a cada residuo\n",
    "for i, j in zip(pdb11, ss1.structure.values):\n",
    "    setattr(i, 'structure', j)\n",
    "for i, j in zip(pdb22, ss2.structure.values):\n",
    "    setattr(i, 'structure', j)"
   ]
  },
  {
   "cell_type": "code",
   "execution_count": 4,
   "metadata": {},
   "outputs": [],
   "source": [
    "def get_df_distancias(ref):\n",
    "    \"\"\"Funcion para obtener el dataframe de distancias de cada proteina\"\"\"\n",
    "    # se generan listas con coordenadas y numero de atomo\n",
    "    coord = [res.GetAtom('CA').coord for res in ref]\n",
    "    index = [res.resi for res in ref]\n",
    "\n",
    "    # calcula distancia y regresa dataframe\n",
    "    distancias = []\n",
    "    # se calcula la distancia euclidiana entre cada atomo de carbon alfalfa\n",
    "    for v in coord:\n",
    "        distancia_un_atomo = []\n",
    "        for av in coord:\n",
    "            distancia = pdist(np.array([v, av]), metric='euclidean').item()\n",
    "            distancia_un_atomo.append(distancia)\n",
    "        distancias.append(distancia_un_atomo)\n",
    "\n",
    "    # se genera la matriz de adyacencias para la red\n",
    "    df_da = pd.DataFrame(index=index, columns=index, data=distancias)\n",
    "    return(df_da, index)\n",
    "\n",
    "\n",
    "df_distancias1, index1 = get_df_distancias(pdb11)\n",
    "df_distancias2, index2 = get_df_distancias(pdb22)"
   ]
  },
  {
   "cell_type": "code",
   "execution_count": 5,
   "metadata": {},
   "outputs": [
    {
     "name": "stdout",
     "output_type": "stream",
     "text": [
      "numero de cliques maximos encontrados: 158\n",
      "numero de 3-cliques posibles: 1787\n",
      "****************************************************************************************************\n",
      "numero de cliques maximos encontrados: 246\n",
      "numero de 3-cliques posibles: 2102\n",
      "****************************************************************************************************\n"
     ]
    }
   ],
   "source": [
    "# se generan cliques, tte devuleve dataframe con cliques de 3 y la lista de cliques sin partir\n",
    "df_cliques1, cliques1 = fc.gen_3_cliques(df_distancias1, dth=10, k=num_cliques)\n",
    "print('**'*50)\n",
    "df_cliques2, cliques2 = fc.gen_3_cliques(df_distancias2, dth=10, k=num_cliques)\n",
    "print('**'*50)"
   ]
  },
  {
   "cell_type": "code",
   "execution_count": 6,
   "metadata": {},
   "outputs": [],
   "source": [
    "def get_df_ca(list_of_residues):\n",
    "    \"\"\"Genera dataframe con la informacion necesaria para las siguientes funciones\n",
    "    FALTA DOCUMENTAR ESTA COSA!!!!\"\"\"\n",
    "    #crear df_ca\n",
    "    atom_number = []\n",
    "    atom_name = []\n",
    "    residue_name = []\n",
    "    residue_number = []\n",
    "    coord = []\n",
    "    for res in list_of_residues:\n",
    "        for atom in res.atoms:\n",
    "            atom_number.append(atom.atom_number)\n",
    "            atom_name.append(atom.name)\n",
    "            residue_name.append(res.resn)\n",
    "            residue_number.append(res.resi)\n",
    "            coord.append(atom.coord)\n",
    "\n",
    "    df_atoms = pd.DataFrame(columns=['atom_number', 'atom_name', 'residue_name',\n",
    "                                   'residue_number', 'vector'])\n",
    "    df_atoms.atom_number = atom_number\n",
    "    df_atoms.atom_name = atom_name\n",
    "    df_atoms.residue_name = residue_name\n",
    "    df_atoms.residue_number = residue_number\n",
    "    df_atoms.vector = coord\n",
    "\n",
    "    return(df_atoms)\n",
    "\n",
    "\n",
    "# CREAR DF_atomos_CA #\n",
    "df_atoms1 = get_df_ca(pdb11)\n",
    "df_atoms2 = get_df_ca(pdb22)"
   ]
  },
  {
   "cell_type": "code",
   "execution_count": 7,
   "metadata": {},
   "outputs": [],
   "source": [
    "# se obtiene la estructura secundaria utilizando dssp\n",
    "# ss1 = fc.mini_dssp(file1, index1)\n",
    "# print('**'*50)\n",
    "# ss2 = fc.mini_dssp(file2, index2)\n",
    "# ya no por que se obtiene arriba desde read_pdb_tools.py\n",
    "\n",
    "# se le pega la estructura secundaria al dataframe de los cliques\n",
    "# esto va a cambiar por que lo tiene que obtener del objeto residuo\n",
    "# ya se crea en ss1 y no cuesta reevaluar si es mejor desde el residuo\n",
    "# checar que es mas rapido si desde residuo o desde dataframe ss\n",
    "df_cliques1 = fc.paste_SS(ss1, df_cliques1, num_cliques = num_cliques)\n",
    "df_cliques2 = fc.paste_SS(ss2, df_cliques2, num_cliques = num_cliques)"
   ]
  },
  {
   "cell_type": "code",
   "execution_count": 8,
   "metadata": {},
   "outputs": [],
   "source": [
    "# comparacion SSM #aqui se obtienen los candidatos posibles pasando el filtro de SS\n",
    "candidatos_ss = fc.compare_SS(df_cliques1,df_cliques2, num_cliques=num_cliques)"
   ]
  },
  {
   "cell_type": "code",
   "execution_count": 9,
   "metadata": {},
   "outputs": [],
   "source": [
    "# get coords of cliques\n",
    "df_cliques1 = fc.get_coords_clique(df_atoms1, df_cliques1, num_cliques)\n",
    "df_cliques2 = fc.get_coords_clique(df_atoms2, df_cliques2, num_cliques)"
   ]
  },
  {
   "cell_type": "code",
   "execution_count": 10,
   "metadata": {},
   "outputs": [],
   "source": [
    "# baricentro clique\n",
    "df_cliques1 = fc.baricenter_clique(df_cliques1, num_cliques)\n",
    "df_cliques2 = fc.baricenter_clique(df_cliques2, num_cliques)"
   ]
  },
  {
   "cell_type": "code",
   "execution_count": 11,
   "metadata": {},
   "outputs": [],
   "source": [
    "# vectores gorro\n",
    "df_cliques1 = fc.center_vectors(df_cliques1, num_cliques)\n",
    "df_cliques2 = fc.center_vectors(df_cliques2, num_cliques)"
   ]
  },
  {
   "cell_type": "code",
   "execution_count": 12,
   "metadata": {},
   "outputs": [
    {
     "name": "stdout",
     "output_type": "stream",
     "text": [
      "0 0\n",
      "1 1\n",
      "2 2\n",
      "3 ss_0\n",
      "4 ss_1\n",
      "5 ss_2\n",
      "6 coord_clique_0\n",
      "7 coord_clique_1\n",
      "8 coord_clique_2\n",
      "9 matriz_coordenadas\n",
      "10 baricentro_clique\n",
      "11 vec_gorro_0\n",
      "12 vec_gorro_1\n",
      "13 vec_gorro_2\n",
      "14 vectores_gorro\n"
     ]
    }
   ],
   "source": [
    "for i,j in enumerate(df_cliques1.columns):\n",
    "    print(i,j)"
   ]
  },
  {
   "cell_type": "code",
   "execution_count": 13,
   "metadata": {},
   "outputs": [],
   "source": [
    "idx_rmsd1, idx_rmsd2 = 3*num_cliques, 4*num_cliques+3\n",
    "# print(list(range(idx_rmsd1,idx_rmsd2)))\n",
    "# se pasan a numpy arrays para mayor rapidez\n",
    "array_df_cliques1 = df_cliques1.values[:, range(idx_rmsd1, idx_rmsd2)] #del 9 al 15\n",
    "array_df_cliques2 = df_cliques2.values[:, range(idx_rmsd1, idx_rmsd2)]"
   ]
  },
  {
   "cell_type": "code",
   "execution_count": 14,
   "metadata": {},
   "outputs": [
    {
     "name": "stdout",
     "output_type": "stream",
     "text": [
      "1705808\n"
     ]
    }
   ],
   "source": [
    "#calculo del RMSD\n",
    "print(len(candidatos_ss))"
   ]
  },
  {
   "cell_type": "markdown",
   "metadata": {},
   "source": [
    "# Prueba distancia minima entre el centro de cada esfera promedio"
   ]
  },
  {
   "cell_type": "code",
   "execution_count": 15,
   "metadata": {},
   "outputs": [],
   "source": [
    "# # el baricentro de los vectores gorro es el origen\n",
    "# algo = fc.baricenter_vectores_gorro(df_cliques1,num_cliques)\n",
    "# algo2 = fc.baricenter_vectores_gorro(df_cliques2,num_cliques)"
   ]
  },
  {
   "cell_type": "code",
   "execution_count": 16,
   "metadata": {},
   "outputs": [],
   "source": [
    "# #se pasan de cartesianas a polares\n",
    "# def cart2pol(x, y,z):\n",
    "#     rho = np.sqrt(x**2 + y**2 + z**2)\n",
    "#     phi = np.arctan2(y, x)\n",
    "#     return(rho, phi)\n",
    "\n",
    "# def pol2cart(rho, phi):\n",
    "#     x = rho * np.cos(phi)\n",
    "#     y = rho * np.sin(phi)\n",
    "#     return(x, y)"
   ]
  },
  {
   "cell_type": "code",
   "execution_count": 17,
   "metadata": {},
   "outputs": [],
   "source": [
    "import cufflinks as cf\n",
    "import plotly\n",
    "import plotly.plotly as py\n",
    "import plotly.graph_objs as go\n",
    "import matplotlib.pyplot as plt\n",
    "\n",
    "%matplotlib inline"
   ]
  },
  {
   "cell_type": "code",
   "execution_count": 18,
   "metadata": {},
   "outputs": [],
   "source": [
    "# algo.head(2)"
   ]
  },
  {
   "cell_type": "code",
   "execution_count": 73,
   "metadata": {},
   "outputs": [
    {
     "data": {
      "text/html": [
       "<iframe id=\"igraph\" scrolling=\"no\" style=\"border:none;\" seamless=\"seamless\" src=\"https://plot.ly/~serch86/1778.embed\" height=\"525px\" width=\"100%\"></iframe>"
      ],
      "text/plain": [
       "<plotly.tools.PlotlyDisplay object>"
      ]
     },
     "execution_count": 73,
     "metadata": {},
     "output_type": "execute_result"
    }
   ],
   "source": [
    "#PLOT DE COMO SE VEN LOS ATOMOS AL COMPARAR\n",
    "trace1 = go.Scatter3d(\n",
    "    x=np.array(algo.vectores_gorro[0])[:,0],\n",
    "    y=np.array(algo.vectores_gorro[0])[:,1],\n",
    "    z=np.array(algo.vectores_gorro[0])[:,2],\n",
    "    mode='markers+lines',\n",
    "    marker=dict(\n",
    "        size=12,\n",
    "        line=dict(\n",
    "#             color='rgba(0, 0, 153, 0.14)',\n",
    "            width=0.5\n",
    "        ),\n",
    "        opacity=0.8\n",
    "    )\n",
    ")\n",
    "\n",
    "trace2 = go.Scatter3d(\n",
    "    x=np.array(algo2.vectores_gorro[0])[:,0],\n",
    "    y=np.array(algo2.vectores_gorro[0])[:,1],\n",
    "    z=np.array(algo2.vectores_gorro[0])[:,2],\n",
    "    mode='markers+lines',\n",
    "    marker=dict(\n",
    "#         color='rgb(102, 102, 0)',\n",
    "        size=12,\n",
    "        symbol='circle',\n",
    "        line=dict(\n",
    "#             color='rgb(204, 204, 0)',\n",
    "            width=1\n",
    "        ),\n",
    "        opacity=0.9\n",
    "    )\n",
    ")\n",
    "trace3 = go.Scatter3d(\n",
    "    x=np.array(algo.matriz_coordenadas[0])[:,0],\n",
    "    y=np.array(algo.matriz_coordenadas[0])[:,1],\n",
    "    z=np.array(algo.matriz_coordenadas[0])[:,2],\n",
    "    mode='markers+lines',\n",
    "    marker=dict(\n",
    "        size=12,\n",
    "        line=dict(\n",
    "#             color='rgba(0, 0, 153, 0.14)',\n",
    "            width=0.5\n",
    "        ),\n",
    "        opacity=0.8\n",
    "    )\n",
    ")\n",
    "\n",
    "trace4 = go.Scatter3d(\n",
    "    x=np.array(algo2.matriz_coordenadas[0])[:,0],\n",
    "    y=np.array(algo2.matriz_coordenadas[0])[:,1],\n",
    "    z=np.array(algo2.matriz_coordenadas[0])[:,2],\n",
    "    mode='markers+lines',\n",
    "    marker=dict(\n",
    "#         color='rgb(102, 102, 0)',\n",
    "        size=12,\n",
    "        symbol='circle',\n",
    "        line=dict(\n",
    "            color='rgb(204, 204, 0)',\n",
    "            width=1\n",
    "        ),\n",
    "        opacity=0.9\n",
    "    )\n",
    ")\n",
    "trace5 = go.Scatter3d(\n",
    "    x=np.array(0),\n",
    "    y=np.array(0),\n",
    "    z=np.array(0),\n",
    "    mode='markers+lines',\n",
    "    marker=dict(\n",
    "#         color='rgb(102, 102, 0)',\n",
    "        size=6,\n",
    "        symbol='square',\n",
    "        line=dict(\n",
    "            color='rgb(204, 204, 0)',\n",
    "            width=1\n",
    "        ),\n",
    "        opacity=0.9\n",
    "    )\n",
    ")\n",
    "\n",
    "data = [trace1,trace2,trace3,trace4,trace5]\n",
    "layout = go.Layout(\n",
    "    margin=dict(\n",
    "        l=0,\n",
    "        r=0,\n",
    "        b=0,\n",
    "        t=0,\n",
    "        \n",
    "    )\n",
    ")\n",
    "fig = go.Figure(data=data, layout=layout)\n",
    "py.iplot(fig, filename='simple-3d-scatter',)"
   ]
  },
  {
   "cell_type": "markdown",
   "metadata": {},
   "source": [
    "# Codigo que compara candidatos"
   ]
  },
  {
   "cell_type": "code",
   "execution_count": 19,
   "metadata": {},
   "outputs": [
    {
     "name": "stdout",
     "output_type": "stream",
     "text": [
      "numero de candidatos: 6907\n",
      "CPU times: user 4min 59s, sys: 444 ms, total: 4min 59s\n",
      "Wall time: 4min 59s\n"
     ]
    }
   ],
   "source": [
    "%%time\n",
    "restriccion_rmsd = 0.15\n",
    "if num_cliques == 4:\n",
    "    restriccion_rmsd = 0.30\n",
    "if num_cliques == 5:\n",
    "    restriccion_rmsd = 0.60\n",
    "if num_cliques == 7:\n",
    "    restriccion_rmsd = 1.50\n",
    "if num_cliques == 8:\n",
    "    restriccion_rmsd = 1.80\n",
    "\n",
    "candidatos = [(i, j) for i, j in candidatos_ss if fc.calculate_rmsd_rot_trans(\n",
    "    i, j, array_df_cliques1, array_df_cliques2, num_cliques) <= restriccion_rmsd]\n",
    "\n",
    "# rmsd_candidatos = [fc.calculate_rmsd_rot_trans(i, j, array_df_cliques1, array_df_cliques2, num_cliques) for i, j in candidatos_ss if fc.calculate_rmsd_rot_trans(\n",
    "#     i, j, array_df_cliques1, array_df_cliques2, num_cliques) <= restriccion_rmsd]\n",
    "\n",
    "print('numero de candidatos:', len(candidatos))"
   ]
  },
  {
   "cell_type": "code",
   "execution_count": 78,
   "metadata": {},
   "outputs": [
    {
     "data": {
      "text/plain": [
       "<matplotlib.axes._subplots.AxesSubplot at 0x7fe31b14aeb8>"
      ]
     },
     "execution_count": 78,
     "metadata": {},
     "output_type": "execute_result"
    },
    {
     "data": {
      "image/png": "[encoded data removed]",
      "text/plain": [
       "<Figure size 432x288 with 1 Axes>"
      ]
     },
     "metadata": {
      "needs_background": "light"
     },
     "output_type": "display_data"
    }
   ],
   "source": [
    "pd.Series(rmsd_candidatos).hist(bins=100)"
   ]
  },
  {
   "cell_type": "code",
   "execution_count": 79,
   "metadata": {},
   "outputs": [
    {
     "data": {
      "text/plain": [
       "count   6907.00000\n",
       "mean    0.11314   \n",
       "std     0.03040   \n",
       "min     0.00648   \n",
       "25%     0.09610   \n",
       "50%     0.12134   \n",
       "75%     0.13724   \n",
       "max     0.15000   \n",
       "dtype: float64"
      ]
     },
     "execution_count": 79,
     "metadata": {},
     "output_type": "execute_result"
    }
   ],
   "source": [
    "pd.Series(rmsd_candidatos).describe()"
   ]
  },
  {
   "cell_type": "code",
   "execution_count": 82,
   "metadata": {},
   "outputs": [
    {
     "data": {
      "text/plain": [
       "0.06727038032400437"
      ]
     },
     "execution_count": 82,
     "metadata": {},
     "output_type": "execute_result"
    }
   ],
   "source": [
    "pd.Series(rmsd_candidatos).quantile(0.1)"
   ]
  },
  {
   "cell_type": "code",
   "execution_count": 83,
   "metadata": {},
   "outputs": [
    {
     "data": {
      "text/plain": [
       "0.05001109786292722"
      ]
     },
     "execution_count": 83,
     "metadata": {},
     "output_type": "execute_result"
    }
   ],
   "source": [
    "pd.Series(rmsd_candidatos).quantile(0.05)"
   ]
  },
  {
   "cell_type": "code",
   "execution_count": 136,
   "metadata": {},
   "outputs": [
    {
     "data": {
      "text/plain": [
       "0.02523522209157175"
      ]
     },
     "execution_count": 136,
     "metadata": {},
     "output_type": "execute_result"
    }
   ],
   "source": [
    "pd.Series(rmsd_candidatos).quantile(0.01)"
   ]
  },
  {
   "cell_type": "code",
   "execution_count": 90,
   "metadata": {},
   "outputs": [],
   "source": [
    "candimans = pd.DataFrame([candidatos,rmsd_candidatos]).T"
   ]
  },
  {
   "cell_type": "code",
   "execution_count": 94,
   "metadata": {},
   "outputs": [],
   "source": [
    "candimans.columns = ['candidatos','rmsd']"
   ]
  },
  {
   "cell_type": "code",
   "execution_count": 103,
   "metadata": {},
   "outputs": [],
   "source": [
    "candimans['cand1'] = candimans.candidatos.str[0]\n",
    "candimans['cand2'] = candimans.candidatos.str[1]"
   ]
  },
  {
   "cell_type": "code",
   "execution_count": 110,
   "metadata": {},
   "outputs": [],
   "source": [
    "candimans.rmsd = candimans.rmsd.astype(float)"
   ]
  },
  {
   "cell_type": "code",
   "execution_count": 129,
   "metadata": {},
   "outputs": [],
   "source": [
    "esto = candimans.groupby(['cand1','cand2']).rmsd.mean()"
   ]
  },
  {
   "cell_type": "code",
   "execution_count": 176,
   "metadata": {},
   "outputs": [
    {
     "data": {
      "text/plain": [
       "cand1  cand2\n",
       "17     1220    0.04090\n",
       "33     363     0.03582\n",
       "       1018    0.03242\n",
       "       1081    0.01528\n",
       "       1173    0.04195\n",
       "       2058    0.04083\n",
       "59     1476    0.01657\n",
       "70     1159    0.00963\n",
       "       1532    0.02959\n",
       "189    1242    0.02918\n",
       "190    1295    0.03836\n",
       "222    1442    0.01339\n",
       "230    1276    0.04978\n",
       "312    1745    0.03645\n",
       "338    1366    0.04759\n",
       "345    144     0.04983\n",
       "350    960     0.03699\n",
       "376    1442    0.03475\n",
       "436    974     0.04434\n",
       "449    1437    0.02963\n",
       "456    594     0.04411\n",
       "463    1442    0.02424\n",
       "       1777    0.01154\n",
       "468    1442    0.01876\n",
       "       1777    0.03447\n",
       "       1885    0.03777\n",
       "478    957     0.02572\n",
       "480    1269    0.03776\n",
       "493    135     0.01925\n",
       "       138     0.04154\n",
       "       139     0.03550\n",
       "503    1160    0.04858\n",
       "       1455    0.02191\n",
       "504    1494    0.03899\n",
       "506    3       0.02229\n",
       "       14      0.00648\n",
       "       114     0.03423\n",
       "       363     0.01066\n",
       "       491     0.04921\n",
       "       1018    0.02251\n",
       "       2058    0.01366\n",
       "511    1754    0.03529\n",
       "515    587     0.04928\n",
       "533    589     0.04998\n",
       "534    3       0.03346\n",
       "       14      0.02192\n",
       "       114     0.01665\n",
       "       1763    0.04246\n",
       "       1851    0.02812\n",
       "538    1562    0.04511\n",
       "                 ...  \n",
       "1671   684     0.04188\n",
       "       1865    0.04642\n",
       "       1876    0.01399\n",
       "1672   1859    0.04108\n",
       "1676   69      0.03271\n",
       "1677   6       0.04024\n",
       "       666     0.03596\n",
       "1678   1493    0.03895\n",
       "1679   1558    0.04461\n",
       "1690   1810    0.00778\n",
       "1698   185     0.02443\n",
       "1724   703     0.02766\n",
       "1725   922     0.02615\n",
       "1726   1547    0.04807\n",
       "1727   1809    0.04833\n",
       "1728   135     0.04772\n",
       "       138     0.04256\n",
       "       139     0.01973\n",
       "       659     0.04114\n",
       "       664     0.03634\n",
       "1729   1718    0.04683\n",
       "1741   1835    0.04443\n",
       "1743   732     0.04489\n",
       "1745   1753    0.04985\n",
       "       1881    0.01957\n",
       "1752   178     0.04731\n",
       "       709     0.04822\n",
       "       1527    0.02755\n",
       "       1776    0.02934\n",
       "1755   167     0.04217\n",
       "       1276    0.03868\n",
       "1757   10      0.04342\n",
       "       478     0.04495\n",
       "       1796    0.03686\n",
       "1760   0       0.04815\n",
       "1761   1777    0.04526\n",
       "1764   11      0.04784\n",
       "       528     0.04584\n",
       "       1491    0.01406\n",
       "1765   1571    0.02563\n",
       "1766   1796    0.03994\n",
       "1769   6       0.03488\n",
       "1770   69      0.03112\n",
       "1771   8       0.02060\n",
       "       74      0.02620\n",
       "       1883    0.01627\n",
       "1774   622     0.04380\n",
       "       1873    0.04514\n",
       "1775   1173    0.04996\n",
       "1779   470     0.04395\n",
       "Name: rmsd, Length: 346, dtype: float64"
      ]
     },
     "execution_count": 176,
     "metadata": {},
     "output_type": "execute_result"
    }
   ],
   "source": [
    "esto[esto < 0.05]"
   ]
  },
  {
   "cell_type": "code",
   "execution_count": 209,
   "metadata": {},
   "outputs": [],
   "source": [
    "serie_rmsd = pd.Series(rmsd_candidatos)\n",
    "q5 = pd.Series(rmsd_candidatos).quantile(0.05)\n",
    "q10 = pd.Series(rmsd_candidatos).quantile(0.1)\n",
    "q20 = pd.Series(rmsd_candidatos).quantile(0.2)\n",
    "\n",
    "q5count = serie_rmsd[serie_rmsd <=q5].count()\n",
    "q10count = serie_rmsd[serie_rmsd <=q10].count()\n",
    "q20count = serie_rmsd[serie_rmsd <=q20].count()\n"
   ]
  },
  {
   "cell_type": "code",
   "execution_count": 219,
   "metadata": {},
   "outputs": [
    {
     "data": {
      "image/png": "[encoded data removed]",
      "text/plain": [
       "<Figure size 720x360 with 1 Axes>"
      ]
     },
     "metadata": {
      "needs_background": "light"
     },
     "output_type": "display_data"
    }
   ],
   "source": [
    "serie_rmsd.hist(bins=70,figsize = (10,5))\n",
    "plt.title('Distribucion de rmsd de candidatos despues de comparacion para encontrar corte optimo', color='w',fontsize= 20)\n",
    "plt.vlines(q5,0,300)\n",
    "plt.text(q5-0.005,310,'Q5', fontsize=20)\n",
    "plt.text(q5-0.004, 200,q5count, fontsize=16,rotation=90)\n",
    "plt.vlines(q10,0,300, color = 'b')\n",
    "plt.text(q10-0.005,310,'Q10',color = 'b',fontsize=20)\n",
    "plt.text(q10-0.004, 200,q10count, fontsize=16,rotation=90, color='b')\n",
    "plt.vlines(q20,0,300, color ='g')\n",
    "plt.text(q20-0.005,310,'Q20',color = 'g',fontsize=20)\n",
    "plt.text(q20-0.004, 200,q20count, fontsize=16,rotation=90,color='g')\n",
    "plt.xlabel('RMSD', color='w')\n",
    "plt.savefig('distribucion_rmsd.jpg')"
   ]
  },
  {
   "cell_type": "code",
   "execution_count": 225,
   "metadata": {},
   "outputs": [
    {
     "data": {
      "text/plain": [
       "<matplotlib.axes._subplots.AxesSubplot at 0x7fe309e595c0>"
      ]
     },
     "execution_count": 225,
     "metadata": {},
     "output_type": "execute_result"
    },
    {
     "data": {
      "image/png": "[encoded data removed]",
      "text/plain": [
       "<Figure size 432x288 with 1 Axes>"
      ]
     },
     "metadata": {
      "needs_background": "light"
     },
     "output_type": "display_data"
    }
   ],
   "source": [
    "candimans.cand1.value_counts().hist(bins =50)"
   ]
  },
  {
   "cell_type": "code",
   "execution_count": 230,
   "metadata": {},
   "outputs": [
    {
     "data": {
      "text/plain": [
       "<matplotlib.axes._subplots.AxesSubplot at 0x7fe30a0806d8>"
      ]
     },
     "execution_count": 230,
     "metadata": {},
     "output_type": "execute_result"
    },
    {
     "data": {
      "image/png": "[encoded data removed]",
      "text/plain": [
       "<Figure size 432x288 with 1 Axes>"
      ]
     },
     "metadata": {
      "needs_background": "light"
     },
     "output_type": "display_data"
    }
   ],
   "source": [
    "candimans.cand2.value_counts().hist(bins =40)"
   ]
  },
  {
   "cell_type": "code",
   "execution_count": 19,
   "metadata": {},
   "outputs": [],
   "source": [
    "pd.Series(candidatos_ss).to_csv('candidatos_ss.csv')"
   ]
  },
  {
   "cell_type": "markdown",
   "metadata": {},
   "source": [
    "# Haciendo MUltiprocessing"
   ]
  },
  {
   "cell_type": "code",
   "execution_count": 16,
   "metadata": {},
   "outputs": [],
   "source": [
    "# import random, time, multiprocessing\n",
    " \n",
    "# def func(arg):\n",
    "#     print ('%s says %s'%(multiprocessing.current_process(), arg))\n",
    "#     time.sleep( random.uniform(0, 0.5) )\n",
    "#     return arg\n",
    " \n",
    "# p     = multiprocessing.Pool(5)\n",
    " \n",
    "# result1 = p.map_async( func, range(100,199) )\n",
    "# result2 = p.map_async( func, range(200,299) )\n",
    "# result3 = p.map_async( func, range(300,399) )\n",
    " \n",
    "# print (\"Waiting for results\")\n",
    " \n",
    "# p.close()\n",
    "# p.join()\n",
    "# print (result1.get())\n",
    "# print (result2.get())"
   ]
  },
  {
   "cell_type": "code",
   "execution_count": 17,
   "metadata": {},
   "outputs": [
    {
     "data": {
      "text/plain": [
       "568602.6666666666"
      ]
     },
     "execution_count": 17,
     "metadata": {},
     "output_type": "execute_result"
    }
   ],
   "source": [
    "len(candidatos_ss)/3"
   ]
  },
  {
   "cell_type": "code",
   "execution_count": 18,
   "metadata": {},
   "outputs": [
    {
     "data": {
      "text/plain": [
       "1137204"
      ]
     },
     "execution_count": 18,
     "metadata": {},
     "output_type": "execute_result"
    }
   ],
   "source": [
    "568602 + 568602"
   ]
  },
  {
   "cell_type": "code",
   "execution_count": 19,
   "metadata": {},
   "outputs": [],
   "source": [
    "primer_cacho = candidatos_ss"
   ]
  },
  {
   "cell_type": "code",
   "execution_count": 20,
   "metadata": {},
   "outputs": [],
   "source": [
    "import multiprocessing\n",
    "from functools import partial"
   ]
  },
  {
   "cell_type": "code",
   "execution_count": 21,
   "metadata": {},
   "outputs": [],
   "source": [
    "cacho_1 = primer_cacho[:568602]\n",
    "cacho_2 = primer_cacho[568602:1137204]\n",
    "cacho_3 = primer_cacho[1137204:]"
   ]
  },
  {
   "cell_type": "code",
   "execution_count": 22,
   "metadata": {},
   "outputs": [],
   "source": [
    "p = multiprocessing.Pool()"
   ]
  },
  {
   "cell_type": "code",
   "execution_count": 56,
   "metadata": {},
   "outputs": [
    {
     "name": "stdout",
     "output_type": "stream",
     "text": [
      "CPU times: user 26.2 s, sys: 1.03 s, total: 27.2 s\n",
      "Wall time: 1min 30s\n"
     ]
    }
   ],
   "source": [
    "%%time\n",
    "rmsd_1 = p.map(partial(fc.calculate_rmsd_rot_trans_m,  \n",
    "                    array_cliques1 = array_df_cliques1, \n",
    "                    array_cliques2 = array_df_cliques2, \n",
    "                    num_cliques = num_cliques), cacho_1)\n",
    "rmsd_2 = p.map(partial(fc.calculate_rmsd_rot_trans_m,  \n",
    "                    array_cliques1 = array_df_cliques1, \n",
    "                    array_cliques2 = array_df_cliques2, \n",
    "                    num_cliques = num_cliques), cacho_2)\n",
    "rmsd_3 = p.map(partial(fc.calculate_rmsd_rot_trans_m,  \n",
    "                    array_cliques1 = array_df_cliques1, \n",
    "                    array_cliques2 = array_df_cliques2, \n",
    "                    num_cliques = num_cliques), cacho_3)"
   ]
  },
  {
   "cell_type": "code",
   "execution_count": 57,
   "metadata": {},
   "outputs": [],
   "source": [
    "# %%time #para map_async\n",
    "# a = rmsd_1.get()\n",
    "# b = rmsd_2.get()\n",
    "# c = rmsd_3.get()"
   ]
  },
  {
   "cell_type": "code",
   "execution_count": 58,
   "metadata": {},
   "outputs": [
    {
     "data": {
      "text/plain": [
       "8"
      ]
     },
     "execution_count": 58,
     "metadata": {},
     "output_type": "execute_result"
    }
   ],
   "source": [
    "multiprocessing.cpu_count()"
   ]
  },
  {
   "cell_type": "code",
   "execution_count": 61,
   "metadata": {},
   "outputs": [],
   "source": [
    "f1 = pd.DataFrame(rmsd_1)\n",
    "f2 = pd.DataFrame(rmsd_2)\n",
    "f3 = pd.DataFrame(rmsd_3)"
   ]
  },
  {
   "cell_type": "code",
   "execution_count": 63,
   "metadata": {},
   "outputs": [],
   "source": [
    "f = pd.concat([f1,f2,f3])"
   ]
  },
  {
   "cell_type": "code",
   "execution_count": 70,
   "metadata": {},
   "outputs": [],
   "source": [
    "f = f[f[0] <=0.15]"
   ]
  },
  {
   "cell_type": "code",
   "execution_count": 74,
   "metadata": {},
   "outputs": [
    {
     "data": {
      "text/plain": [
       "array([(10, 616), (10, 1085), (10, 1403), ..., (1780, 1759), (1781, 147),\n",
       "       (1781, 1305)], dtype=object)"
      ]
     },
     "execution_count": 74,
     "metadata": {},
     "output_type": "execute_result"
    }
   ],
   "source": [
    "f[1].values"
   ]
  },
  {
   "cell_type": "code",
   "execution_count": null,
   "metadata": {},
   "outputs": [],
   "source": []
  }
 ],
 "metadata": {
  "kernelspec": {
   "display_name": "Python 3",
   "language": "python",
   "name": "python3"
  },
  "language_info": {
   "codemirror_mode": {
    "name": "ipython",
    "version": 3
   },
   "file_extension": ".py",
   "mimetype": "text/x-python",
   "name": "python",
   "nbconvert_exporter": "python",
   "pygments_lexer": "ipython3",
   "version": "3.7.0"
  }
 },
 "nbformat": 4,
 "nbformat_minor": 2
}

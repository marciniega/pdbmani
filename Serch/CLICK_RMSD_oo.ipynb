{
 "cells": [
  {
   "cell_type": "markdown",
   "metadata": {},
   "source": [
    "# Algoritmo de desarrollo orientado a objetos y numpy\n",
    "Se busca probar las funciones y scripts para obtener una mayor rapidez de ejecucion.\n",
    "Se generan los algoritmos necesarios para el desarrollo del algoritmo que compare ambas estructuras\n",
    "Basandose en la estructura como esta en start_oo.py"
   ]
  },
  {
   "cell_type": "code",
   "execution_count": 24,
   "metadata": {},
   "outputs": [],
   "source": [
    "# librerias que utilizaras\n",
    "import numpy as np\n",
    "# por si no te lee las tools o functions creadas\n",
    "import sys\n",
    "# herramientas para leer pdbs\n",
    "import read_pdb_tools as rpt\n",
    "# calculo de distancia\n",
    "from scipy.spatial.distance import pdist, squareform\n",
    "# libreria de tablas\n",
    "import pandas as pd\n",
    "# funciones de click generadas en pandas\n",
    "import funciones_CLICK as fc\n",
    "# iteradores\n",
    "import itertools as it\n",
    "# cuenta tiempo de ejecucion\n",
    "import datetime\n",
    "#distancia\n",
    "from scipy.spatial import distance\n",
    "#multiprocesamiento\n",
    "import multiprocessing\n",
    "from functools import partial"
   ]
  },
  {
   "cell_type": "code",
   "execution_count": 25,
   "metadata": {},
   "outputs": [],
   "source": [
    "# assert( len(sys.argv) > 1)\n",
    "# lectura de archivo\n",
    "file1 = 'pdbs/1xxa.pdb' # sys.argv[1]\n",
    "file2 = 'pdbs/1tig.pdb' # sys.argv[2]\n",
    "\n",
    "# numero de cliques, preguntar en el software para generalizarlo...\n",
    "num_cliques = 3\n",
    "\n",
    "# se define la estructura\n",
    "pdb1 = rpt.PdbStruct(\"first\")\n",
    "pdb2 = rpt.PdbStruct(\"second\")\n",
    "\n",
    "# se lee el pdb y se agrega al objeto\n",
    "pdb1.AddPdbData(\"%s\" % file1)\n",
    "pdb2.AddPdbData(\"%s\" % file2)\n",
    "\n",
    "# se obtienen los residuos que perteneces a la cadena de interes por default chain = 'A'\n",
    "pdb11 = pdb1.GetResChain()\n",
    "pdb22 = pdb2.GetResChain()\n",
    "# se pega a la tabla la estructura secundaria\n",
    "ss1 = pdb1.Get_SS(file1)\n",
    "ss2 = pdb1.Get_SS(file2)"
   ]
  },
  {
   "cell_type": "code",
   "execution_count": 26,
   "metadata": {},
   "outputs": [],
   "source": [
    "# se crea atributo a cada residuo de la estructura secundaria\n",
    "for i, j in zip(pdb11, ss1.structure.values):\n",
    "    setattr(i, 'structure', j)\n",
    "for i, j in zip(pdb22, ss2.structure.values):\n",
    "    setattr(i, 'structure', j)"
   ]
  },
  {
   "cell_type": "code",
   "execution_count": 27,
   "metadata": {},
   "outputs": [],
   "source": [
    "def get_df_distancias(ref):\n",
    "    \"\"\"Funcion para obtener el dataframe de distancias de cada proteina\"\"\"\n",
    "    # se generan listas con coordenadas y numero de atomo\n",
    "    coord = [res.GetAtom('CA').coord for res in ref]\n",
    "    index = [res.resi for res in ref]\n",
    "\n",
    "    # calcula distancia y regresa dataframe\n",
    "    distancias = []\n",
    "    # se calcula la distancia euclidiana entre cada atomo de carbon alfalfa\n",
    "    for v in coord:\n",
    "        distancia_un_atomo = []\n",
    "        for av in coord:\n",
    "            distancia = pdist(np.array([v, av]), metric='euclidean').item()\n",
    "            distancia_un_atomo.append(distancia)\n",
    "        distancias.append(distancia_un_atomo)\n",
    "\n",
    "    # se genera la matriz de adyacencias para la red\n",
    "    df_da = pd.DataFrame(index=index, columns=index, data=distancias)\n",
    "    return(df_da, index)\n",
    "\n",
    "\n",
    "df_distancias1, index1 = get_df_distancias(pdb11)\n",
    "df_distancias2, index2 = get_df_distancias(pdb22)"
   ]
  },
  {
   "cell_type": "code",
   "execution_count": 28,
   "metadata": {},
   "outputs": [
    {
     "name": "stdout",
     "output_type": "stream",
     "text": [
      "numero de cliques maximos encontrados: 158\n",
      "numero de 3-cliques posibles: 1787\n",
      "****************************************************************************************************\n",
      "numero de cliques maximos encontrados: 246\n",
      "numero de 3-cliques posibles: 2102\n",
      "****************************************************************************************************\n"
     ]
    }
   ],
   "source": [
    "# se generan cliques, tte devuleve dataframe con cliques de 3 y la lista de cliques sin partir\n",
    "df_cliques1, cliques1 = fc.gen_3_cliques(df_distancias1, dth=10, k=num_cliques)\n",
    "print('**'*50)\n",
    "df_cliques2, cliques2 = fc.gen_3_cliques(df_distancias2, dth=10, k=num_cliques)\n",
    "print('**'*50)"
   ]
  },
  {
   "cell_type": "code",
   "execution_count": 29,
   "metadata": {},
   "outputs": [],
   "source": [
    "def get_df_ca(list_of_residues):\n",
    "    \"\"\"Genera dataframe con la informacion necesaria para las siguientes funciones\n",
    "    FALTA DOCUMENTAR ESTA COSA!!!!\"\"\"\n",
    "    #crear df_ca\n",
    "    atom_number = []\n",
    "    atom_name = []\n",
    "    residue_name = []\n",
    "    residue_number = []\n",
    "    coord = []\n",
    "    for res in list_of_residues:\n",
    "        for atom in res.atoms:\n",
    "            atom_number.append(atom.atom_number)\n",
    "            atom_name.append(atom.name)\n",
    "            residue_name.append(res.resn)\n",
    "            residue_number.append(res.resi)\n",
    "            coord.append(atom.coord)\n",
    "\n",
    "    df_atoms = pd.DataFrame(columns=['atom_number', 'atom_name', 'residue_name',\n",
    "                                   'residue_number', 'vector'])\n",
    "    df_atoms.atom_number = atom_number\n",
    "    df_atoms.atom_name = atom_name\n",
    "    df_atoms.residue_name = residue_name\n",
    "    df_atoms.residue_number = residue_number\n",
    "    df_atoms.vector = coord\n",
    "\n",
    "    return(df_atoms)\n",
    "\n",
    "\n",
    "# CREAR DF_atomos_CA #\n",
    "df_atoms1 = get_df_ca(pdb11)\n",
    "df_atoms2 = get_df_ca(pdb22)"
   ]
  },
  {
   "cell_type": "code",
   "execution_count": 30,
   "metadata": {},
   "outputs": [],
   "source": [
    "# se le pega la estructura secundaria al dataframe de los cliques\n",
    "# esto va a cambiar por que lo tiene que obtener del objeto residuo\n",
    "# ya se crea en ss1 y no cuesta reevaluar si es mejor desde el residuo\n",
    "# checar que es mas rapido si desde residuo o desde dataframe ss\n",
    "df_cliques1 = fc.paste_SS(ss1, df_cliques1, num_cliques = num_cliques)\n",
    "df_cliques2 = fc.paste_SS(ss2, df_cliques2, num_cliques = num_cliques)"
   ]
  },
  {
   "cell_type": "code",
   "execution_count": 31,
   "metadata": {},
   "outputs": [],
   "source": [
    "# comparacion SSM #aqui se obtienen los candidatos posibles pasando el filtro de SS\n",
    "candidatos_ss = fc.compare_SS(df_cliques1,df_cliques2, num_cliques=num_cliques)"
   ]
  },
  {
   "cell_type": "code",
   "execution_count": 32,
   "metadata": {},
   "outputs": [],
   "source": [
    "# get coords of cliques\n",
    "df_cliques1 = fc.get_coords_clique(df_atoms1, df_cliques1, num_cliques)\n",
    "df_cliques2 = fc.get_coords_clique(df_atoms2, df_cliques2, num_cliques)"
   ]
  },
  {
   "cell_type": "code",
   "execution_count": 33,
   "metadata": {},
   "outputs": [],
   "source": [
    "# baricentro clique\n",
    "df_cliques1 = fc.baricenter_clique(df_cliques1, num_cliques)\n",
    "df_cliques2 = fc.baricenter_clique(df_cliques2, num_cliques)"
   ]
  },
  {
   "cell_type": "code",
   "execution_count": 34,
   "metadata": {},
   "outputs": [],
   "source": [
    "# vectores gorro\n",
    "df_cliques1 = fc.center_vectors(df_cliques1, num_cliques)\n",
    "df_cliques2 = fc.center_vectors(df_cliques2, num_cliques)"
   ]
  },
  {
   "cell_type": "code",
   "execution_count": 35,
   "metadata": {},
   "outputs": [
    {
     "name": "stdout",
     "output_type": "stream",
     "text": [
      "0 0\n",
      "1 1\n",
      "2 2\n",
      "3 ss_0\n",
      "4 ss_1\n",
      "5 ss_2\n",
      "6 coord_clique_0\n",
      "7 coord_clique_1\n",
      "8 coord_clique_2\n",
      "9 matriz_coordenadas\n",
      "10 baricentro_clique\n",
      "11 vec_gorro_0\n",
      "12 vec_gorro_1\n",
      "13 vec_gorro_2\n",
      "14 vectores_gorro\n"
     ]
    }
   ],
   "source": [
    "for i,j in enumerate(df_cliques1.columns):\n",
    "    print(i,j)"
   ]
  },
  {
   "cell_type": "code",
   "execution_count": 36,
   "metadata": {},
   "outputs": [],
   "source": [
    "idx_rmsd1, idx_rmsd2 = 3*num_cliques, 4*num_cliques+3\n",
    "# print(list(range(idx_rmsd1,idx_rmsd2)))\n",
    "# se pasan a numpy arrays para mayor rapidez\n",
    "array_df_cliques1 = df_cliques1.values[:, range(idx_rmsd1, idx_rmsd2)] #del 9 al 15\n",
    "array_df_cliques2 = df_cliques2.values[:, range(idx_rmsd1, idx_rmsd2)]"
   ]
  },
  {
   "cell_type": "code",
   "execution_count": 37,
   "metadata": {},
   "outputs": [
    {
     "name": "stdout",
     "output_type": "stream",
     "text": [
      "1705808\n"
     ]
    }
   ],
   "source": [
    "#calculo del RMSD\n",
    "print(len(candidatos_ss))"
   ]
  },
  {
   "cell_type": "markdown",
   "metadata": {},
   "source": [
    "# Codigo que restringe candidatos"
   ]
  },
  {
   "cell_type": "code",
   "execution_count": 38,
   "metadata": {},
   "outputs": [],
   "source": [
    "a = (0,0,0)\n",
    "df_cliques1['distancia_promedio'] = [np.mean([distance.euclidean(a, i[0]),distance.euclidean(a, i[1]),distance.euclidean(a, i[2])]) for i in df_cliques1.vectores_gorro]\n",
    "df_cliques2['distancia_promedio'] = [np.mean([distance.euclidean(a, i[0]),distance.euclidean(a, i[1]),distance.euclidean(a, i[2])]) for i in df_cliques2.vectores_gorro]\n",
    "\n",
    "array_dist_promedio1 = df_cliques1.values[:, 15] #del 9 al 15\n",
    "array_dist_promedio2 = df_cliques2.values[:, 15]"
   ]
  },
  {
   "cell_type": "code",
   "execution_count": 39,
   "metadata": {},
   "outputs": [
    {
     "name": "stdout",
     "output_type": "stream",
     "text": [
      "1705808\n",
      "280640\n"
     ]
    }
   ],
   "source": [
    "candidatos_filter_dist = [(i, j) for i, j in candidatos_ss if (\n",
    "        array_dist_promedio1[i] - array_dist_promedio2[j] >= -0.5) & (\n",
    "        array_dist_promedio1[i] - array_dist_promedio2[j] <= 0.5)]\n",
    "\n",
    "print(len(candidatos_ss))\n",
    "print(len(candidatos_filter_dist))"
   ]
  },
  {
   "cell_type": "code",
   "execution_count": 40,
   "metadata": {},
   "outputs": [
    {
     "name": "stdout",
     "output_type": "stream",
     "text": [
      "CPU times: user 3 µs, sys: 0 ns, total: 3 µs\n",
      "Wall time: 3.81 µs\n"
     ]
    }
   ],
   "source": [
    "%%time\n",
    "restriccion_rmsd = 0.15\n",
    "if num_cliques == 4:\n",
    "    restriccion_rmsd = 0.30\n",
    "if num_cliques == 5:\n",
    "    restriccion_rmsd = 0.60\n",
    "if num_cliques == 7:\n",
    "    restriccion_rmsd = 1.50\n",
    "if num_cliques == 8:\n",
    "    restriccion_rmsd = 1.80"
   ]
  },
  {
   "cell_type": "markdown",
   "metadata": {},
   "source": [
    "# Haciendo MUltiprocessing"
   ]
  },
  {
   "cell_type": "code",
   "execution_count": 41,
   "metadata": {},
   "outputs": [],
   "source": [
    "p = multiprocessing.Pool(multiprocessing.cpu_count()-1)"
   ]
  },
  {
   "cell_type": "code",
   "execution_count": 42,
   "metadata": {},
   "outputs": [
    {
     "name": "stdout",
     "output_type": "stream",
     "text": [
      "CPU times: user 7.42 s, sys: 72.6 ms, total: 7.49 s\n",
      "Wall time: 15.5 s\n"
     ]
    }
   ],
   "source": [
    "%%time\n",
    "rmsd_1 = p.map(partial(fc.calculate_rmsd_rot_trans_m,  \n",
    "                    array_cliques1 = array_df_cliques1, \n",
    "                    array_cliques2 = array_df_cliques2, \n",
    "                    num_cliques = num_cliques), candidatos_filter_dist)\n",
    "\n",
    "p.close()\n",
    "p.join()"
   ]
  },
  {
   "cell_type": "code",
   "execution_count": 43,
   "metadata": {},
   "outputs": [
    {
     "data": {
      "text/plain": [
       "280640"
      ]
     },
     "execution_count": 43,
     "metadata": {},
     "output_type": "execute_result"
    }
   ],
   "source": [
    "len(rmsd_1)"
   ]
  },
  {
   "cell_type": "code",
   "execution_count": 60,
   "metadata": {},
   "outputs": [
    {
     "data": {
      "text/plain": [
       "(280640, 5)"
      ]
     },
     "execution_count": 60,
     "metadata": {},
     "output_type": "execute_result"
    }
   ],
   "source": [
    "f1 = pd.DataFrame(rmsd_1)\n",
    "f1.columns = ['rmsd','candidatos']\n",
    "f1['cumple'] = np.where(f1.rmsd <= restriccion_rmsd,1,0)\n",
    "f1['candidato_clique_1'] = f1.candidatos.str.get(0)\n",
    "f1['candidato_clique_2'] = f1.candidatos.str.get(1)\n",
    "f1.shape"
   ]
  },
  {
   "cell_type": "code",
   "execution_count": 61,
   "metadata": {},
   "outputs": [
    {
     "data": {
      "text/plain": [
       "6907"
      ]
     },
     "execution_count": 61,
     "metadata": {},
     "output_type": "execute_result"
    }
   ],
   "source": [
    "f1[f1.cumple==1].cumple.sum()"
   ]
  },
  {
   "cell_type": "markdown",
   "metadata": {},
   "source": [
    "# Probando la generacion de una nueva tabla con cliques_4 si se empieza con cliques_3"
   ]
  },
  {
   "cell_type": "code",
   "execution_count": 71,
   "metadata": {},
   "outputs": [
    {
     "data": {
      "text/html": [
       "<div>\n",
       "<style scoped>\n",
       "    .dataframe tbody tr th:only-of-type {\n",
       "        vertical-align: middle;\n",
       "    }\n",
       "\n",
       "    .dataframe tbody tr th {\n",
       "        vertical-align: top;\n",
       "    }\n",
       "\n",
       "    .dataframe thead th {\n",
       "        text-align: right;\n",
       "    }\n",
       "</style>\n",
       "<table border=\"1\" class=\"dataframe\">\n",
       "  <thead>\n",
       "    <tr style=\"text-align: right;\">\n",
       "      <th></th>\n",
       "      <th>rmsd</th>\n",
       "      <th>candidatos</th>\n",
       "      <th>cumple</th>\n",
       "      <th>candidato_clique_1</th>\n",
       "      <th>candidato_clique_2</th>\n",
       "    </tr>\n",
       "  </thead>\n",
       "  <tbody>\n",
       "    <tr>\n",
       "      <th>0</th>\n",
       "      <td>1.70200</td>\n",
       "      <td>(1, 1060)</td>\n",
       "      <td>0</td>\n",
       "      <td>1</td>\n",
       "      <td>1060</td>\n",
       "    </tr>\n",
       "    <tr>\n",
       "      <th>1</th>\n",
       "      <td>1.43155</td>\n",
       "      <td>(3, 820)</td>\n",
       "      <td>0</td>\n",
       "      <td>3</td>\n",
       "      <td>820</td>\n",
       "    </tr>\n",
       "    <tr>\n",
       "      <th>2</th>\n",
       "      <td>1.05198</td>\n",
       "      <td>(3, 824)</td>\n",
       "      <td>0</td>\n",
       "      <td>3</td>\n",
       "      <td>824</td>\n",
       "    </tr>\n",
       "    <tr>\n",
       "      <th>3</th>\n",
       "      <td>1.34365</td>\n",
       "      <td>(3, 1027)</td>\n",
       "      <td>0</td>\n",
       "      <td>3</td>\n",
       "      <td>1027</td>\n",
       "    </tr>\n",
       "    <tr>\n",
       "      <th>4</th>\n",
       "      <td>0.97235</td>\n",
       "      <td>(3, 1033)</td>\n",
       "      <td>0</td>\n",
       "      <td>3</td>\n",
       "      <td>1033</td>\n",
       "    </tr>\n",
       "  </tbody>\n",
       "</table>\n",
       "</div>"
      ],
      "text/plain": [
       "     rmsd candidatos  cumple  candidato_clique_1  candidato_clique_2\n",
       "0 1.70200  (1, 1060)  0       1                   1060              \n",
       "1 1.43155  (3, 820)   0       3                   820               \n",
       "2 1.05198  (3, 824)   0       3                   824               \n",
       "3 1.34365  (3, 1027)  0       3                   1027              \n",
       "4 0.97235  (3, 1033)  0       3                   1033              "
      ]
     },
     "execution_count": 71,
     "metadata": {},
     "output_type": "execute_result"
    }
   ],
   "source": [
    "candidatos_df = f1\n",
    "candidatos_df.sort_values(['candidato_clique_1','candidato_clique_2']).head()"
   ]
  },
  {
   "cell_type": "code",
   "execution_count": 55,
   "metadata": {},
   "outputs": [
    {
     "data": {
      "text/html": [
       "<div>\n",
       "<style scoped>\n",
       "    .dataframe tbody tr th:only-of-type {\n",
       "        vertical-align: middle;\n",
       "    }\n",
       "\n",
       "    .dataframe tbody tr th {\n",
       "        vertical-align: top;\n",
       "    }\n",
       "\n",
       "    .dataframe thead th {\n",
       "        text-align: right;\n",
       "    }\n",
       "</style>\n",
       "<table border=\"1\" class=\"dataframe\">\n",
       "  <thead>\n",
       "    <tr style=\"text-align: right;\">\n",
       "      <th></th>\n",
       "      <th>0</th>\n",
       "      <th>1</th>\n",
       "      <th>2</th>\n",
       "    </tr>\n",
       "  </thead>\n",
       "  <tbody>\n",
       "    <tr>\n",
       "      <th>0</th>\n",
       "      <td>96</td>\n",
       "      <td>97</td>\n",
       "      <td>132</td>\n",
       "    </tr>\n",
       "    <tr>\n",
       "      <th>1</th>\n",
       "      <td>89</td>\n",
       "      <td>97</td>\n",
       "      <td>132</td>\n",
       "    </tr>\n",
       "    <tr>\n",
       "      <th>2</th>\n",
       "      <td>97</td>\n",
       "      <td>98</td>\n",
       "      <td>132</td>\n",
       "    </tr>\n",
       "    <tr>\n",
       "      <th>3</th>\n",
       "      <td>97</td>\n",
       "      <td>91</td>\n",
       "      <td>132</td>\n",
       "    </tr>\n",
       "    <tr>\n",
       "      <th>4</th>\n",
       "      <td>96</td>\n",
       "      <td>89</td>\n",
       "      <td>132</td>\n",
       "    </tr>\n",
       "  </tbody>\n",
       "</table>\n",
       "</div>"
      ],
      "text/plain": [
       "    0   1    2\n",
       "0  96  97  132\n",
       "1  89  97  132\n",
       "2  97  98  132\n",
       "3  97  91  132\n",
       "4  96  89  132"
      ]
     },
     "execution_count": 55,
     "metadata": {},
     "output_type": "execute_result"
    }
   ],
   "source": [
    "df_cliques1[[0,1,2]].head()"
   ]
  },
  {
   "cell_type": "code",
   "execution_count": 56,
   "metadata": {},
   "outputs": [
    {
     "data": {
      "text/plain": [
       "[[132, 97, 96, 89, 98, 91],\n",
       " [132, 97, 96, 89, 98, 99, 131],\n",
       " [132, 97, 96, 133, 95, 98, 91],\n",
       " [132, 97, 96, 133, 95, 98, 131],\n",
       " [132, 97, 96, 133, 95, 131, 124]]"
      ]
     },
     "execution_count": 56,
     "metadata": {},
     "output_type": "execute_result"
    }
   ],
   "source": [
    "cliques1[:5]"
   ]
  },
  {
   "cell_type": "code",
   "execution_count": 96,
   "metadata": {},
   "outputs": [],
   "source": [
    "#fila,columna\n",
    "set_clique_1 = [df_cliques1.iloc[i, [0,1,2]].values for i in candidatos_df.candidato_clique_1[:10]]"
   ]
  },
  {
   "cell_type": "code",
   "execution_count": 139,
   "metadata": {},
   "outputs": [
    {
     "name": "stdout",
     "output_type": "stream",
     "text": [
      "{96, 97, 98, 132, 89, 91}\n",
      "{89, 132, 97}\n",
      "estoy\n",
      "{96, 98, 91}\n",
      "None\n",
      "--------------------\n",
      "--------------------\n",
      "{96, 97, 98, 99, 132, 131, 89}\n",
      "{89, 132, 97}\n",
      "estoy\n",
      "{96, 98, 99, 131}\n",
      "None\n",
      "--------------------\n",
      "--------------------\n",
      "{96, 97, 98, 132, 133, 91, 95}\n",
      "{89, 132, 97}\n",
      "--------------------\n",
      "{96, 97, 98, 131, 132, 133, 95}\n",
      "{89, 132, 97}\n",
      "--------------------\n",
      "{96, 97, 131, 132, 133, 124, 95}\n",
      "{89, 132, 97}\n",
      "--------------------\n",
      "{96, 97, 132, 133, 134, 91, 94, 95}\n",
      "{89, 132, 97}\n",
      "--------------------\n",
      "{96, 97, 132, 133, 134, 124, 95}\n",
      "{89, 132, 97}\n",
      "--------------------\n",
      "{97, 130, 99, 132, 98, 131, 89}\n",
      "{89, 132, 97}\n",
      "estoy\n",
      "{130, 99, 131, 98}\n",
      "None\n",
      "--------------------\n",
      "--------------------\n",
      "{97, 130, 99, 132, 98, 131, 126}\n",
      "{89, 132, 97}\n",
      "--------------------\n",
      "{97, 98, 131, 132, 133, 126}\n",
      "{89, 132, 97}\n",
      "--------------------\n",
      "{97, 131, 132, 133, 124, 126}\n",
      "{89, 132, 97}\n",
      "--------------------\n",
      "{98, 131, 132, 130, 109, 126}\n",
      "{89, 132, 97}\n",
      "--------------------\n",
      "{98, 131, 132, 133, 109, 126}\n",
      "{89, 132, 97}\n",
      "--------------------\n",
      "{130, 131, 132, 109, 125, 126, 127}\n",
      "{89, 132, 97}\n",
      "--------------------\n",
      "{131, 132, 133, 109, 124, 125, 126}\n",
      "{89, 132, 97}\n",
      "--------------------\n",
      "{132, 133, 134, 123, 124, 125}\n",
      "{89, 132, 97}\n",
      "--------------------\n",
      "{130, 99, 132, 131, 126, 127}\n",
      "{89, 132, 97}\n",
      "--------------------\n",
      "{96, 97, 98, 133, 145, 91, 95}\n",
      "{89, 132, 97}\n",
      "--------------------\n",
      "{96, 98, 133, 145, 148}\n",
      "{89, 132, 97}\n",
      "--------------------\n",
      "{131, 133, 109, 112, 124, 125}\n",
      "{89, 132, 97}\n",
      "--------------------\n",
      "{96, 97, 133, 134, 145, 91, 95}\n",
      "{89, 132, 97}\n",
      "--------------------\n",
      "{96, 133, 134, 141, 144, 145, 91, 95}\n",
      "{89, 132, 97}\n",
      "--------------------\n",
      "{96, 133, 134, 141, 91, 94, 95}\n",
      "{89, 132, 97}\n",
      "--------------------\n",
      "{133, 134, 135, 136, 144, 121, 122}\n",
      "{89, 132, 97}\n",
      "--------------------\n",
      "{133, 134, 135, 136, 121, 122, 123}\n",
      "{89, 132, 97}\n",
      "--------------------\n",
      "{133, 134, 135, 121, 122, 123, 124}\n",
      "{89, 132, 97}\n",
      "--------------------\n",
      "{96, 133, 134, 135, 124, 95}\n",
      "{89, 132, 97}\n",
      "--------------------\n",
      "{96, 133, 134, 135, 141, 144, 145, 95}\n",
      "{89, 132, 97}\n",
      "--------------------\n",
      "{133, 134, 135, 136, 141, 144, 121}\n",
      "{89, 132, 97}\n",
      "--------------------\n",
      "{96, 133, 134, 135, 141, 94, 95}\n",
      "{89, 132, 97}\n",
      "--------------------\n",
      "{133, 109, 112, 113, 124, 125}\n",
      "{89, 132, 97}\n",
      "--------------------\n",
      "{133, 112, 113, 121, 123, 124}\n",
      "{89, 132, 97}\n",
      "--------------------\n",
      "{133, 112, 113, 123, 124, 125}\n",
      "{89, 132, 97}\n",
      "--------------------\n",
      "{112, 121, 148, 133}\n",
      "{89, 132, 97}\n",
      "--------------------\n",
      "{133, 113, 121, 122, 123, 124}\n",
      "{89, 132, 97}\n",
      "--------------------\n",
      "{96, 133, 144, 145, 148}\n",
      "{89, 132, 97}\n",
      "--------------------\n",
      "{144, 121, 148, 133}\n",
      "{89, 132, 97}\n",
      "--------------------\n",
      "{134, 135, 136, 137, 139, 120, 121, 122}\n",
      "{89, 132, 97}\n",
      "--------------------\n",
      "{134, 135, 136, 137, 139, 140, 120}\n",
      "{89, 132, 97}\n",
      "--------------------\n",
      "{134, 135, 136, 139, 144, 120, 121, 122}\n",
      "{89, 132, 97}\n",
      "--------------------\n",
      "{134, 135, 136, 139, 141, 144, 120, 121}\n",
      "{89, 132, 97}\n",
      "--------------------\n",
      "{134, 135, 136, 139, 140, 141, 144, 120}\n",
      "{89, 132, 97}\n",
      "--------------------\n",
      "{134, 140, 141, 93, 94, 95}\n",
      "{89, 132, 97}\n",
      "--------------------\n",
      "{134, 135, 140, 141, 144, 145, 95}\n",
      "{89, 132, 97}\n",
      "--------------------\n",
      "{134, 135, 140, 141, 94, 95}\n",
      "{89, 132, 97}\n",
      "--------------------\n",
      "{134, 135, 136, 120, 121, 122, 123}\n",
      "{89, 132, 97}\n",
      "--------------------\n",
      "{96, 134, 141, 91, 93, 94, 95}\n",
      "{89, 132, 97}\n",
      "--------------------\n",
      "{135, 136, 137, 138, 139, 140, 120}\n",
      "{89, 132, 97}\n",
      "--------------------\n",
      "{135, 136, 138, 139, 140, 141, 120}\n",
      "{89, 132, 97}\n",
      "--------------------\n",
      "{135, 138, 139, 140, 141, 143, 120}\n",
      "{89, 132, 97}\n",
      "--------------------\n",
      "{96, 135, 141, 142, 144, 145, 95}\n",
      "{89, 132, 97}\n",
      "--------------------\n",
      "{135, 141, 142, 143, 144, 145, 147}\n",
      "{89, 132, 97}\n",
      "--------------------\n",
      "{135, 140, 141, 142, 143, 144, 145}\n",
      "{89, 132, 97}\n",
      "--------------------\n",
      "{135, 140, 141, 142, 144, 145, 95}\n",
      "{89, 132, 97}\n",
      "--------------------\n",
      "{135, 139, 140, 141, 142, 143, 144}\n",
      "{89, 132, 97}\n",
      "--------------------\n",
      "{135, 139, 141, 143, 144, 120, 121}\n",
      "{89, 132, 97}\n",
      "--------------------\n",
      "{135, 141, 143, 144, 147, 120, 121}\n",
      "{89, 132, 97}\n",
      "--------------------\n",
      "{135, 139, 140, 141, 143, 144, 120}\n",
      "{89, 132, 97}\n",
      "--------------------\n",
      "{135, 139, 143, 144, 119, 120, 121}\n",
      "{89, 132, 97}\n",
      "--------------------\n",
      "{135, 143, 144, 147, 119, 120, 121}\n",
      "{89, 132, 97}\n",
      "--------------------\n",
      "{135, 136, 116, 117, 120, 121, 122, 123}\n",
      "{89, 132, 97}\n",
      "--------------------\n",
      "{135, 136, 116, 117, 119, 120, 121, 122}\n",
      "{89, 132, 97}\n",
      "--------------------\n",
      "{135, 116, 121, 122, 123, 124}\n",
      "{89, 132, 97}\n",
      "--------------------\n",
      "{135, 136, 137, 139, 117, 120, 121, 122}\n",
      "{89, 132, 97}\n",
      "--------------------\n",
      "{135, 136, 139, 117, 119, 120, 121, 122}\n",
      "{89, 132, 97}\n",
      "--------------------\n",
      "{135, 136, 139, 144, 119, 120, 121, 122}\n",
      "{89, 132, 97}\n",
      "--------------------\n",
      "{136, 116, 117, 118, 119, 120, 121, 122}\n",
      "{89, 132, 97}\n",
      "--------------------\n",
      "{140, 141, 142, 93, 95}\n",
      "{89, 132, 97}\n",
      "--------------------\n",
      "{141, 142, 143, 144, 145, 146, 147}\n",
      "{89, 132, 97}\n",
      "--------------------\n",
      "{96, 141, 142, 145, 91, 92, 95}\n",
      "{89, 132, 97}\n",
      "--------------------\n",
      "{96, 141, 142, 91, 92, 93, 95}\n",
      "{89, 132, 97}\n",
      "--------------------\n",
      "{96, 141, 91, 92, 93, 94, 95}\n",
      "{89, 132, 97}\n",
      "--------------------\n",
      "{96, 141, 142, 144, 145, 91, 95}\n",
      "{89, 132, 97}\n",
      "--------------------\n",
      "{96, 142, 145, 90, 91, 92, 95}\n",
      "{89, 132, 97}\n",
      "--------------------\n",
      "{143, 144, 145, 146, 147, 148, 149}\n",
      "{89, 132, 97}\n",
      "--------------------\n",
      "{143, 144, 147, 148, 119, 121}\n",
      "{89, 132, 97}\n",
      "--------------------\n",
      "{144, 145, 146, 147, 148, 149, 150}\n",
      "{89, 132, 97}\n",
      "--------------------\n",
      "{96, 97, 98, 145, 89, 90, 91}\n",
      "{89, 132, 97}\n",
      "--------------------\n",
      "{96, 97, 98, 145, 90, 91, 95}\n",
      "{89, 132, 97}\n",
      "--------------------\n",
      "{96, 97, 145, 90, 91, 92, 95}\n",
      "{89, 132, 97}\n",
      "--------------------\n",
      "{96, 98, 145, 148, 89}\n",
      "{89, 132, 97}\n",
      "--------------------\n",
      "{145, 146, 147, 148, 149, 150, 151}\n",
      "{89, 132, 97}\n",
      "--------------------\n",
      "{145, 146, 148, 149, 89}\n",
      "{89, 132, 97}\n",
      "--------------------\n",
      "{146, 147, 148, 149, 150, 151, 152}\n",
      "{89, 132, 97}\n",
      "--------------------\n",
      "{115, 147, 119, 120, 121}\n",
      "{89, 132, 97}\n",
      "--------------------\n",
      "{112, 147, 148, 115, 119, 121}\n",
      "{89, 132, 97}\n",
      "--------------------\n",
      "{112, 147, 148, 151, 152}\n",
      "{89, 132, 97}\n",
      "--------------------\n",
      "{112, 115, 147, 148, 119, 151}\n",
      "{89, 132, 97}\n",
      "--------------------\n",
      "{111, 112, 148, 151, 152}\n",
      "{89, 132, 97}\n",
      "--------------------\n",
      "{111, 112, 115, 148, 151}\n",
      "{89, 132, 97}\n",
      "--------------------\n",
      "{152, 108, 112, 111}\n",
      "{89, 132, 97}\n",
      "--------------------\n",
      "{152, 83, 108, 86}\n",
      "{89, 132, 97}\n",
      "--------------------\n",
      "{108, 82, 83, 85, 86}\n",
      "{89, 132, 97}\n",
      "--------------------\n",
      "{82, 83, 84, 85, 86}\n",
      "{89, 132, 97}\n",
      "--------------------\n",
      "{96, 97, 98, 99, 89, 90}\n",
      "{89, 132, 97}\n",
      "--------------------\n",
      "{97, 98, 99, 88, 89, 90}\n",
      "{89, 132, 97}\n",
      "--------------------\n",
      "{96, 97, 91, 92, 94, 95}\n",
      "{89, 132, 97}\n",
      "--------------------\n",
      "{128, 129, 130, 131, 100, 104, 105, 106, 126, 127}\n",
      "{89, 132, 97}\n",
      "--------------------\n",
      "{128, 129, 130, 100, 103, 104, 105, 106, 126, 127}\n",
      "{89, 132, 97}\n",
      "--------------------\n",
      "{129, 130, 131, 100, 104, 105, 106, 108, 126}\n",
      "{89, 132, 97}\n",
      "--------------------\n"
     ]
    }
   ],
   "source": [
    "lista_chidi = []\n",
    "muestra = set_clique_1[0]\n",
    "for i in cliques1[:100]:\n",
    "    print(set(i))\n",
    "    print(set(muestra))\n",
    "    \n",
    "    if set(muestra).issubset(i):       \n",
    "        print('estoy')\n",
    "        no_estan_en_clique = set(i).difference(set(muestra))\n",
    "        print(no_estan_en_clique)\n",
    "        print(set(muestra).update(no_estan_en_clique))\n",
    "        print('--'*10)\n",
    "    print('--'*10)"
   ]
  },
  {
   "cell_type": "code",
   "execution_count": 125,
   "metadata": {},
   "outputs": [
    {
     "data": {
      "text/plain": [
       "{1, 2, 3}"
      ]
     },
     "execution_count": 125,
     "metadata": {},
     "output_type": "execute_result"
    }
   ],
   "source": [
    "a = set([1,2,3])\n",
    "a."
   ]
  },
  {
   "cell_type": "code",
   "execution_count": null,
   "metadata": {},
   "outputs": [],
   "source": []
  }
 ],
 "metadata": {
  "kernelspec": {
   "display_name": "Python 3",
   "language": "python",
   "name": "python3"
  },
  "language_info": {
   "codemirror_mode": {
    "name": "ipython",
    "version": 3
   },
   "file_extension": ".py",
   "mimetype": "text/x-python",
   "name": "python",
   "nbconvert_exporter": "python",
   "pygments_lexer": "ipython3",
   "version": "3.7.0"
  }
 },
 "nbformat": 4,
 "nbformat_minor": 2
}

{
 "cells": [
  {
   "cell_type": "markdown",
   "metadata": {},
   "source": [
    "# Pruebas de CLICK sobre start_oo.py\n",
    "Se busca probar las funciones y scripts para obtener una mayor rapidez de ejecucion. \n",
    "Basandose en la estructura como esta en start_oo.py"
   ]
  },
  {
   "cell_type": "code",
   "execution_count": 52,
   "metadata": {},
   "outputs": [],
   "source": [
    "# librerias que utilizaras\n",
    "import numpy as np\n",
    "# por si no te lee las tools o functions creadas\n",
    "import sys\n",
    "# herramientas para leer pdbs\n",
    "import read_pdb_tools as rpt\n",
    "# calculo de distancia\n",
    "from scipy.spatial.distance import pdist, squareform\n",
    "# libreria de tablas\n",
    "import pandas as pd\n",
    "# funciones de click generadas en pandas\n",
    "import funciones_CLICK as fc\n",
    "# iteradores\n",
    "import itertools as it\n",
    "# cuenta tiempo de ejecucion\n",
    "import datetime"
   ]
  },
  {
   "cell_type": "code",
   "execution_count": 76,
   "metadata": {},
   "outputs": [],
   "source": [
    "# assert( len(sys.argv) > 1)\n",
    "# lectura de archivo\n",
    "file1 = '1xxa.pdb' # sys.argv[1]\n",
    "file2 = '1tig.pdb' # sys.argv[2]\n",
    "\n",
    "# numero de cliques, preguntar en el software para generalizarlo...\n",
    "num_cliques = 7\n",
    "\n",
    "# se define la estructura\n",
    "pdb1 = rpt.PdbStruct(\"first\")\n",
    "pdb2 = rpt.PdbStruct(\"second\")\n",
    "\n",
    "# se lee el pdb y se agrega al objeto\n",
    "pdb1.AddPdbData(\"%s\" % file1)\n",
    "pdb2.AddPdbData(\"%s\" % file2)\n",
    "\n",
    "# se obtienen los residuos que perteneces a la cadena de interes por default chain = 'A'\n",
    "pdb11 = pdb1.GetResChain()\n",
    "pdb22 = pdb2.GetResChain()\n",
    "\n",
    "ss1 = pdb1.Get_SS(file1)\n",
    "ss2 = pdb1.Get_SS(file2)"
   ]
  },
  {
   "cell_type": "code",
   "execution_count": 77,
   "metadata": {},
   "outputs": [],
   "source": [
    "# se crea atributo a cada residuo\n",
    "for i, j in zip(pdb11, ss1.structure.values):\n",
    "    setattr(i, 'structure', j)\n",
    "for i, j in zip(pdb22, ss2.structure.values):\n",
    "    setattr(i, 'structure', j)"
   ]
  },
  {
   "cell_type": "code",
   "execution_count": 78,
   "metadata": {},
   "outputs": [],
   "source": [
    "def get_df_distancias(ref):\n",
    "    \"\"\"Funcion para obtener el dataframe de distancias de cada proteina\"\"\"\n",
    "    # se generan listas con coordenadas y numero de atomo\n",
    "    coord = [res.GetAtom('CA').coord for res in ref]\n",
    "    index = [res.resi for res in ref]\n",
    "\n",
    "    # calcula distancia y regresa dataframe\n",
    "    distancias = []\n",
    "    # se calcula la distancia euclidiana entre cada atomo de carbon alfalfa\n",
    "    for v in coord:\n",
    "        distancia_un_atomo = []\n",
    "        for av in coord:\n",
    "            distancia = pdist(np.array([v, av]), metric='euclidean').item()\n",
    "            distancia_un_atomo.append(distancia)\n",
    "        distancias.append(distancia_un_atomo)\n",
    "\n",
    "    # se genera la matriz de adyacencias para la red\n",
    "    df_da = pd.DataFrame(index=index, columns=index, data=distancias)\n",
    "    return(df_da, index)\n",
    "\n",
    "\n",
    "df_distancias1, index1 = get_df_distancias(pdb11)\n",
    "df_distancias2, index2 = get_df_distancias(pdb22)"
   ]
  },
  {
   "cell_type": "code",
   "execution_count": 79,
   "metadata": {},
   "outputs": [
    {
     "name": "stdout",
     "output_type": "stream",
     "text": [
      "numero de cliques maximos encontrados: 100\n",
      "numero de 7-cliques posibles: 856\n",
      "****************************************************************************************************\n",
      "numero de cliques maximos encontrados: 129\n",
      "numero de 7-cliques posibles: 280\n",
      "****************************************************************************************************\n"
     ]
    }
   ],
   "source": [
    "# se generan cliques, tte devuleve dataframe con cliques de 3 y la lista de cliques sin partir\n",
    "df_cliques1, cliques1 = fc.gen_3_cliques(df_distancias1, dth=10, k=num_cliques)\n",
    "print('**'*50)\n",
    "df_cliques2, cliques2 = fc.gen_3_cliques(df_distancias2, dth=10, k=num_cliques)\n",
    "print('**'*50)"
   ]
  },
  {
   "cell_type": "code",
   "execution_count": 80,
   "metadata": {},
   "outputs": [],
   "source": [
    "def get_df_ca(list_of_residues):\n",
    "    \"\"\"Genera dataframe con la informacion necesaria para las siguientes funciones\n",
    "    FALTA DOCUMENTAR ESTA COSA!!!!\"\"\"\n",
    "    #crear df_ca\n",
    "    atom_number = []\n",
    "    atom_name = []\n",
    "    residue_name = []\n",
    "    residue_number = []\n",
    "    coord = []\n",
    "    for res in list_of_residues:\n",
    "        for atom in res.atoms:\n",
    "            atom_number.append(atom.atom_number)\n",
    "            atom_name.append(atom.name)\n",
    "            residue_name.append(res.resn)\n",
    "            residue_number.append(res.resi)\n",
    "            coord.append(atom.coord)\n",
    "\n",
    "    df_atoms = pd.DataFrame(columns=['atom_number', 'atom_name', 'residue_name',\n",
    "                                   'residue_number', 'vector'])\n",
    "    df_atoms.atom_number = atom_number\n",
    "    df_atoms.atom_name = atom_name\n",
    "    df_atoms.residue_name = residue_name\n",
    "    df_atoms.residue_number = residue_number\n",
    "    df_atoms.vector = coord\n",
    "\n",
    "    return(df_atoms)\n",
    "\n",
    "\n",
    "# CREAR DF_atomos_CA #\n",
    "df_atoms1 = get_df_ca(pdb11)\n",
    "df_atoms2 = get_df_ca(pdb22)"
   ]
  },
  {
   "cell_type": "code",
   "execution_count": 81,
   "metadata": {},
   "outputs": [],
   "source": [
    "# se obtiene la estructura secundaria utilizando dssp\n",
    "# ss1 = fc.mini_dssp(file1, index1)\n",
    "# print('**'*50)\n",
    "# ss2 = fc.mini_dssp(file2, index2)\n",
    "# ya no por que se obtiene arriba desde read_pdb_tools.py\n",
    "\n",
    "# se le pega la estructura secundaria al dataframe de los cliques\n",
    "# esto va a cambiar por que lo tiene que obtener del objeto residuo\n",
    "# ya se crea en ss1 y no cuesta reevaluar si es mejor desde el residuo\n",
    "# checar que es mas rapido si desde residuo o desde dataframe ss\n",
    "df_cliques1 = fc.paste_SS(ss1, df_cliques1, num_cliques = num_cliques)\n",
    "df_cliques2 = fc.paste_SS(ss2, df_cliques2, num_cliques = num_cliques)"
   ]
  },
  {
   "cell_type": "code",
   "execution_count": 82,
   "metadata": {},
   "outputs": [],
   "source": [
    "# comparacion SSM #aqui se obtienen los candidatos posibles pasando el filtro de SS\n",
    "candidatos_ss = fc.compare_SS(df_cliques1,df_cliques2, num_cliques=num_cliques)"
   ]
  },
  {
   "cell_type": "code",
   "execution_count": 83,
   "metadata": {},
   "outputs": [],
   "source": [
    "# get coords of cliques\n",
    "df_cliques1 = fc.get_coords_clique(df_atoms1, df_cliques1, num_cliques)\n",
    "df_cliques2 = fc.get_coords_clique(df_atoms2, df_cliques2, num_cliques)"
   ]
  },
  {
   "cell_type": "code",
   "execution_count": 84,
   "metadata": {},
   "outputs": [],
   "source": [
    "# baricentro clique\n",
    "df_cliques1 = fc.baricenter_clique(df_cliques1, num_cliques)\n",
    "df_cliques2 = fc.baricenter_clique(df_cliques2, num_cliques)"
   ]
  },
  {
   "cell_type": "code",
   "execution_count": 85,
   "metadata": {},
   "outputs": [],
   "source": [
    "# vectores gorro\n",
    "df_cliques1 = fc.center_vectors(df_cliques1, num_cliques)\n",
    "df_cliques2 = fc.center_vectors(df_cliques2, num_cliques)"
   ]
  },
  {
   "cell_type": "code",
   "execution_count": 86,
   "metadata": {},
   "outputs": [
    {
     "name": "stdout",
     "output_type": "stream",
     "text": [
      "0 0\n",
      "1 1\n",
      "2 2\n",
      "3 3\n",
      "4 4\n",
      "5 5\n",
      "6 6\n",
      "7 ss_0\n",
      "8 ss_1\n",
      "9 ss_2\n",
      "10 ss_3\n",
      "11 ss_4\n",
      "12 ss_5\n",
      "13 ss_6\n",
      "14 coord_clique_0\n",
      "15 coord_clique_1\n",
      "16 coord_clique_2\n",
      "17 coord_clique_3\n",
      "18 coord_clique_4\n",
      "19 coord_clique_5\n",
      "20 coord_clique_6\n",
      "21 matriz_coordenadas\n",
      "22 baricentro_clique\n",
      "23 vec_gorro_0\n",
      "24 vec_gorro_1\n",
      "25 vec_gorro_2\n",
      "26 vec_gorro_3\n",
      "27 vec_gorro_4\n",
      "28 vec_gorro_5\n",
      "29 vec_gorro_6\n",
      "30 vectores_gorro\n"
     ]
    }
   ],
   "source": [
    "for i,j in enumerate(df_cliques1.columns):\n",
    "    print(i,j)"
   ]
  },
  {
   "cell_type": "code",
   "execution_count": 87,
   "metadata": {},
   "outputs": [],
   "source": [
    "idx_rmsd1, idx_rmsd2 = 3*num_cliques, 4*num_cliques+3\n",
    "# print(list(range(idx_rmsd1,idx_rmsd2)))\n",
    "# se pasan a numpy arrays para mayor rapidez\n",
    "array_df_cliques1 = df_cliques1.values[:, range(idx_rmsd1, idx_rmsd2)] #del 9 al 15\n",
    "array_df_cliques2 = df_cliques2.values[:, range(idx_rmsd1, idx_rmsd2)]"
   ]
  },
  {
   "cell_type": "code",
   "execution_count": 88,
   "metadata": {},
   "outputs": [
    {
     "name": "stdout",
     "output_type": "stream",
     "text": [
      "43610\n"
     ]
    }
   ],
   "source": [
    "#calculo del RMSD\n",
    "print(len(candidatos_ss))"
   ]
  },
  {
   "cell_type": "code",
   "execution_count": 92,
   "metadata": {},
   "outputs": [
    {
     "name": "stdout",
     "output_type": "stream",
     "text": [
      "numero de candidatos: 17950\n",
      "numero de candidatos: 17950\n",
      "numero de candidatos: 17950\n",
      "numero de candidatos: 17950\n",
      "numero de candidatos: 17950\n",
      "numero de candidatos: 17950\n",
      "numero de candidatos: 17950\n",
      "numero de candidatos: 17950\n",
      "11.3 s ± 61.3 ms per loop (mean ± std. dev. of 7 runs, 1 loop each)\n"
     ]
    }
   ],
   "source": [
    "%%timeit\n",
    "restriccion_rmsd = 0.15\n",
    "if num_cliques == 4:\n",
    "    restriccion_rmsd = 0.30\n",
    "if num_cliques == 5:\n",
    "    restriccion_rmsd = 0.60\n",
    "if num_cliques == 7:\n",
    "    restriccion_rmsd = 1.50\n",
    "if num_cliques == 8:\n",
    "    restriccion_rmsd = 1.80\n",
    "\n",
    "candidatos = [(i, j) for i, j in candidatos_ss if fc.calculate_rmsd_rot_trans(\n",
    "    i, j, array_df_cliques1, array_df_cliques2, num_cliques) <= restriccion_rmsd]\n",
    "\n",
    "print('numero de candidatos:', len(candidatos))"
   ]
  },
  {
   "cell_type": "code",
   "execution_count": null,
   "metadata": {},
   "outputs": [],
   "source": []
  }
 ],
 "metadata": {
  "kernelspec": {
   "display_name": "Python 3",
   "language": "python",
   "name": "python3"
  },
  "language_info": {
   "codemirror_mode": {
    "name": "ipython",
    "version": 3
   },
   "file_extension": ".py",
   "mimetype": "text/x-python",
   "name": "python",
   "nbconvert_exporter": "python",
   "pygments_lexer": "ipython3",
   "version": "3.7.0"
  }
 },
 "nbformat": 4,
 "nbformat_minor": 2
}

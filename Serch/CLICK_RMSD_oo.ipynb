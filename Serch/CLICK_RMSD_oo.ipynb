{
 "cells": [
  {
   "cell_type": "markdown",
   "metadata": {},
   "source": [
    "# Pruebas de CLICK sobre start_oo.py\n",
    "Se busca probar las funciones y scripts para obtener una mayor rapidez de ejecucion. \n",
    "Basandose en la estructura como esta en start_oo.py"
   ]
  },
  {
   "cell_type": "code",
   "execution_count": 16,
   "metadata": {},
   "outputs": [],
   "source": [
    "# librerias que utilizaras\n",
    "import numpy as np\n",
    "# por si no te lee las tools o functions creadas\n",
    "import sys\n",
    "# herramientas para leer pdbs\n",
    "import read_pdb_tools as rpt\n",
    "# calculo de distancia\n",
    "from scipy.spatial.distance import pdist, squareform\n",
    "# libreria de tablas\n",
    "import pandas as pd\n",
    "# funciones de click generadas en pandas\n",
    "import funciones_CLICK as fc\n",
    "# iteradores\n",
    "import itertools as it\n",
    "# cuenta tiempo de ejecucion\n",
    "import datetime\n",
    "#distancia\n",
    "from scipy.spatial import distance\n",
    "#multiprocesamiento\n",
    "import multiprocessing\n",
    "from functools import partial"
   ]
  },
  {
   "cell_type": "code",
   "execution_count": 2,
   "metadata": {},
   "outputs": [],
   "source": [
    "# assert( len(sys.argv) > 1)\n",
    "# lectura de archivo\n",
    "file1 = '1xxa.pdb' # sys.argv[1]\n",
    "file2 = '1tig.pdb' # sys.argv[2]\n",
    "\n",
    "# numero de cliques, preguntar en el software para generalizarlo...\n",
    "num_cliques = 3\n",
    "\n",
    "# se define la estructura\n",
    "pdb1 = rpt.PdbStruct(\"first\")\n",
    "pdb2 = rpt.PdbStruct(\"second\")\n",
    "\n",
    "# se lee el pdb y se agrega al objeto\n",
    "pdb1.AddPdbData(\"%s\" % file1)\n",
    "pdb2.AddPdbData(\"%s\" % file2)\n",
    "\n",
    "# se obtienen los residuos que perteneces a la cadena de interes por default chain = 'A'\n",
    "pdb11 = pdb1.GetResChain()\n",
    "pdb22 = pdb2.GetResChain()\n",
    "\n",
    "ss1 = pdb1.Get_SS(file1)\n",
    "ss2 = pdb1.Get_SS(file2)"
   ]
  },
  {
   "cell_type": "code",
   "execution_count": 3,
   "metadata": {},
   "outputs": [],
   "source": [
    "# se crea atributo a cada residuo\n",
    "for i, j in zip(pdb11, ss1.structure.values):\n",
    "    setattr(i, 'structure', j)\n",
    "for i, j in zip(pdb22, ss2.structure.values):\n",
    "    setattr(i, 'structure', j)"
   ]
  },
  {
   "cell_type": "code",
   "execution_count": 4,
   "metadata": {},
   "outputs": [],
   "source": [
    "def get_df_distancias(ref):\n",
    "    \"\"\"Funcion para obtener el dataframe de distancias de cada proteina\"\"\"\n",
    "    # se generan listas con coordenadas y numero de atomo\n",
    "    coord = [res.GetAtom('CA').coord for res in ref]\n",
    "    index = [res.resi for res in ref]\n",
    "\n",
    "    # calcula distancia y regresa dataframe\n",
    "    distancias = []\n",
    "    # se calcula la distancia euclidiana entre cada atomo de carbon alfalfa\n",
    "    for v in coord:\n",
    "        distancia_un_atomo = []\n",
    "        for av in coord:\n",
    "            distancia = pdist(np.array([v, av]), metric='euclidean').item()\n",
    "            distancia_un_atomo.append(distancia)\n",
    "        distancias.append(distancia_un_atomo)\n",
    "\n",
    "    # se genera la matriz de adyacencias para la red\n",
    "    df_da = pd.DataFrame(index=index, columns=index, data=distancias)\n",
    "    return(df_da, index)\n",
    "\n",
    "\n",
    "df_distancias1, index1 = get_df_distancias(pdb11)\n",
    "df_distancias2, index2 = get_df_distancias(pdb22)"
   ]
  },
  {
   "cell_type": "code",
   "execution_count": 5,
   "metadata": {},
   "outputs": [
    {
     "name": "stdout",
     "output_type": "stream",
     "text": [
      "numero de cliques maximos encontrados: 158\n",
      "numero de 3-cliques posibles: 1787\n",
      "****************************************************************************************************\n",
      "numero de cliques maximos encontrados: 246\n",
      "numero de 3-cliques posibles: 2102\n",
      "****************************************************************************************************\n"
     ]
    }
   ],
   "source": [
    "# se generan cliques, tte devuleve dataframe con cliques de 3 y la lista de cliques sin partir\n",
    "df_cliques1, cliques1 = fc.gen_3_cliques(df_distancias1, dth=10, k=num_cliques)\n",
    "print('**'*50)\n",
    "df_cliques2, cliques2 = fc.gen_3_cliques(df_distancias2, dth=10, k=num_cliques)\n",
    "print('**'*50)"
   ]
  },
  {
   "cell_type": "code",
   "execution_count": 6,
   "metadata": {},
   "outputs": [],
   "source": [
    "def get_df_ca(list_of_residues):\n",
    "    \"\"\"Genera dataframe con la informacion necesaria para las siguientes funciones\n",
    "    FALTA DOCUMENTAR ESTA COSA!!!!\"\"\"\n",
    "    #crear df_ca\n",
    "    atom_number = []\n",
    "    atom_name = []\n",
    "    residue_name = []\n",
    "    residue_number = []\n",
    "    coord = []\n",
    "    for res in list_of_residues:\n",
    "        for atom in res.atoms:\n",
    "            atom_number.append(atom.atom_number)\n",
    "            atom_name.append(atom.name)\n",
    "            residue_name.append(res.resn)\n",
    "            residue_number.append(res.resi)\n",
    "            coord.append(atom.coord)\n",
    "\n",
    "    df_atoms = pd.DataFrame(columns=['atom_number', 'atom_name', 'residue_name',\n",
    "                                   'residue_number', 'vector'])\n",
    "    df_atoms.atom_number = atom_number\n",
    "    df_atoms.atom_name = atom_name\n",
    "    df_atoms.residue_name = residue_name\n",
    "    df_atoms.residue_number = residue_number\n",
    "    df_atoms.vector = coord\n",
    "\n",
    "    return(df_atoms)\n",
    "\n",
    "\n",
    "# CREAR DF_atomos_CA #\n",
    "df_atoms1 = get_df_ca(pdb11)\n",
    "df_atoms2 = get_df_ca(pdb22)"
   ]
  },
  {
   "cell_type": "code",
   "execution_count": 7,
   "metadata": {},
   "outputs": [],
   "source": [
    "# se le pega la estructura secundaria al dataframe de los cliques\n",
    "# esto va a cambiar por que lo tiene que obtener del objeto residuo\n",
    "# ya se crea en ss1 y no cuesta reevaluar si es mejor desde el residuo\n",
    "# checar que es mas rapido si desde residuo o desde dataframe ss\n",
    "df_cliques1 = fc.paste_SS(ss1, df_cliques1, num_cliques = num_cliques)\n",
    "df_cliques2 = fc.paste_SS(ss2, df_cliques2, num_cliques = num_cliques)"
   ]
  },
  {
   "cell_type": "code",
   "execution_count": 8,
   "metadata": {},
   "outputs": [],
   "source": [
    "# comparacion SSM #aqui se obtienen los candidatos posibles pasando el filtro de SS\n",
    "candidatos_ss = fc.compare_SS(df_cliques1,df_cliques2, num_cliques=num_cliques)"
   ]
  },
  {
   "cell_type": "code",
   "execution_count": 9,
   "metadata": {},
   "outputs": [],
   "source": [
    "# get coords of cliques\n",
    "df_cliques1 = fc.get_coords_clique(df_atoms1, df_cliques1, num_cliques)\n",
    "df_cliques2 = fc.get_coords_clique(df_atoms2, df_cliques2, num_cliques)"
   ]
  },
  {
   "cell_type": "code",
   "execution_count": 10,
   "metadata": {},
   "outputs": [],
   "source": [
    "# baricentro clique\n",
    "df_cliques1 = fc.baricenter_clique(df_cliques1, num_cliques)\n",
    "df_cliques2 = fc.baricenter_clique(df_cliques2, num_cliques)"
   ]
  },
  {
   "cell_type": "code",
   "execution_count": 11,
   "metadata": {},
   "outputs": [],
   "source": [
    "# vectores gorro\n",
    "df_cliques1 = fc.center_vectors(df_cliques1, num_cliques)\n",
    "df_cliques2 = fc.center_vectors(df_cliques2, num_cliques)"
   ]
  },
  {
   "cell_type": "code",
   "execution_count": 12,
   "metadata": {},
   "outputs": [
    {
     "name": "stdout",
     "output_type": "stream",
     "text": [
      "0 0\n",
      "1 1\n",
      "2 2\n",
      "3 ss_0\n",
      "4 ss_1\n",
      "5 ss_2\n",
      "6 coord_clique_0\n",
      "7 coord_clique_1\n",
      "8 coord_clique_2\n",
      "9 matriz_coordenadas\n",
      "10 baricentro_clique\n",
      "11 vec_gorro_0\n",
      "12 vec_gorro_1\n",
      "13 vec_gorro_2\n",
      "14 vectores_gorro\n"
     ]
    }
   ],
   "source": [
    "for i,j in enumerate(df_cliques1.columns):\n",
    "    print(i,j)"
   ]
  },
  {
   "cell_type": "code",
   "execution_count": 13,
   "metadata": {},
   "outputs": [],
   "source": [
    "idx_rmsd1, idx_rmsd2 = 3*num_cliques, 4*num_cliques+3\n",
    "# print(list(range(idx_rmsd1,idx_rmsd2)))\n",
    "# se pasan a numpy arrays para mayor rapidez\n",
    "array_df_cliques1 = df_cliques1.values[:, range(idx_rmsd1, idx_rmsd2)] #del 9 al 15\n",
    "array_df_cliques2 = df_cliques2.values[:, range(idx_rmsd1, idx_rmsd2)]"
   ]
  },
  {
   "cell_type": "code",
   "execution_count": 14,
   "metadata": {},
   "outputs": [
    {
     "name": "stdout",
     "output_type": "stream",
     "text": [
      "1705808\n"
     ]
    }
   ],
   "source": [
    "#calculo del RMSD\n",
    "print(len(candidatos_ss))"
   ]
  },
  {
   "cell_type": "code",
   "execution_count": 17,
   "metadata": {},
   "outputs": [],
   "source": [
    "a = (0,0,0)\n",
    "df_cliques1['distancia_promedio'] = [np.mean([distance.euclidean(a, i[0]),distance.euclidean(a, i[1]),distance.euclidean(a, i[2])]) for i in df_cliques1.vectores_gorro]\n",
    "df_cliques2['distancia_promedio'] = [np.mean([distance.euclidean(a, i[0]),distance.euclidean(a, i[1]),distance.euclidean(a, i[2])]) for i in df_cliques2.vectores_gorro]\n",
    "\n",
    "array_dist_promedio1 = df_cliques1.values[:, 15] #del 9 al 15\n",
    "array_dist_promedio2 = df_cliques2.values[:, 15]"
   ]
  },
  {
   "cell_type": "code",
   "execution_count": 18,
   "metadata": {},
   "outputs": [
    {
     "name": "stdout",
     "output_type": "stream",
     "text": [
      "1705808\n",
      "280640\n"
     ]
    }
   ],
   "source": [
    "candidatos_filter_dist = [(i, j) for i, j in candidatos_ss if (\n",
    "        array_dist_promedio1[i] - array_dist_promedio2[j] >= -0.5) & (\n",
    "        array_dist_promedio1[i] - array_dist_promedio2[j] <= 0.5)]\n",
    "\n",
    "print(len(candidatos_ss))\n",
    "print(len(candidatos_filter_dist))"
   ]
  },
  {
   "cell_type": "markdown",
   "metadata": {},
   "source": [
    "# Codigo que compara candidatos"
   ]
  },
  {
   "cell_type": "code",
   "execution_count": 19,
   "metadata": {},
   "outputs": [
    {
     "name": "stdout",
     "output_type": "stream",
     "text": [
      "CPU times: user 4 µs, sys: 0 ns, total: 4 µs\n",
      "Wall time: 5.72 µs\n"
     ]
    }
   ],
   "source": [
    "%%time\n",
    "restriccion_rmsd = 0.15\n",
    "if num_cliques == 4:\n",
    "    restriccion_rmsd = 0.30\n",
    "if num_cliques == 5:\n",
    "    restriccion_rmsd = 0.60\n",
    "if num_cliques == 7:\n",
    "    restriccion_rmsd = 1.50\n",
    "if num_cliques == 8:\n",
    "    restriccion_rmsd = 1.80"
   ]
  },
  {
   "cell_type": "markdown",
   "metadata": {},
   "source": [
    "# Haciendo MUltiprocessing"
   ]
  },
  {
   "cell_type": "code",
   "execution_count": 20,
   "metadata": {},
   "outputs": [],
   "source": [
    "p = multiprocessing.Pool(multiprocessing.cpu_count()-1)"
   ]
  },
  {
   "cell_type": "code",
   "execution_count": 21,
   "metadata": {},
   "outputs": [
    {
     "name": "stdout",
     "output_type": "stream",
     "text": [
      "CPU times: user 7.3 s, sys: 100 ms, total: 7.4 s\n",
      "Wall time: 15 s\n"
     ]
    }
   ],
   "source": [
    "%%time\n",
    "rmsd_1 = p.map(partial(fc.calculate_rmsd_rot_trans_m,  \n",
    "                    array_cliques1 = array_df_cliques1, \n",
    "                    array_cliques2 = array_df_cliques2, \n",
    "                    num_cliques = num_cliques), candidatos_filter_dist)"
   ]
  },
  {
   "cell_type": "code",
   "execution_count": 22,
   "metadata": {},
   "outputs": [
    {
     "data": {
      "text/plain": [
       "280640"
      ]
     },
     "execution_count": 22,
     "metadata": {},
     "output_type": "execute_result"
    }
   ],
   "source": [
    "len(rmsd_1)"
   ]
  },
  {
   "cell_type": "code",
   "execution_count": 33,
   "metadata": {},
   "outputs": [],
   "source": [
    "f1 = pd.DataFrame(rmsd_1)\n",
    "f1.columns = ['rmsd','candidatos']\n",
    "f1['cumple'] = np.where(f1.rmsd <= restriccion_rmsd,1,0)\n",
    "f1.shape"
   ]
  }
 ],
 "metadata": {
  "kernelspec": {
   "display_name": "Python 3",
   "language": "python",
   "name": "python3"
  },
  "language_info": {
   "codemirror_mode": {
    "name": "ipython",
    "version": 3
   },
   "file_extension": ".py",
   "mimetype": "text/x-python",
   "name": "python",
   "nbconvert_exporter": "python",
   "pygments_lexer": "ipython3",
   "version": "3.7.0"
  }
 },
 "nbformat": 4,
 "nbformat_minor": 2
}
